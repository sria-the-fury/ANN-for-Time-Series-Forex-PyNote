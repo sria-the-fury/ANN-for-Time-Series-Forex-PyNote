{
  "nbformat": 4,
  "nbformat_minor": 0,
  "metadata": {
    "colab": {
      "provenance": [],
      "authorship_tag": "ABX9TyMvgv7Jpku+UT1b8RLfoJcl"
    },
    "kernelspec": {
      "name": "python3",
      "display_name": "Python 3"
    },
    "language_info": {
      "name": "python"
    }
  },
  "cells": [
    {
      "cell_type": "markdown",
      "source": [
        "The good way to understand how the neural network learns a time series pattern without the extra noise and complexity of real financial data to approximate sinusoid."
      ],
      "metadata": {
        "id": "sNmaJ7zOeJYh"
      }
    },
    {
      "cell_type": "code",
      "source": [
        "import numpy as np\n",
        "import pandas as pd\n",
        "import tensorflow as tf\n",
        "from tensorflow.keras.models import Sequential\n",
        "from tensorflow.keras.layers import Dense, Input, Flatten\n",
        "from sklearn.preprocessing import MinMaxScaler\n",
        "from sklearn.metrics import mean_squared_error, mean_absolute_error\n",
        "import matplotlib.pyplot as plt\n",
        "import os"
      ],
      "metadata": {
        "id": "mpqyODJoeaZv"
      },
      "execution_count": 28,
      "outputs": []
    },
    {
      "cell_type": "markdown",
      "source": [
        "Now the Data generation, the number of points and the number of cycles to generate a sine wave."
      ],
      "metadata": {
        "id": "62kQSb_sel1s"
      }
    },
    {
      "cell_type": "code",
      "source": [
        "N_POINTS = 1500\n",
        "N_CYCLES = 10\n",
        "\n",
        "# The number of past time steps to use as input to predict the next time step.\n",
        "SEQUENCE_LENGTH = 50\n",
        "TRAIN_RATIO = 0.70\n",
        "VALIDATION_RATIO = 0.15"
      ],
      "metadata": {
        "id": "uk9wuBvHeg2l"
      },
      "execution_count": 29,
      "outputs": []
    },
    {
      "cell_type": "code",
      "source": [
        "RESULTS_DIR = \"sinusoid_ffnn_model_res\"\n",
        "EPOCHS = 25\n",
        "BATCH_SIZE = 32"
      ],
      "metadata": {
        "id": "tp06Xd9GfRpO"
      },
      "execution_count": 30,
      "outputs": []
    },
    {
      "cell_type": "markdown",
      "source": [
        "Generating sinusiud data, remove(comment if need for future use) noise from previous code."
      ],
      "metadata": {
        "id": "85l5FQU6foWW"
      }
    },
    {
      "cell_type": "code",
      "source": [
        "print(\"--- Generating Sinusoid Data ---\")\n",
        "# Create a time vector\n",
        "time = np.linspace(0, N_CYCLES * 2 * np.pi, N_POINTS)\n",
        "# Generate the sine wave\n",
        "sin_wave = np.sin(time)\n",
        "#small amount of random noise to make it slightly more realistic\n",
        "# noise = np.random.normal(0, 0.05, N_POINTS)\n",
        "# sin_wave_noisy = sin_wave + noise\n",
        "sin_wave_noisy = sin_wave\n",
        "\n",
        "print(f\"   Generated {N_POINTS} data points.\")\n",
        "# Return as a DataFrame\n",
        "pd.DataFrame({'Value': sin_wave_noisy})"
      ],
      "metadata": {
        "colab": {
          "base_uri": "https://localhost:8080/",
          "height": 458
        },
        "id": "ekqSNFkrgcQs",
        "outputId": "4738d51d-e95c-4979-8efb-bf8cf9ddc62c"
      },
      "execution_count": 31,
      "outputs": [
        {
          "output_type": "stream",
          "name": "stdout",
          "text": [
            "--- Generating Sinusoid Data ---\n",
            "   Generated 1500 data points.\n"
          ]
        },
        {
          "output_type": "execute_result",
          "data": {
            "text/plain": [
              "             Value\n",
              "0     0.000000e+00\n",
              "1     4.190357e-02\n",
              "2     8.373353e-02\n",
              "3     1.254164e-01\n",
              "4     1.668790e-01\n",
              "...            ...\n",
              "1495 -1.668790e-01\n",
              "1496 -1.254164e-01\n",
              "1497 -8.373353e-02\n",
              "1498 -4.190357e-02\n",
              "1499 -2.449294e-15\n",
              "\n",
              "[1500 rows x 1 columns]"
            ],
            "text/html": [
              "\n",
              "  <div id=\"df-451da360-b372-446d-93c9-91f79d86f462\" class=\"colab-df-container\">\n",
              "    <div>\n",
              "<style scoped>\n",
              "    .dataframe tbody tr th:only-of-type {\n",
              "        vertical-align: middle;\n",
              "    }\n",
              "\n",
              "    .dataframe tbody tr th {\n",
              "        vertical-align: top;\n",
              "    }\n",
              "\n",
              "    .dataframe thead th {\n",
              "        text-align: right;\n",
              "    }\n",
              "</style>\n",
              "<table border=\"1\" class=\"dataframe\">\n",
              "  <thead>\n",
              "    <tr style=\"text-align: right;\">\n",
              "      <th></th>\n",
              "      <th>Value</th>\n",
              "    </tr>\n",
              "  </thead>\n",
              "  <tbody>\n",
              "    <tr>\n",
              "      <th>0</th>\n",
              "      <td>0.000000e+00</td>\n",
              "    </tr>\n",
              "    <tr>\n",
              "      <th>1</th>\n",
              "      <td>4.190357e-02</td>\n",
              "    </tr>\n",
              "    <tr>\n",
              "      <th>2</th>\n",
              "      <td>8.373353e-02</td>\n",
              "    </tr>\n",
              "    <tr>\n",
              "      <th>3</th>\n",
              "      <td>1.254164e-01</td>\n",
              "    </tr>\n",
              "    <tr>\n",
              "      <th>4</th>\n",
              "      <td>1.668790e-01</td>\n",
              "    </tr>\n",
              "    <tr>\n",
              "      <th>...</th>\n",
              "      <td>...</td>\n",
              "    </tr>\n",
              "    <tr>\n",
              "      <th>1495</th>\n",
              "      <td>-1.668790e-01</td>\n",
              "    </tr>\n",
              "    <tr>\n",
              "      <th>1496</th>\n",
              "      <td>-1.254164e-01</td>\n",
              "    </tr>\n",
              "    <tr>\n",
              "      <th>1497</th>\n",
              "      <td>-8.373353e-02</td>\n",
              "    </tr>\n",
              "    <tr>\n",
              "      <th>1498</th>\n",
              "      <td>-4.190357e-02</td>\n",
              "    </tr>\n",
              "    <tr>\n",
              "      <th>1499</th>\n",
              "      <td>-2.449294e-15</td>\n",
              "    </tr>\n",
              "  </tbody>\n",
              "</table>\n",
              "<p>1500 rows × 1 columns</p>\n",
              "</div>\n",
              "    <div class=\"colab-df-buttons\">\n",
              "\n",
              "  <div class=\"colab-df-container\">\n",
              "    <button class=\"colab-df-convert\" onclick=\"convertToInteractive('df-451da360-b372-446d-93c9-91f79d86f462')\"\n",
              "            title=\"Convert this dataframe to an interactive table.\"\n",
              "            style=\"display:none;\">\n",
              "\n",
              "  <svg xmlns=\"http://www.w3.org/2000/svg\" height=\"24px\" viewBox=\"0 -960 960 960\">\n",
              "    <path d=\"M120-120v-720h720v720H120Zm60-500h600v-160H180v160Zm220 220h160v-160H400v160Zm0 220h160v-160H400v160ZM180-400h160v-160H180v160Zm440 0h160v-160H620v160ZM180-180h160v-160H180v160Zm440 0h160v-160H620v160Z\"/>\n",
              "  </svg>\n",
              "    </button>\n",
              "\n",
              "  <style>\n",
              "    .colab-df-container {\n",
              "      display:flex;\n",
              "      gap: 12px;\n",
              "    }\n",
              "\n",
              "    .colab-df-convert {\n",
              "      background-color: #E8F0FE;\n",
              "      border: none;\n",
              "      border-radius: 50%;\n",
              "      cursor: pointer;\n",
              "      display: none;\n",
              "      fill: #1967D2;\n",
              "      height: 32px;\n",
              "      padding: 0 0 0 0;\n",
              "      width: 32px;\n",
              "    }\n",
              "\n",
              "    .colab-df-convert:hover {\n",
              "      background-color: #E2EBFA;\n",
              "      box-shadow: 0px 1px 2px rgba(60, 64, 67, 0.3), 0px 1px 3px 1px rgba(60, 64, 67, 0.15);\n",
              "      fill: #174EA6;\n",
              "    }\n",
              "\n",
              "    .colab-df-buttons div {\n",
              "      margin-bottom: 4px;\n",
              "    }\n",
              "\n",
              "    [theme=dark] .colab-df-convert {\n",
              "      background-color: #3B4455;\n",
              "      fill: #D2E3FC;\n",
              "    }\n",
              "\n",
              "    [theme=dark] .colab-df-convert:hover {\n",
              "      background-color: #434B5C;\n",
              "      box-shadow: 0px 1px 3px 1px rgba(0, 0, 0, 0.15);\n",
              "      filter: drop-shadow(0px 1px 2px rgba(0, 0, 0, 0.3));\n",
              "      fill: #FFFFFF;\n",
              "    }\n",
              "  </style>\n",
              "\n",
              "    <script>\n",
              "      const buttonEl =\n",
              "        document.querySelector('#df-451da360-b372-446d-93c9-91f79d86f462 button.colab-df-convert');\n",
              "      buttonEl.style.display =\n",
              "        google.colab.kernel.accessAllowed ? 'block' : 'none';\n",
              "\n",
              "      async function convertToInteractive(key) {\n",
              "        const element = document.querySelector('#df-451da360-b372-446d-93c9-91f79d86f462');\n",
              "        const dataTable =\n",
              "          await google.colab.kernel.invokeFunction('convertToInteractive',\n",
              "                                                    [key], {});\n",
              "        if (!dataTable) return;\n",
              "\n",
              "        const docLinkHtml = 'Like what you see? Visit the ' +\n",
              "          '<a target=\"_blank\" href=https://colab.research.google.com/notebooks/data_table.ipynb>data table notebook</a>'\n",
              "          + ' to learn more about interactive tables.';\n",
              "        element.innerHTML = '';\n",
              "        dataTable['output_type'] = 'display_data';\n",
              "        await google.colab.output.renderOutput(dataTable, element);\n",
              "        const docLink = document.createElement('div');\n",
              "        docLink.innerHTML = docLinkHtml;\n",
              "        element.appendChild(docLink);\n",
              "      }\n",
              "    </script>\n",
              "  </div>\n",
              "\n",
              "\n",
              "    <div id=\"df-128efff8-5339-4b4a-8454-f36d9bf063c0\">\n",
              "      <button class=\"colab-df-quickchart\" onclick=\"quickchart('df-128efff8-5339-4b4a-8454-f36d9bf063c0')\"\n",
              "                title=\"Suggest charts\"\n",
              "                style=\"display:none;\">\n",
              "\n",
              "<svg xmlns=\"http://www.w3.org/2000/svg\" height=\"24px\"viewBox=\"0 0 24 24\"\n",
              "     width=\"24px\">\n",
              "    <g>\n",
              "        <path d=\"M19 3H5c-1.1 0-2 .9-2 2v14c0 1.1.9 2 2 2h14c1.1 0 2-.9 2-2V5c0-1.1-.9-2-2-2zM9 17H7v-7h2v7zm4 0h-2V7h2v10zm4 0h-2v-4h2v4z\"/>\n",
              "    </g>\n",
              "</svg>\n",
              "      </button>\n",
              "\n",
              "<style>\n",
              "  .colab-df-quickchart {\n",
              "      --bg-color: #E8F0FE;\n",
              "      --fill-color: #1967D2;\n",
              "      --hover-bg-color: #E2EBFA;\n",
              "      --hover-fill-color: #174EA6;\n",
              "      --disabled-fill-color: #AAA;\n",
              "      --disabled-bg-color: #DDD;\n",
              "  }\n",
              "\n",
              "  [theme=dark] .colab-df-quickchart {\n",
              "      --bg-color: #3B4455;\n",
              "      --fill-color: #D2E3FC;\n",
              "      --hover-bg-color: #434B5C;\n",
              "      --hover-fill-color: #FFFFFF;\n",
              "      --disabled-bg-color: #3B4455;\n",
              "      --disabled-fill-color: #666;\n",
              "  }\n",
              "\n",
              "  .colab-df-quickchart {\n",
              "    background-color: var(--bg-color);\n",
              "    border: none;\n",
              "    border-radius: 50%;\n",
              "    cursor: pointer;\n",
              "    display: none;\n",
              "    fill: var(--fill-color);\n",
              "    height: 32px;\n",
              "    padding: 0;\n",
              "    width: 32px;\n",
              "  }\n",
              "\n",
              "  .colab-df-quickchart:hover {\n",
              "    background-color: var(--hover-bg-color);\n",
              "    box-shadow: 0 1px 2px rgba(60, 64, 67, 0.3), 0 1px 3px 1px rgba(60, 64, 67, 0.15);\n",
              "    fill: var(--button-hover-fill-color);\n",
              "  }\n",
              "\n",
              "  .colab-df-quickchart-complete:disabled,\n",
              "  .colab-df-quickchart-complete:disabled:hover {\n",
              "    background-color: var(--disabled-bg-color);\n",
              "    fill: var(--disabled-fill-color);\n",
              "    box-shadow: none;\n",
              "  }\n",
              "\n",
              "  .colab-df-spinner {\n",
              "    border: 2px solid var(--fill-color);\n",
              "    border-color: transparent;\n",
              "    border-bottom-color: var(--fill-color);\n",
              "    animation:\n",
              "      spin 1s steps(1) infinite;\n",
              "  }\n",
              "\n",
              "  @keyframes spin {\n",
              "    0% {\n",
              "      border-color: transparent;\n",
              "      border-bottom-color: var(--fill-color);\n",
              "      border-left-color: var(--fill-color);\n",
              "    }\n",
              "    20% {\n",
              "      border-color: transparent;\n",
              "      border-left-color: var(--fill-color);\n",
              "      border-top-color: var(--fill-color);\n",
              "    }\n",
              "    30% {\n",
              "      border-color: transparent;\n",
              "      border-left-color: var(--fill-color);\n",
              "      border-top-color: var(--fill-color);\n",
              "      border-right-color: var(--fill-color);\n",
              "    }\n",
              "    40% {\n",
              "      border-color: transparent;\n",
              "      border-right-color: var(--fill-color);\n",
              "      border-top-color: var(--fill-color);\n",
              "    }\n",
              "    60% {\n",
              "      border-color: transparent;\n",
              "      border-right-color: var(--fill-color);\n",
              "    }\n",
              "    80% {\n",
              "      border-color: transparent;\n",
              "      border-right-color: var(--fill-color);\n",
              "      border-bottom-color: var(--fill-color);\n",
              "    }\n",
              "    90% {\n",
              "      border-color: transparent;\n",
              "      border-bottom-color: var(--fill-color);\n",
              "    }\n",
              "  }\n",
              "</style>\n",
              "\n",
              "      <script>\n",
              "        async function quickchart(key) {\n",
              "          const quickchartButtonEl =\n",
              "            document.querySelector('#' + key + ' button');\n",
              "          quickchartButtonEl.disabled = true;  // To prevent multiple clicks.\n",
              "          quickchartButtonEl.classList.add('colab-df-spinner');\n",
              "          try {\n",
              "            const charts = await google.colab.kernel.invokeFunction(\n",
              "                'suggestCharts', [key], {});\n",
              "          } catch (error) {\n",
              "            console.error('Error during call to suggestCharts:', error);\n",
              "          }\n",
              "          quickchartButtonEl.classList.remove('colab-df-spinner');\n",
              "          quickchartButtonEl.classList.add('colab-df-quickchart-complete');\n",
              "        }\n",
              "        (() => {\n",
              "          let quickchartButtonEl =\n",
              "            document.querySelector('#df-128efff8-5339-4b4a-8454-f36d9bf063c0 button');\n",
              "          quickchartButtonEl.style.display =\n",
              "            google.colab.kernel.accessAllowed ? 'block' : 'none';\n",
              "        })();\n",
              "      </script>\n",
              "    </div>\n",
              "\n",
              "    </div>\n",
              "  </div>\n"
            ],
            "application/vnd.google.colaboratory.intrinsic+json": {
              "type": "dataframe",
              "summary": "{\n  \"name\": \"pd\",\n  \"rows\": 1500,\n  \"fields\": [\n    {\n      \"column\": \"Value\",\n      \"properties\": {\n        \"dtype\": \"number\",\n        \"std\": 0.7071067811865476,\n        \"min\": -0.999999450956881,\n        \"max\": 0.9999994509568811,\n        \"num_unique_values\": 1500,\n        \"samples\": [\n          0.338954819215363,\n          0.7119066752725566,\n          -0.9172294519868603\n        ],\n        \"semantic_type\": \"\",\n        \"description\": \"\"\n      }\n    }\n  ]\n}"
            }
          },
          "metadata": {},
          "execution_count": 31
        }
      ]
    },
    {
      "cell_type": "code",
      "source": [
        "print(\"---Preparing Data for FFNN ---\")\n",
        "\n",
        "# Extract values and reshape for the scaler\n",
        "values = sin_wave_noisy.reshape(-1, 1)\n",
        "\n",
        "# Scale the data to be between 0 and 1\n",
        "scaler = MinMaxScaler(feature_range=(0, 1))\n",
        "scaled_data = scaler.fit_transform(values)\n",
        "\n",
        "# Create sequences\n",
        "X, y = [], []\n",
        "for i in range(len(scaled_data) - SEQUENCE_LENGTH-100):\n",
        "    X.append(scaled_data[i:(i + SEQUENCE_LENGTH), 0])\n",
        "    y.append(scaled_data[i + SEQUENCE_LENGTH+10, 0])\n",
        "X, y = np.array(X), np.array(y)\n",
        "\n",
        "# Use the first 1000 for training and validation, and the remaining 500 for testing\n",
        "train_val_size = 1000\n",
        "test_size = 500\n",
        "\n",
        "# Calculate the actual number of samples available after creating sequences\n",
        "available_samples = len(X)\n",
        "\n",
        "# Ensure the requested sizes do not exceed available data\n",
        "if train_val_size + test_size > available_samples:\n",
        "    print(f\"Warning: Requested split size ({train_val_size + test_size}) exceeds available data ({available_samples}). Adjusting sizes.\")\n",
        "    # Adjust sizes proportionally or as needed\n",
        "    # For this case, we'll just use all available data\n",
        "    train_val_size = int(available_samples * (train_val_size / (train_val_size + test_size)))\n",
        "    test_size = available_samples - train_val_size\n",
        "\n",
        "\n",
        "X_train_val, y_train_val = X[:train_val_size], y[:train_val_size]\n",
        "X_test, y_test = X[train_val_size:train_val_size + test_size], y[train_val_size:train_val_size + test_size]\n",
        "\n",
        "# Now split the train_val_set into training and validation\n",
        "# Use the first 800 for training and the next 200 for validation\n",
        "train_size = 800\n",
        "validation_size = 200\n",
        "\n",
        "# Ensure the requested training and validation sizes do not exceed the train_val_size\n",
        "if train_size + validation_size > len(X_train_val):\n",
        "     print(f\"Warning: Requested train/validation split size ({train_size + validation_size}) exceeds available training/validation data ({len(X_train_val)}). Adjusting sizes.\")\n",
        "     # Adjust sizes proportionally or as needed\n",
        "     train_size = int(len(X_train_val) * (train_size / (train_size + validation_size)))\n",
        "     validation_size = len(X_train_val) - train_size\n",
        "\n",
        "\n",
        "X_train, y_train = X_train_val[:train_size], y_train_val[:train_size]\n",
        "X_val, y_val = X_train_val[train_size:train_size + validation_size], y_train_val[train_size:train_size + validation_size]\n",
        "\n",
        "\n",
        "print(f\"   Training set size:   {len(X_train)} samples\")\n",
        "print(f\"   Validation set size: {len(X_val)} samples\")\n",
        "print(f\"   Test set size:       {len(X_test)} samples\")"
      ],
      "metadata": {
        "colab": {
          "base_uri": "https://localhost:8080/"
        },
        "id": "90E3x-LGhbNO",
        "outputId": "06b2e3d1-985d-47a7-f584-4bfb3d177b89"
      },
      "execution_count": 32,
      "outputs": [
        {
          "output_type": "stream",
          "name": "stdout",
          "text": [
            "---Preparing Data for FFNN ---\n",
            "Warning: Requested split size (1500) exceeds available data (1350). Adjusting sizes.\n",
            "Warning: Requested train/validation split size (1000) exceeds available training/validation data (900). Adjusting sizes.\n",
            "   Training set size:   720 samples\n",
            "   Validation set size: 180 samples\n",
            "   Test set size:       450 samples\n"
          ]
        }
      ]
    },
    {
      "cell_type": "code",
      "source": [
        "print(\"--- Building, Training, and Evaluating Model ---\")\n",
        "\n",
        "model = Sequential([\n",
        "  Input(shape=(SEQUENCE_LENGTH, 1)),\n",
        "  Flatten(),\n",
        "  Dense(64, activation='sigmoid'),\n",
        "  Dense(1, activation='linear')\n",
        "])\n",
        "model.compile(optimizer='adam', loss='mean_squared_error')\n",
        "model.summary()\n",
        "\n",
        "print(\"\\n   Training the model...\")\n",
        "model.fit(X_train, y_train, epochs=EPOCHS, batch_size=BATCH_SIZE, validation_data=(X_val, y_val), verbose=1)\n",
        "\n",
        "print(\"\\n   Evaluating model performance...\")\n",
        "loss = model.evaluate(X_test, y_test)\n",
        "print(f\"   Test loss: {loss:.4f}\")\n",
        "predictions_scaled = model.predict(X_test)\n",
        "\n",
        "# Inverse transform predictions and actuals to their original scale\n",
        "predictions_actual = scaler.inverse_transform(predictions_scaled)\n",
        "y_test_actual = scaler.inverse_transform(y_test.reshape(-1, 1))\n",
        "\n",
        "print(\"\\n   Evaluating model performance...\")\n",
        "mae = mean_absolute_error(y_test_actual, predictions_actual)\n",
        "print(f\"   Mean Absolute Error (MAE): {mae:.4f}\")"
      ],
      "metadata": {
        "colab": {
          "base_uri": "https://localhost:8080/",
          "height": 1000
        },
        "id": "iMh1AHoJ020D",
        "outputId": "b01b7959-ff0e-4dde-92f8-c0f4a059ce45"
      },
      "execution_count": 33,
      "outputs": [
        {
          "output_type": "stream",
          "name": "stdout",
          "text": [
            "--- Building, Training, and Evaluating Model ---\n"
          ]
        },
        {
          "output_type": "display_data",
          "data": {
            "text/plain": [
              "\u001b[1mModel: \"sequential_2\"\u001b[0m\n"
            ],
            "text/html": [
              "<pre style=\"white-space:pre;overflow-x:auto;line-height:normal;font-family:Menlo,'DejaVu Sans Mono',consolas,'Courier New',monospace\"><span style=\"font-weight: bold\">Model: \"sequential_2\"</span>\n",
              "</pre>\n"
            ]
          },
          "metadata": {}
        },
        {
          "output_type": "display_data",
          "data": {
            "text/plain": [
              "┏━━━━━━━━━━━━━━━━━━━━━━━━━━━━━━━━━┳━━━━━━━━━━━━━━━━━━━━━━━━┳━━━━━━━━━━━━━━━┓\n",
              "┃\u001b[1m \u001b[0m\u001b[1mLayer (type)                   \u001b[0m\u001b[1m \u001b[0m┃\u001b[1m \u001b[0m\u001b[1mOutput Shape          \u001b[0m\u001b[1m \u001b[0m┃\u001b[1m \u001b[0m\u001b[1m      Param #\u001b[0m\u001b[1m \u001b[0m┃\n",
              "┡━━━━━━━━━━━━━━━━━━━━━━━━━━━━━━━━━╇━━━━━━━━━━━━━━━━━━━━━━━━╇━━━━━━━━━━━━━━━┩\n",
              "│ flatten_2 (\u001b[38;5;33mFlatten\u001b[0m)             │ (\u001b[38;5;45mNone\u001b[0m, \u001b[38;5;34m50\u001b[0m)             │             \u001b[38;5;34m0\u001b[0m │\n",
              "├─────────────────────────────────┼────────────────────────┼───────────────┤\n",
              "│ dense_4 (\u001b[38;5;33mDense\u001b[0m)                 │ (\u001b[38;5;45mNone\u001b[0m, \u001b[38;5;34m64\u001b[0m)             │         \u001b[38;5;34m3,264\u001b[0m │\n",
              "├─────────────────────────────────┼────────────────────────┼───────────────┤\n",
              "│ dense_5 (\u001b[38;5;33mDense\u001b[0m)                 │ (\u001b[38;5;45mNone\u001b[0m, \u001b[38;5;34m1\u001b[0m)              │            \u001b[38;5;34m65\u001b[0m │\n",
              "└─────────────────────────────────┴────────────────────────┴───────────────┘\n"
            ],
            "text/html": [
              "<pre style=\"white-space:pre;overflow-x:auto;line-height:normal;font-family:Menlo,'DejaVu Sans Mono',consolas,'Courier New',monospace\">┏━━━━━━━━━━━━━━━━━━━━━━━━━━━━━━━━━┳━━━━━━━━━━━━━━━━━━━━━━━━┳━━━━━━━━━━━━━━━┓\n",
              "┃<span style=\"font-weight: bold\"> Layer (type)                    </span>┃<span style=\"font-weight: bold\"> Output Shape           </span>┃<span style=\"font-weight: bold\">       Param # </span>┃\n",
              "┡━━━━━━━━━━━━━━━━━━━━━━━━━━━━━━━━━╇━━━━━━━━━━━━━━━━━━━━━━━━╇━━━━━━━━━━━━━━━┩\n",
              "│ flatten_2 (<span style=\"color: #0087ff; text-decoration-color: #0087ff\">Flatten</span>)             │ (<span style=\"color: #00d7ff; text-decoration-color: #00d7ff\">None</span>, <span style=\"color: #00af00; text-decoration-color: #00af00\">50</span>)             │             <span style=\"color: #00af00; text-decoration-color: #00af00\">0</span> │\n",
              "├─────────────────────────────────┼────────────────────────┼───────────────┤\n",
              "│ dense_4 (<span style=\"color: #0087ff; text-decoration-color: #0087ff\">Dense</span>)                 │ (<span style=\"color: #00d7ff; text-decoration-color: #00d7ff\">None</span>, <span style=\"color: #00af00; text-decoration-color: #00af00\">64</span>)             │         <span style=\"color: #00af00; text-decoration-color: #00af00\">3,264</span> │\n",
              "├─────────────────────────────────┼────────────────────────┼───────────────┤\n",
              "│ dense_5 (<span style=\"color: #0087ff; text-decoration-color: #0087ff\">Dense</span>)                 │ (<span style=\"color: #00d7ff; text-decoration-color: #00d7ff\">None</span>, <span style=\"color: #00af00; text-decoration-color: #00af00\">1</span>)              │            <span style=\"color: #00af00; text-decoration-color: #00af00\">65</span> │\n",
              "└─────────────────────────────────┴────────────────────────┴───────────────┘\n",
              "</pre>\n"
            ]
          },
          "metadata": {}
        },
        {
          "output_type": "display_data",
          "data": {
            "text/plain": [
              "\u001b[1m Total params: \u001b[0m\u001b[38;5;34m3,329\u001b[0m (13.00 KB)\n"
            ],
            "text/html": [
              "<pre style=\"white-space:pre;overflow-x:auto;line-height:normal;font-family:Menlo,'DejaVu Sans Mono',consolas,'Courier New',monospace\"><span style=\"font-weight: bold\"> Total params: </span><span style=\"color: #00af00; text-decoration-color: #00af00\">3,329</span> (13.00 KB)\n",
              "</pre>\n"
            ]
          },
          "metadata": {}
        },
        {
          "output_type": "display_data",
          "data": {
            "text/plain": [
              "\u001b[1m Trainable params: \u001b[0m\u001b[38;5;34m3,329\u001b[0m (13.00 KB)\n"
            ],
            "text/html": [
              "<pre style=\"white-space:pre;overflow-x:auto;line-height:normal;font-family:Menlo,'DejaVu Sans Mono',consolas,'Courier New',monospace\"><span style=\"font-weight: bold\"> Trainable params: </span><span style=\"color: #00af00; text-decoration-color: #00af00\">3,329</span> (13.00 KB)\n",
              "</pre>\n"
            ]
          },
          "metadata": {}
        },
        {
          "output_type": "display_data",
          "data": {
            "text/plain": [
              "\u001b[1m Non-trainable params: \u001b[0m\u001b[38;5;34m0\u001b[0m (0.00 B)\n"
            ],
            "text/html": [
              "<pre style=\"white-space:pre;overflow-x:auto;line-height:normal;font-family:Menlo,'DejaVu Sans Mono',consolas,'Courier New',monospace\"><span style=\"font-weight: bold\"> Non-trainable params: </span><span style=\"color: #00af00; text-decoration-color: #00af00\">0</span> (0.00 B)\n",
              "</pre>\n"
            ]
          },
          "metadata": {}
        },
        {
          "output_type": "stream",
          "name": "stdout",
          "text": [
            "\n",
            "   Training the model...\n",
            "Epoch 1/25\n",
            "\u001b[1m23/23\u001b[0m \u001b[32m━━━━━━━━━━━━━━━━━━━━\u001b[0m\u001b[37m\u001b[0m \u001b[1m1s\u001b[0m 13ms/step - loss: 0.5166 - val_loss: 0.1192\n",
            "Epoch 2/25\n",
            "\u001b[1m23/23\u001b[0m \u001b[32m━━━━━━━━━━━━━━━━━━━━\u001b[0m\u001b[37m\u001b[0m \u001b[1m0s\u001b[0m 6ms/step - loss: 0.0979 - val_loss: 0.0310\n",
            "Epoch 3/25\n",
            "\u001b[1m23/23\u001b[0m \u001b[32m━━━━━━━━━━━━━━━━━━━━\u001b[0m\u001b[37m\u001b[0m \u001b[1m0s\u001b[0m 5ms/step - loss: 0.0218 - val_loss: 0.0041\n",
            "Epoch 4/25\n",
            "\u001b[1m23/23\u001b[0m \u001b[32m━━━━━━━━━━━━━━━━━━━━\u001b[0m\u001b[37m\u001b[0m \u001b[1m0s\u001b[0m 5ms/step - loss: 0.0030 - val_loss: 3.5020e-04\n",
            "Epoch 5/25\n",
            "\u001b[1m23/23\u001b[0m \u001b[32m━━━━━━━━━━━━━━━━━━━━\u001b[0m\u001b[37m\u001b[0m \u001b[1m0s\u001b[0m 5ms/step - loss: 2.7515e-04 - val_loss: 1.3611e-04\n",
            "Epoch 6/25\n",
            "\u001b[1m23/23\u001b[0m \u001b[32m━━━━━━━━━━━━━━━━━━━━\u001b[0m\u001b[37m\u001b[0m \u001b[1m0s\u001b[0m 6ms/step - loss: 1.5261e-04 - val_loss: 1.2760e-04\n",
            "Epoch 7/25\n",
            "\u001b[1m23/23\u001b[0m \u001b[32m━━━━━━━━━━━━━━━━━━━━\u001b[0m\u001b[37m\u001b[0m \u001b[1m0s\u001b[0m 5ms/step - loss: 1.3366e-04 - val_loss: 1.2337e-04\n",
            "Epoch 8/25\n",
            "\u001b[1m23/23\u001b[0m \u001b[32m━━━━━━━━━━━━━━━━━━━━\u001b[0m\u001b[37m\u001b[0m \u001b[1m0s\u001b[0m 6ms/step - loss: 1.2886e-04 - val_loss: 1.1665e-04\n",
            "Epoch 9/25\n",
            "\u001b[1m23/23\u001b[0m \u001b[32m━━━━━━━━━━━━━━━━━━━━\u001b[0m\u001b[37m\u001b[0m \u001b[1m0s\u001b[0m 6ms/step - loss: 1.2260e-04 - val_loss: 1.1138e-04\n",
            "Epoch 10/25\n",
            "\u001b[1m23/23\u001b[0m \u001b[32m━━━━━━━━━━━━━━━━━━━━\u001b[0m\u001b[37m\u001b[0m \u001b[1m0s\u001b[0m 6ms/step - loss: 1.1964e-04 - val_loss: 1.0718e-04\n",
            "Epoch 11/25\n",
            "\u001b[1m23/23\u001b[0m \u001b[32m━━━━━━━━━━━━━━━━━━━━\u001b[0m\u001b[37m\u001b[0m \u001b[1m0s\u001b[0m 5ms/step - loss: 1.1421e-04 - val_loss: 1.0218e-04\n",
            "Epoch 12/25\n",
            "\u001b[1m23/23\u001b[0m \u001b[32m━━━━━━━━━━━━━━━━━━━━\u001b[0m\u001b[37m\u001b[0m \u001b[1m0s\u001b[0m 7ms/step - loss: 1.0785e-04 - val_loss: 9.9848e-05\n",
            "Epoch 13/25\n",
            "\u001b[1m23/23\u001b[0m \u001b[32m━━━━━━━━━━━━━━━━━━━━\u001b[0m\u001b[37m\u001b[0m \u001b[1m0s\u001b[0m 6ms/step - loss: 1.0639e-04 - val_loss: 9.4665e-05\n",
            "Epoch 14/25\n",
            "\u001b[1m23/23\u001b[0m \u001b[32m━━━━━━━━━━━━━━━━━━━━\u001b[0m\u001b[37m\u001b[0m \u001b[1m0s\u001b[0m 5ms/step - loss: 1.0131e-04 - val_loss: 9.1729e-05\n",
            "Epoch 15/25\n",
            "\u001b[1m23/23\u001b[0m \u001b[32m━━━━━━━━━━━━━━━━━━━━\u001b[0m\u001b[37m\u001b[0m \u001b[1m0s\u001b[0m 5ms/step - loss: 9.6299e-05 - val_loss: 8.6090e-05\n",
            "Epoch 16/25\n",
            "\u001b[1m23/23\u001b[0m \u001b[32m━━━━━━━━━━━━━━━━━━━━\u001b[0m\u001b[37m\u001b[0m \u001b[1m0s\u001b[0m 5ms/step - loss: 9.2027e-05 - val_loss: 8.1457e-05\n",
            "Epoch 17/25\n",
            "\u001b[1m23/23\u001b[0m \u001b[32m━━━━━━━━━━━━━━━━━━━━\u001b[0m\u001b[37m\u001b[0m \u001b[1m0s\u001b[0m 5ms/step - loss: 8.6521e-05 - val_loss: 7.8707e-05\n",
            "Epoch 18/25\n",
            "\u001b[1m23/23\u001b[0m \u001b[32m━━━━━━━━━━━━━━━━━━━━\u001b[0m\u001b[37m\u001b[0m \u001b[1m0s\u001b[0m 6ms/step - loss: 8.4697e-05 - val_loss: 8.0767e-05\n",
            "Epoch 19/25\n",
            "\u001b[1m23/23\u001b[0m \u001b[32m━━━━━━━━━━━━━━━━━━━━\u001b[0m\u001b[37m\u001b[0m \u001b[1m0s\u001b[0m 6ms/step - loss: 8.0743e-05 - val_loss: 7.0329e-05\n",
            "Epoch 20/25\n",
            "\u001b[1m23/23\u001b[0m \u001b[32m━━━━━━━━━━━━━━━━━━━━\u001b[0m\u001b[37m\u001b[0m \u001b[1m0s\u001b[0m 6ms/step - loss: 7.4896e-05 - val_loss: 6.5723e-05\n",
            "Epoch 21/25\n",
            "\u001b[1m23/23\u001b[0m \u001b[32m━━━━━━━━━━━━━━━━━━━━\u001b[0m\u001b[37m\u001b[0m \u001b[1m0s\u001b[0m 6ms/step - loss: 6.8608e-05 - val_loss: 7.6707e-05\n",
            "Epoch 22/25\n",
            "\u001b[1m23/23\u001b[0m \u001b[32m━━━━━━━━━━━━━━━━━━━━\u001b[0m\u001b[37m\u001b[0m \u001b[1m0s\u001b[0m 6ms/step - loss: 7.2465e-05 - val_loss: 6.1314e-05\n",
            "Epoch 23/25\n",
            "\u001b[1m23/23\u001b[0m \u001b[32m━━━━━━━━━━━━━━━━━━━━\u001b[0m\u001b[37m\u001b[0m \u001b[1m0s\u001b[0m 6ms/step - loss: 6.0715e-05 - val_loss: 5.5661e-05\n",
            "Epoch 24/25\n",
            "\u001b[1m23/23\u001b[0m \u001b[32m━━━━━━━━━━━━━━━━━━━━\u001b[0m\u001b[37m\u001b[0m \u001b[1m0s\u001b[0m 6ms/step - loss: 5.8147e-05 - val_loss: 5.3227e-05\n",
            "Epoch 25/25\n",
            "\u001b[1m23/23\u001b[0m \u001b[32m━━━━━━━━━━━━━━━━━━━━\u001b[0m\u001b[37m\u001b[0m \u001b[1m0s\u001b[0m 6ms/step - loss: 5.7952e-05 - val_loss: 5.0455e-05\n",
            "\n",
            "   Evaluating model performance...\n",
            "\u001b[1m15/15\u001b[0m \u001b[32m━━━━━━━━━━━━━━━━━━━━\u001b[0m\u001b[37m\u001b[0m \u001b[1m0s\u001b[0m 3ms/step - loss: 5.1510e-05 \n",
            "   Test loss: 0.0001\n",
            "\u001b[1m15/15\u001b[0m \u001b[32m━━━━━━━━━━━━━━━━━━━━\u001b[0m\u001b[37m\u001b[0m \u001b[1m0s\u001b[0m 5ms/step\n",
            "\n",
            "   Evaluating model performance...\n",
            "   Mean Absolute Error (MAE): 0.0131\n"
          ]
        }
      ]
    },
    {
      "cell_type": "code",
      "source": [
        "print(\"....  Generating plot to visualize approximation...\")\n",
        "os.makedirs(RESULTS_DIR, exist_ok=True)\n",
        "plot_path = os.path.join(RESULTS_DIR, 'sinusoid_approximation.png')\n",
        "\n",
        "# Create an index for the x-axis of the plot\n",
        "test_indices = np.arange(len(y_train) + len(y_val), len(y_train) + len(y_val) + len(y_test_actual))\n",
        "\n",
        "plt.figure(figsize=(15, 7))\n",
        "plt.plot(y_test_actual, color='blue', label='Actual Sinusoid')\n",
        "plt.plot(predictions_actual, color='red', linestyle='--', label='FFNN Approximation')\n",
        "plt.title('Approximating a Sinusoid with an FFNN')\n",
        "plt.xlabel('Time Step')\n",
        "plt.ylabel('Value')\n",
        "plt.legend()\n",
        "plt.grid(True)\n",
        "plt.savefig(plot_path)\n",
        "plt.show()\n",
        "print(f\"   Plot saved to '{plot_path}'\")"
      ],
      "metadata": {
        "colab": {
          "base_uri": "https://localhost:8080/",
          "height": 658
        },
        "id": "eK6Kltel3Ij9",
        "outputId": "1d39cbcc-5d07-4c99-f990-83cd82ec83a2"
      },
      "execution_count": 34,
      "outputs": [
        {
          "output_type": "stream",
          "name": "stdout",
          "text": [
            "....  Generating plot to visualize approximation...\n"
          ]
        },
        {
          "output_type": "display_data",
          "data": {
            "text/plain": [
              "<Figure size 1500x700 with 1 Axes>"
            ],
            "image/png": "[encoded data removed]"
          },
          "metadata": {}
        },
        {
          "output_type": "stream",
          "name": "stdout",
          "text": [
            "   Plot saved to 'sinusoid_ffnn_model_res/sinusoid_approximation.png'\n"
          ]
        }
      ]
    },
    {
      "cell_type": "code",
      "metadata": {
        "colab": {
          "base_uri": "https://localhost:8080/",
          "height": 243
        },
        "id": "8eedcd4b",
        "outputId": "491b8367-dbb4-4656-e6c6-8ac78b095109"
      },
      "source": [
        "print(\"First 5 unscaled data points of y_test_actual:\")\n",
        "display(y_test_actual[:5])\n",
        "\n",
        "print(\"\\nFirst 5 unscaled data points of predictions_actual:\")\n",
        "display(predictions_actual[:5])"
      ],
      "execution_count": 35,
      "outputs": [
        {
          "output_type": "stream",
          "name": "stdout",
          "text": [
            "First 5 unscaled data points of y_test_actual:\n"
          ]
        },
        {
          "output_type": "display_data",
          "data": {
            "text/plain": [
              "array([[0.56587357],\n",
              "       [0.53082737],\n",
              "       [0.49484869],\n",
              "       [0.45800071],\n",
              "       [0.42034817]])"
            ]
          },
          "metadata": {}
        },
        {
          "output_type": "stream",
          "name": "stdout",
          "text": [
            "\n",
            "First 5 unscaled data points of predictions_actual:\n"
          ]
        },
        {
          "output_type": "display_data",
          "data": {
            "text/plain": [
              "array([[0.54766494],\n",
              "       [0.5128699 ],\n",
              "       [0.47723493],\n",
              "       [0.4408214 ],\n",
              "       [0.40369335]], dtype=float32)"
            ]
          },
          "metadata": {}
        }
      ]
    },
    {
      "cell_type": "code",
      "metadata": {
        "id": "9c87c241",
        "outputId": "187de91c-8282-482e-89f7-65288e32a283",
        "colab": {
          "base_uri": "https://localhost:8080/"
        }
      },
      "source": [
        "print(f\"Number of data points used to calculate MAE: {len(y_test_actual)}\")\n",
        "print(f\"Number of data points used to calculate MSE: {len(predictions_actual)}\")"
      ],
      "execution_count": 36,
      "outputs": [
        {
          "output_type": "stream",
          "name": "stdout",
          "text": [
            "Number of data points used to calculate MAE: 450\n",
            "Number of data points used to calculate MSE: 450\n"
          ]
        }
      ]
    },
    {
      "cell_type": "code",
      "metadata": {
        "colab": {
          "base_uri": "https://localhost:8080/"
        },
        "id": "fc7402d6",
        "outputId": "d6a5784a-5cbc-432e-9297-afb30153d478"
      },
      "source": [
        "\n",
        "# Find indices where predictions_actual is close to 1\n",
        "indices_at_1_pred = np.where(np.isclose(predictions_actual, 1, atol=0.05))[0] # Using a tolerance due to approximation\n",
        "print(\"Timestep where predictions_actual is close to 1:\", indices_at_1_pred)\n",
        "\n",
        "# Find indices where predictions_actual is close to 0\n",
        "indices_at_0_pred = np.where(np.isclose(predictions_actual, 0, atol=0.05))[0] # Using a tolerance due to approximation\n",
        "print(\"Timestep where predictions_actual is close to 0:\", indices_at_0_pred)\n",
        "\n",
        "# Find indices where y_test_actual is close to 1\n",
        "indices_at_1_actual = np.where(np.isclose(y_test_actual, 1, atol=0.05))[0] # Using a tolerance due to approximation\n",
        "print(\"Timestep where y_test_actual is close to 1:\", indices_at_1_actual)\n",
        "\n",
        "# Find indices where y_test_actual is close to 0\n",
        "indices_at_0_actual = np.where(np.isclose(y_test_actual, 0, atol=0.05))[0] # Using a tolerance due to approximation\n",
        "print(\"Timestep where y_test_actual is close to 0:\", indices_at_0_actual)\n",
        "\n",
        "\n",
        "# Find the time step of the maximum value 1 in prediction_actual\n",
        "index_of_max_actual = np.argmax(predictions_actual)\n",
        "print(f\"At {index_of_max_actual} timestep the max value close to 1 is {predictions_actual[index_of_max_actual]}\")\n"
      ],
      "execution_count": 37,
      "outputs": [
        {
          "output_type": "stream",
          "name": "stdout",
          "text": [
            "Timestep where predictions_actual is close to 1: [119 120 121 122 123 124 125 126 127 128 129 130 131 132 133 269 270 271\n",
            " 272 273 274 275 276 277 278 279 280 281 282 283 419 420 421 422 423 424\n",
            " 425 426 427 428 429 430 431 432 433]\n",
            "Timestep where predictions_actual is close to 0: [ 13  14  15  89  90 163 164 165 239 240 313 314 315 388 389 390]\n",
            "Timestep where y_test_actual is close to 1: [120 121 122 123 124 125 126 127 128 129 130 131 132 133 134 270 271 272\n",
            " 273 274 275 276 277 278 279 280 281 282 283 284 419 420 421 422 423 424\n",
            " 425 426 427 428 429 430 431 432 433 434]\n",
            "Timestep where y_test_actual is close to 0: [ 14  15  89  90 164 165 239 240 313 314 315 388 389 390]\n",
            "At 126 timestep the max value close to 1 is [0.99945813]\n"
          ]
        }
      ]
    },
    {
      "cell_type": "code",
      "metadata": {
        "colab": {
          "base_uri": "https://localhost:8080/"
        },
        "id": "dc8473cc",
        "outputId": "90d1f6ed-ed31-4911-8264-86f9a070dc65"
      },
      "source": [
        "zero_values = predictions_actual[indices_at_0_pred]\n",
        "\n",
        "# Find the index within zero_values that is closest to 0\n",
        "closest_to_zero_index_in_list = np.argmin(np.abs(zero_values))\n",
        "\n",
        "# Get the actual index from the original zero_indices list\n",
        "closest_to_zero_timestep = indices_at_0_pred[closest_to_zero_index_in_list]\n",
        "print(f\"At {closest_to_zero_timestep} timestep the value close to 0 is {predictions_actual[closest_to_zero_timestep]}\")\n"
      ],
      "execution_count": 38,
      "outputs": [
        {
          "output_type": "stream",
          "name": "stdout",
          "text": [
            "At 314 timestep the value close to 0 is [-0.00033736]\n"
          ]
        }
      ]
    }
  ]
}