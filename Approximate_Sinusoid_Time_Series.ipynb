{
 "cells": [
  {
   "cell_type": "markdown",
   "metadata": {
    "id": "sNmaJ7zOeJYh"
   },
   "source": [
    "The good way to understand how the neural network learns a time series pattern without the extra noise and complexity of real financial data to approximate sinusoid."
   ]
  },
  {
   "cell_type": "code",
   "execution_count": 1,
   "metadata": {
    "id": "mpqyODJoeaZv",
    "jupyter": {
     "is_executing": true
    }
   },
   "outputs": [
    {
     "name": "stderr",
     "output_type": "stream",
     "text": [
      "2025-10-27 16:05:32.527346: I external/local_xla/xla/tsl/cuda/cudart_stub.cc:31] Could not find cuda drivers on your machine, GPU will not be used.\n",
      "2025-10-27 16:05:32.650621: I tensorflow/core/platform/cpu_feature_guard.cc:210] This TensorFlow binary is optimized to use available CPU instructions in performance-critical operations.\n",
      "To enable the following instructions: AVX2 FMA, in other operations, rebuild TensorFlow with the appropriate compiler flags.\n",
      "2025-10-27 16:05:35.914991: I external/local_xla/xla/tsl/cuda/cudart_stub.cc:31] Could not find cuda drivers on your machine, GPU will not be used.\n"
     ]
    }
   ],
   "source": [
    "import numpy as np\n",
    "import pandas as pd\n",
    "from tensorflow.keras.models import Sequential\n",
    "from tensorflow.keras.layers import Dense, Input\n",
    "from sklearn.metrics import mean_absolute_error\n",
    "import matplotlib.pyplot as plt\n",
    "import os"
   ]
  },
  {
   "cell_type": "markdown",
   "metadata": {
    "id": "62kQSb_sel1s"
   },
   "source": [
    "Now the Data generation, the number of points and the number of cycles to generate a sine wave."
   ]
  },
  {
   "cell_type": "code",
   "execution_count": 2,
   "metadata": {
    "id": "uk9wuBvHeg2l"
   },
   "outputs": [],
   "source": [
    "N_POINTS = 1500\n",
    "N_CYCLES = 10\n",
    "\n",
    "# The number of past time steps to use as input to predict the next time step.\n",
    "SEQUENCE_LENGTH = 50\n",
    "TRAIN_RATIO = 0.70\n",
    "VALIDATION_RATIO = 0.15"
   ]
  },
  {
   "cell_type": "code",
   "execution_count": 3,
   "metadata": {
    "id": "tp06Xd9GfRpO"
   },
   "outputs": [],
   "source": [
    "RESULTS_DIR = \"sinusoid_ffnn_model_res\"\n",
    "EPOCHS = 25\n",
    "BATCH_SIZE = 32"
   ]
  },
  {
   "cell_type": "markdown",
   "metadata": {
    "id": "85l5FQU6foWW"
   },
   "source": [
    "Generating sinusiud data, remove(comment if need for future use) noise from previous code."
   ]
  },
  {
   "cell_type": "code",
   "execution_count": 4,
   "metadata": {
    "colab": {
     "base_uri": "https://localhost:8080/",
     "height": 458
    },
    "id": "ekqSNFkrgcQs",
    "outputId": "fb021d44-9ba2-437b-da71-f5faecf9fdbc"
   },
   "outputs": [
    {
     "name": "stdout",
     "output_type": "stream",
     "text": [
      "--- Generating Sinusoid Data ---\n",
      "   Generated 1500 data points.\n"
     ]
    },
    {
     "data": {
      "text/html": [
       "<div>\n",
       "<style scoped>\n",
       "    .dataframe tbody tr th:only-of-type {\n",
       "        vertical-align: middle;\n",
       "    }\n",
       "\n",
       "    .dataframe tbody tr th {\n",
       "        vertical-align: top;\n",
       "    }\n",
       "\n",
       "    .dataframe thead th {\n",
       "        text-align: right;\n",
       "    }\n",
       "</style>\n",
       "<table border=\"1\" class=\"dataframe\">\n",
       "  <thead>\n",
       "    <tr style=\"text-align: right;\">\n",
       "      <th></th>\n",
       "      <th>Value</th>\n",
       "    </tr>\n",
       "  </thead>\n",
       "  <tbody>\n",
       "    <tr>\n",
       "      <th>0</th>\n",
       "      <td>0.000000e+00</td>\n",
       "    </tr>\n",
       "    <tr>\n",
       "      <th>1</th>\n",
       "      <td>4.190357e-02</td>\n",
       "    </tr>\n",
       "    <tr>\n",
       "      <th>2</th>\n",
       "      <td>8.373353e-02</td>\n",
       "    </tr>\n",
       "    <tr>\n",
       "      <th>3</th>\n",
       "      <td>1.254164e-01</td>\n",
       "    </tr>\n",
       "    <tr>\n",
       "      <th>4</th>\n",
       "      <td>1.668790e-01</td>\n",
       "    </tr>\n",
       "    <tr>\n",
       "      <th>...</th>\n",
       "      <td>...</td>\n",
       "    </tr>\n",
       "    <tr>\n",
       "      <th>1495</th>\n",
       "      <td>-1.668790e-01</td>\n",
       "    </tr>\n",
       "    <tr>\n",
       "      <th>1496</th>\n",
       "      <td>-1.254164e-01</td>\n",
       "    </tr>\n",
       "    <tr>\n",
       "      <th>1497</th>\n",
       "      <td>-8.373353e-02</td>\n",
       "    </tr>\n",
       "    <tr>\n",
       "      <th>1498</th>\n",
       "      <td>-4.190357e-02</td>\n",
       "    </tr>\n",
       "    <tr>\n",
       "      <th>1499</th>\n",
       "      <td>-2.449294e-15</td>\n",
       "    </tr>\n",
       "  </tbody>\n",
       "</table>\n",
       "<p>1500 rows × 1 columns</p>\n",
       "</div>"
      ],
      "text/plain": [
       "             Value\n",
       "0     0.000000e+00\n",
       "1     4.190357e-02\n",
       "2     8.373353e-02\n",
       "3     1.254164e-01\n",
       "4     1.668790e-01\n",
       "...            ...\n",
       "1495 -1.668790e-01\n",
       "1496 -1.254164e-01\n",
       "1497 -8.373353e-02\n",
       "1498 -4.190357e-02\n",
       "1499 -2.449294e-15\n",
       "\n",
       "[1500 rows x 1 columns]"
      ]
     },
     "execution_count": 4,
     "metadata": {},
     "output_type": "execute_result"
    }
   ],
   "source": [
    "print(\"--- Generating Sinusoid Data ---\")\n",
    "# Create a time vector\n",
    "time = np.linspace(0, N_CYCLES * 2 * np.pi, N_POINTS)\n",
    "# Generate the sine wave\n",
    "sin_wave = np.sin(time)\n",
    "\n",
    "print(f\"   Generated {N_POINTS} data points.\")\n",
    "# Return as a DataFrame\n",
    "pd.DataFrame({'Value': sin_wave})"
   ]
  },
  {
   "cell_type": "code",
   "execution_count": 5,
   "metadata": {
    "colab": {
     "base_uri": "https://localhost:8080/"
    },
    "id": "90E3x-LGhbNO",
    "outputId": "ddcf4ff3-ce50-49ba-db69-639ecc7c269e"
   },
   "outputs": [
    {
     "name": "stdout",
     "output_type": "stream",
     "text": [
      "--- Preparing Data for FFNN ---\n",
      "   Training set size:   800 samples\n",
      "   Validation set size: 200 samples\n",
      "   Test set size:       350 samples\n"
     ]
    }
   ],
   "source": [
    "print(\"--- Preparing Data for FFNN ---\")\n",
    "\n",
    "# Prepare data\n",
    "processed_data = sin_wave.reshape(-1, 1)\n",
    "\n",
    "# Create sequences\n",
    "X, y = [], []\n",
    "for i in range(len(processed_data) - SEQUENCE_LENGTH - 100):\n",
    "    X.append(processed_data[i:(i + SEQUENCE_LENGTH), 0])\n",
    "    y.append(processed_data[i + SEQUENCE_LENGTH + 10, 0])\n",
    "X, y = np.array(X), np.array(y)\n",
    "\n",
    "# Define split sizes\n",
    "total_samples = len(X)\n",
    "train_size = 800\n",
    "val_size = 200\n",
    "test_size = 500\n",
    "\n",
    "# Calculate actual available sizes\n",
    "available_sizes = {\n",
    "    'train': min(train_size, total_samples),\n",
    "    'val': min(val_size, total_samples - train_size),\n",
    "    'test': min(test_size, total_samples - train_size - val_size)\n",
    "}\n",
    "\n",
    "# Split data\n",
    "X_train, y_train = X[:available_sizes['train']], y[:available_sizes['train']]\n",
    "X_val, y_val = X[available_sizes['train']:available_sizes['train'] + available_sizes['val']], \\\n",
    "               y[available_sizes['train']:available_sizes['train'] + available_sizes['val']]\n",
    "X_test, y_test = X[available_sizes['train'] + available_sizes['val']:available_sizes['train'] + available_sizes['val'] + available_sizes['test']], \\\n",
    "                 y[available_sizes['train'] + available_sizes['val']:available_sizes['train'] + available_sizes['val'] + available_sizes['test']]\n",
    "\n",
    "print(f\"   Training set size:   {len(X_train)} samples\")\n",
    "print(f\"   Validation set size: {len(X_val)} samples\")\n",
    "print(f\"   Test set size:       {len(X_test)} samples\")"
   ]
  },
  {
   "cell_type": "code",
   "execution_count": 13,
   "metadata": {
    "colab": {
     "base_uri": "https://localhost:8080/",
     "height": 1000
    },
    "id": "iMh1AHoJ020D",
    "outputId": "ae552b10-c010-41ac-8547-ce9c54b49154"
   },
   "outputs": [
    {
     "name": "stdout",
     "output_type": "stream",
     "text": [
      "--- Building, Training, and Evaluating Model ---\n"
     ]
    },
    {
     "data": {
      "text/html": [
       "<pre style=\"white-space:pre;overflow-x:auto;line-height:normal;font-family:Menlo,'DejaVu Sans Mono',consolas,'Courier New',monospace\"><span style=\"font-weight: bold\">Model: \"sequential_2\"</span>\n",
       "</pre>\n"
      ],
      "text/plain": [
       "\u001b[1mModel: \"sequential_2\"\u001b[0m\n"
      ]
     },
     "metadata": {},
     "output_type": "display_data"
    },
    {
     "data": {
      "text/html": [
       "<pre style=\"white-space:pre;overflow-x:auto;line-height:normal;font-family:Menlo,'DejaVu Sans Mono',consolas,'Courier New',monospace\">┏━━━━━━━━━━━━━━━━━━━━━━━━━━━━━━━━━┳━━━━━━━━━━━━━━━━━━━━━━━━┳━━━━━━━━━━━━━━━┓\n",
       "┃<span style=\"font-weight: bold\"> Layer (type)                    </span>┃<span style=\"font-weight: bold\"> Output Shape           </span>┃<span style=\"font-weight: bold\">       Param # </span>┃\n",
       "┡━━━━━━━━━━━━━━━━━━━━━━━━━━━━━━━━━╇━━━━━━━━━━━━━━━━━━━━━━━━╇━━━━━━━━━━━━━━━┩\n",
       "│ dense_4 (<span style=\"color: #0087ff; text-decoration-color: #0087ff\">Dense</span>)                 │ (<span style=\"color: #00d7ff; text-decoration-color: #00d7ff\">None</span>, <span style=\"color: #00af00; text-decoration-color: #00af00\">64</span>)             │         <span style=\"color: #00af00; text-decoration-color: #00af00\">3,264</span> │\n",
       "├─────────────────────────────────┼────────────────────────┼───────────────┤\n",
       "│ dense_5 (<span style=\"color: #0087ff; text-decoration-color: #0087ff\">Dense</span>)                 │ (<span style=\"color: #00d7ff; text-decoration-color: #00d7ff\">None</span>, <span style=\"color: #00af00; text-decoration-color: #00af00\">1</span>)              │            <span style=\"color: #00af00; text-decoration-color: #00af00\">65</span> │\n",
       "└─────────────────────────────────┴────────────────────────┴───────────────┘\n",
       "</pre>\n"
      ],
      "text/plain": [
       "┏━━━━━━━━━━━━━━━━━━━━━━━━━━━━━━━━━┳━━━━━━━━━━━━━━━━━━━━━━━━┳━━━━━━━━━━━━━━━┓\n",
       "┃\u001b[1m \u001b[0m\u001b[1mLayer (type)                   \u001b[0m\u001b[1m \u001b[0m┃\u001b[1m \u001b[0m\u001b[1mOutput Shape          \u001b[0m\u001b[1m \u001b[0m┃\u001b[1m \u001b[0m\u001b[1m      Param #\u001b[0m\u001b[1m \u001b[0m┃\n",
       "┡━━━━━━━━━━━━━━━━━━━━━━━━━━━━━━━━━╇━━━━━━━━━━━━━━━━━━━━━━━━╇━━━━━━━━━━━━━━━┩\n",
       "│ dense_4 (\u001b[38;5;33mDense\u001b[0m)                 │ (\u001b[38;5;45mNone\u001b[0m, \u001b[38;5;34m64\u001b[0m)             │         \u001b[38;5;34m3,264\u001b[0m │\n",
       "├─────────────────────────────────┼────────────────────────┼───────────────┤\n",
       "│ dense_5 (\u001b[38;5;33mDense\u001b[0m)                 │ (\u001b[38;5;45mNone\u001b[0m, \u001b[38;5;34m1\u001b[0m)              │            \u001b[38;5;34m65\u001b[0m │\n",
       "└─────────────────────────────────┴────────────────────────┴───────────────┘\n"
      ]
     },
     "metadata": {},
     "output_type": "display_data"
    },
    {
     "data": {
      "text/html": [
       "<pre style=\"white-space:pre;overflow-x:auto;line-height:normal;font-family:Menlo,'DejaVu Sans Mono',consolas,'Courier New',monospace\"><span style=\"font-weight: bold\"> Total params: </span><span style=\"color: #00af00; text-decoration-color: #00af00\">3,329</span> (13.00 KB)\n",
       "</pre>\n"
      ],
      "text/plain": [
       "\u001b[1m Total params: \u001b[0m\u001b[38;5;34m3,329\u001b[0m (13.00 KB)\n"
      ]
     },
     "metadata": {},
     "output_type": "display_data"
    },
    {
     "data": {
      "text/html": [
       "<pre style=\"white-space:pre;overflow-x:auto;line-height:normal;font-family:Menlo,'DejaVu Sans Mono',consolas,'Courier New',monospace\"><span style=\"font-weight: bold\"> Trainable params: </span><span style=\"color: #00af00; text-decoration-color: #00af00\">3,329</span> (13.00 KB)\n",
       "</pre>\n"
      ],
      "text/plain": [
       "\u001b[1m Trainable params: \u001b[0m\u001b[38;5;34m3,329\u001b[0m (13.00 KB)\n"
      ]
     },
     "metadata": {},
     "output_type": "display_data"
    },
    {
     "data": {
      "text/html": [
       "<pre style=\"white-space:pre;overflow-x:auto;line-height:normal;font-family:Menlo,'DejaVu Sans Mono',consolas,'Courier New',monospace\"><span style=\"font-weight: bold\"> Non-trainable params: </span><span style=\"color: #00af00; text-decoration-color: #00af00\">0</span> (0.00 B)\n",
       "</pre>\n"
      ],
      "text/plain": [
       "\u001b[1m Non-trainable params: \u001b[0m\u001b[38;5;34m0\u001b[0m (0.00 B)\n"
      ]
     },
     "metadata": {},
     "output_type": "display_data"
    },
    {
     "name": "stdout",
     "output_type": "stream",
     "text": [
      "\n",
      "   Training the model...\n",
      "Epoch 1/25\n",
      "\u001b[1m25/25\u001b[0m \u001b[32m━━━━━━━━━━━━━━━━━━━━\u001b[0m\u001b[37m\u001b[0m \u001b[1m4s\u001b[0m 33ms/step - loss: 0.2947 - val_loss: 0.0086\n",
      "Epoch 2/25\n",
      "\u001b[1m25/25\u001b[0m \u001b[32m━━━━━━━━━━━━━━━━━━━━\u001b[0m\u001b[37m\u001b[0m \u001b[1m0s\u001b[0m 14ms/step - loss: 0.0078 - val_loss: 0.0035\n",
      "Epoch 3/25\n",
      "\u001b[1m25/25\u001b[0m \u001b[32m━━━━━━━━━━━━━━━━━━━━\u001b[0m\u001b[37m\u001b[0m \u001b[1m0s\u001b[0m 14ms/step - loss: 0.0011 - val_loss: 4.8421e-04\n",
      "Epoch 4/25\n",
      "\u001b[1m25/25\u001b[0m \u001b[32m━━━━━━━━━━━━━━━━━━━━\u001b[0m\u001b[37m\u001b[0m \u001b[1m0s\u001b[0m 14ms/step - loss: 2.8906e-04 - val_loss: 1.9488e-04\n",
      "Epoch 5/25\n",
      "\u001b[1m25/25\u001b[0m \u001b[32m━━━━━━━━━━━━━━━━━━━━\u001b[0m\u001b[37m\u001b[0m \u001b[1m1s\u001b[0m 21ms/step - loss: 1.7433e-04 - val_loss: 1.5401e-04\n",
      "Epoch 6/25\n",
      "\u001b[1m25/25\u001b[0m \u001b[32m━━━━━━━━━━━━━━━━━━━━\u001b[0m\u001b[37m\u001b[0m \u001b[1m1s\u001b[0m 27ms/step - loss: 1.4501e-04 - val_loss: 1.4065e-04\n",
      "Epoch 7/25\n",
      "\u001b[1m25/25\u001b[0m \u001b[32m━━━━━━━━━━━━━━━━━━━━\u001b[0m\u001b[37m\u001b[0m \u001b[1m1s\u001b[0m 22ms/step - loss: 1.2475e-04 - val_loss: 1.1567e-04\n",
      "Epoch 8/25\n",
      "\u001b[1m25/25\u001b[0m \u001b[32m━━━━━━━━━━━━━━━━━━━━\u001b[0m\u001b[37m\u001b[0m \u001b[1m1s\u001b[0m 32ms/step - loss: 1.0696e-04 - val_loss: 9.5898e-05\n",
      "Epoch 9/25\n",
      "\u001b[1m25/25\u001b[0m \u001b[32m━━━━━━━━━━━━━━━━━━━━\u001b[0m\u001b[37m\u001b[0m \u001b[1m1s\u001b[0m 26ms/step - loss: 8.9425e-05 - val_loss: 7.8129e-05\n",
      "Epoch 10/25\n",
      "\u001b[1m25/25\u001b[0m \u001b[32m━━━━━━━━━━━━━━━━━━━━\u001b[0m\u001b[37m\u001b[0m \u001b[1m1s\u001b[0m 31ms/step - loss: 7.2798e-05 - val_loss: 6.5498e-05\n",
      "Epoch 11/25\n",
      "\u001b[1m25/25\u001b[0m \u001b[32m━━━━━━━━━━━━━━━━━━━━\u001b[0m\u001b[37m\u001b[0m \u001b[1m1s\u001b[0m 37ms/step - loss: 6.0391e-05 - val_loss: 5.2872e-05\n",
      "Epoch 12/25\n",
      "\u001b[1m25/25\u001b[0m \u001b[32m━━━━━━━━━━━━━━━━━━━━\u001b[0m\u001b[37m\u001b[0m \u001b[1m1s\u001b[0m 43ms/step - loss: 4.9737e-05 - val_loss: 4.4401e-05\n",
      "Epoch 13/25\n",
      "\u001b[1m25/25\u001b[0m \u001b[32m━━━━━━━━━━━━━━━━━━━━\u001b[0m\u001b[37m\u001b[0m \u001b[1m1s\u001b[0m 21ms/step - loss: 4.1036e-05 - val_loss: 3.5226e-05\n",
      "Epoch 14/25\n",
      "\u001b[1m25/25\u001b[0m \u001b[32m━━━━━━━━━━━━━━━━━━━━\u001b[0m\u001b[37m\u001b[0m \u001b[1m1s\u001b[0m 15ms/step - loss: 3.1380e-05 - val_loss: 2.6920e-05\n",
      "Epoch 15/25\n",
      "\u001b[1m25/25\u001b[0m \u001b[32m━━━━━━━━━━━━━━━━━━━━\u001b[0m\u001b[37m\u001b[0m \u001b[1m1s\u001b[0m 28ms/step - loss: 2.5074e-05 - val_loss: 2.2133e-05\n",
      "Epoch 16/25\n",
      "\u001b[1m25/25\u001b[0m \u001b[32m━━━━━━━━━━━━━━━━━━━━\u001b[0m\u001b[37m\u001b[0m \u001b[1m1s\u001b[0m 25ms/step - loss: 2.0053e-05 - val_loss: 1.7530e-05\n",
      "Epoch 17/25\n",
      "\u001b[1m25/25\u001b[0m \u001b[32m━━━━━━━━━━━━━━━━━━━━\u001b[0m\u001b[37m\u001b[0m \u001b[1m1s\u001b[0m 34ms/step - loss: 1.5852e-05 - val_loss: 1.3689e-05\n",
      "Epoch 18/25\n",
      "\u001b[1m25/25\u001b[0m \u001b[32m━━━━━━━━━━━━━━━━━━━━\u001b[0m\u001b[37m\u001b[0m \u001b[1m1s\u001b[0m 22ms/step - loss: 1.2337e-05 - val_loss: 1.0303e-05\n",
      "Epoch 19/25\n",
      "\u001b[1m25/25\u001b[0m \u001b[32m━━━━━━━━━━━━━━━━━━━━\u001b[0m\u001b[37m\u001b[0m \u001b[1m1s\u001b[0m 26ms/step - loss: 9.7417e-06 - val_loss: 8.7420e-06\n",
      "Epoch 20/25\n",
      "\u001b[1m25/25\u001b[0m \u001b[32m━━━━━━━━━━━━━━━━━━━━\u001b[0m\u001b[37m\u001b[0m \u001b[1m1s\u001b[0m 18ms/step - loss: 7.5292e-06 - val_loss: 6.2825e-06\n",
      "Epoch 21/25\n",
      "\u001b[1m25/25\u001b[0m \u001b[32m━━━━━━━━━━━━━━━━━━━━\u001b[0m\u001b[37m\u001b[0m \u001b[1m1s\u001b[0m 24ms/step - loss: 5.8981e-06 - val_loss: 5.0543e-06\n",
      "Epoch 22/25\n",
      "\u001b[1m25/25\u001b[0m \u001b[32m━━━━━━━━━━━━━━━━━━━━\u001b[0m\u001b[37m\u001b[0m \u001b[1m0s\u001b[0m 16ms/step - loss: 4.6111e-06 - val_loss: 3.8407e-06\n",
      "Epoch 23/25\n",
      "\u001b[1m25/25\u001b[0m \u001b[32m━━━━━━━━━━━━━━━━━━━━\u001b[0m\u001b[37m\u001b[0m \u001b[1m1s\u001b[0m 15ms/step - loss: 3.8275e-06 - val_loss: 3.0738e-06\n",
      "Epoch 24/25\n",
      "\u001b[1m25/25\u001b[0m \u001b[32m━━━━━━━━━━━━━━━━━━━━\u001b[0m\u001b[37m\u001b[0m \u001b[1m1s\u001b[0m 15ms/step - loss: 2.8225e-06 - val_loss: 2.4403e-06\n",
      "Epoch 25/25\n",
      "\u001b[1m25/25\u001b[0m \u001b[32m━━━━━━━━━━━━━━━━━━━━\u001b[0m\u001b[37m\u001b[0m \u001b[1m1s\u001b[0m 25ms/step - loss: 2.3330e-06 - val_loss: 1.9939e-06\n",
      "\n",
      "   Evaluating model performance...\n",
      "\u001b[1m11/11\u001b[0m \u001b[32m━━━━━━━━━━━━━━━━━━━━\u001b[0m\u001b[37m\u001b[0m \u001b[1m0s\u001b[0m 11ms/step - loss: 1.9706e-06\n",
      "   Test loss: 0.0000\n",
      "\u001b[1m11/11\u001b[0m \u001b[32m━━━━━━━━━━━━━━━━━━━━\u001b[0m\u001b[37m\u001b[0m \u001b[1m0s\u001b[0m 13ms/step\n",
      "\n",
      "   Evaluating model performance...\n",
      "   Mean Absolute Error (MAE): 0.0012\n"
     ]
    }
   ],
   "source": [
    "print(\"--- Building, Training, and Evaluating Model ---\")\n",
    "\n",
    "model = Sequential([\n",
    "  Input(shape=(SEQUENCE_LENGTH,)),\n",
    "  Dense(64, activation='sigmoid'),\n",
    "  Dense(1, activation='linear')\n",
    "])\n",
    "model.compile(optimizer='adam', loss='mse')\n",
    "model.summary()\n",
    "\n",
    "print(\"\\n   Training the model...\")\n",
    "model.fit(X_train, y_train, epochs=EPOCHS, batch_size=BATCH_SIZE, validation_data=(X_val, y_val), verbose=1)\n",
    "\n",
    "print(\"\\n   Evaluating model performance...\")\n",
    "loss = model.evaluate(X_test, y_test)\n",
    "print(f\"   Test loss: {loss:.4f}\")\n",
    "predictions_actual = model.predict(X_test)\n",
    "\n",
    "y_test_actual = y_test.reshape(-1, 1)\n",
    "\n",
    "\n",
    "print(\"\\n   Evaluating model performance...\")\n",
    "mae = mean_absolute_error(y_test_actual, predictions_actual)\n",
    "print(f\"   Mean Absolute Error (MAE): {mae:.4f}\")"
   ]
  },
  {
   "cell_type": "code",
   "execution_count": 7,
   "metadata": {
    "colab": {
     "base_uri": "https://localhost:8080/",
     "height": 658
    },
    "id": "eK6Kltel3Ij9",
    "outputId": "02643b9e-5cd2-45c1-e97e-d2b22a958251"
   },
   "outputs": [
    {
     "name": "stdout",
     "output_type": "stream",
     "text": [
      "....  Generating plot to visualize approximation...\n"
     ]
    },
    {
     "data": {
      "image/png": "[encoded data removed]",
      "text/plain": [
       "<Figure size 1500x700 with 1 Axes>"
      ]
     },
     "metadata": {},
     "output_type": "display_data"
    },
    {
     "name": "stdout",
     "output_type": "stream",
     "text": [
      "   Plot saved to 'sinusoid_ffnn_model_res/sinusoid_approximation.png'\n"
     ]
    }
   ],
   "source": [
    "print(\"....  Generating plot to visualize approximation...\")\n",
    "os.makedirs(RESULTS_DIR, exist_ok=True)\n",
    "plot_path = os.path.join(RESULTS_DIR, 'sinusoid_approximation.png')\n",
    "\n",
    "# Create an index for the x-axis of the plot\n",
    "test_indices = np.arange(len(y_train) + len(y_val), len(y_train) + len(y_val) + len(y_test_actual))\n",
    "\n",
    "plt.figure(figsize=(15, 7))\n",
    "plt.plot(y_test_actual, color='blue', label='Actual Sinusoid')\n",
    "plt.plot(predictions_actual, color='red', linestyle='--', label='FFNN Approximation')\n",
    "plt.title('Approximating a Sinusoid with an FFNN')\n",
    "plt.xlabel('Time Step')\n",
    "plt.ylabel('Value')\n",
    "plt.legend()\n",
    "plt.grid(True)\n",
    "plt.savefig(plot_path)\n",
    "plt.show()\n",
    "print(f\"   Plot saved to '{plot_path}'\")"
   ]
  },
  {
   "cell_type": "code",
   "execution_count": 8,
   "metadata": {
    "colab": {
     "base_uri": "https://localhost:8080/",
     "height": 243
    },
    "id": "8eedcd4b",
    "outputId": "a37c1442-e7c1-4229-d8fd-dc02c450be76"
   },
   "outputs": [
    {
     "name": "stdout",
     "output_type": "stream",
     "text": [
      "First 5 data points of y_test_actual:\n"
     ]
    },
    {
     "data": {
      "text/plain": [
       "array([[0.43361397],\n",
       "       [0.47099237],\n",
       "       [0.50754338],\n",
       "       [0.5432028 ],\n",
       "       [0.57790799]])"
      ]
     },
     "metadata": {},
     "output_type": "display_data"
    },
    {
     "name": "stdout",
     "output_type": "stream",
     "text": [
      "\n",
      "First 5 data points of predictions_actual:\n"
     ]
    },
    {
     "data": {
      "text/plain": [
       "array([[0.43343425],\n",
       "       [0.47077107],\n",
       "       [0.50727206],\n",
       "       [0.5428742 ],\n",
       "       [0.5775166 ]], dtype=float32)"
      ]
     },
     "metadata": {},
     "output_type": "display_data"
    }
   ],
   "source": [
    "print(\"First 5 data points of y_test_actual:\")\n",
    "display(y_test_actual[:5])\n",
    "\n",
    "print(\"\\nFirst 5 data points of predictions_actual:\")\n",
    "display(predictions_actual[:5])"
   ]
  },
  {
   "cell_type": "code",
   "execution_count": 9,
   "metadata": {
    "colab": {
     "base_uri": "https://localhost:8080/"
    },
    "id": "9c87c241",
    "outputId": "f5f04444-abed-473a-fec2-9f47c2c9703b"
   },
   "outputs": [
    {
     "name": "stdout",
     "output_type": "stream",
     "text": [
      "Number of data points used to calculate MAE: 350\n",
      "Number of data points used to calculate MSE: 350\n"
     ]
    }
   ],
   "source": [
    "print(f\"Number of data points used to calculate MAE: {len(y_test_actual)}\")\n",
    "print(f\"Number of data points used to calculate MSE: {len(predictions_actual)}\")"
   ]
  },
  {
   "cell_type": "code",
   "execution_count": 10,
   "metadata": {
    "colab": {
     "base_uri": "https://localhost:8080/"
    },
    "id": "fc7402d6",
    "outputId": "6f530fab-01e1-47d7-de34-f8be185df353"
   },
   "outputs": [
    {
     "name": "stdout",
     "output_type": "stream",
     "text": [
      "Timestep where predictions_actual is close to 1: [ 20  21  22  23  24  25  26  27  28  29  30  31  32  33  34 170 171 172\n",
      " 173 174 175 176 177 178 179 180 181 182 183 184 320 321 322 323 324 325\n",
      " 326 327 328 329 330 331 332 333 334]\n",
      "Timestep where predictions_actual is close to 0: [ 64  65 139 140 213 214 215 288 289 290]\n",
      "Timestep where y_test_actual is close to 1: [ 20  21  22  23  24  25  26  27  28  29  30  31  32  33  34 170 171 172\n",
      " 173 174 175 176 177 178 179 180 181 182 183 184 319 320 321 322 323 324\n",
      " 325 326 327 328 329 330 331 332 333 334]\n",
      "Timestep where y_test_actual is close to 0: [ 64  65 139 140 213 214 215 288 289 290]\n",
      "At 27 timestep the max value close to 1 is [1.0012659]\n"
     ]
    }
   ],
   "source": [
    "# Find indices where predictions_actual is close to 1\n",
    "indices_at_1_pred = np.where(np.isclose(predictions_actual, 1, atol=0.05))[0] # Using a tolerance due to approximation\n",
    "print(\"Timestep where predictions_actual is close to 1:\", indices_at_1_pred)\n",
    "\n",
    "# Find indices where predictions_actual is close to 0\n",
    "indices_at_0_pred = np.where(np.isclose(predictions_actual, 0, atol=0.05))[0] # Using a tolerance due to approximation\n",
    "print(\"Timestep where predictions_actual is close to 0:\", indices_at_0_pred)\n",
    "\n",
    "# Find indices where y_test_actual is close to 1\n",
    "indices_at_1_actual = np.where(np.isclose(y_test_actual, 1, atol=0.05))[0] # Using a tolerance due to approximation\n",
    "print(\"Timestep where y_test_actual is close to 1:\", indices_at_1_actual)\n",
    "\n",
    "# Find indices where y_test_actual is close to 0\n",
    "indices_at_0_actual = np.where(np.isclose(y_test_actual, 0, atol=0.05))[0] # Using a tolerance due to approximation\n",
    "print(\"Timestep where y_test_actual is close to 0:\", indices_at_0_actual)\n",
    "\n",
    "\n",
    "# Find the time step of the maximum value 1 in prediction_actual\n",
    "index_of_max_actual = np.argmax(predictions_actual)\n",
    "print(f\"At {index_of_max_actual} timestep the max value close to 1 is {predictions_actual[index_of_max_actual]}\")"
   ]
  },
  {
   "cell_type": "code",
   "execution_count": 11,
   "metadata": {
    "colab": {
     "base_uri": "https://localhost:8080/"
    },
    "id": "dc8473cc",
    "outputId": "0c226947-0f56-426d-8678-c072da067df0"
   },
   "outputs": [
    {
     "name": "stdout",
     "output_type": "stream",
     "text": [
      "At 289 timestep the value close to 0 is [-0.0042854]\n"
     ]
    }
   ],
   "source": [
    "zero_values = predictions_actual[indices_at_0_pred]\n",
    "\n",
    "# Find the index within zero_values that is closest to 0\n",
    "closest_to_zero_index_in_list = np.argmin(np.abs(zero_values))\n",
    "\n",
    "# Get the actual index from the original zero_indices list\n",
    "closest_to_zero_timestep = indices_at_0_pred[closest_to_zero_index_in_list]\n",
    "print(f\"At {closest_to_zero_timestep} timestep the value close to 0 is {predictions_actual[closest_to_zero_timestep]}\")"
   ]
  }
 ],
 "metadata": {
  "colab": {
   "authorship_tag": "ABX9TyPoUUoqxtBHSgwX+IRkyTUF",
   "provenance": []
  },
  "kernelspec": {
   "display_name": "Python 3 (ipykernel)",
   "language": "python",
   "name": "python3"
  },
  "language_info": {
   "codemirror_mode": {
    "name": "ipython",
    "version": 3
   },
   "file_extension": ".py",
   "mimetype": "text/x-python",
   "name": "python",
   "nbconvert_exporter": "python",
   "pygments_lexer": "ipython3",
   "version": "3.12.3"
  }
 },
 "nbformat": 4,
 "nbformat_minor": 4
}
