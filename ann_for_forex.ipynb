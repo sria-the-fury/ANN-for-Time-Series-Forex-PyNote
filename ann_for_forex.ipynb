{
  "metadata": {
    "kernelspec": {
      "name": "python3",
      "display_name": "Python 3"
    },
    "language_info": {
      "version": "3.x",
      "name": "python"
    },
    "colab": {
      "provenance": []
    }
  },
  "nbformat_minor": 0,
  "nbformat": 4,
  "cells": [
    {
      "metadata": {
        "scrolled": "auto",
        "collapsed": false,
        "tags": [],
        "id": "sVNimZPi1iyS"
      },
      "source": [
        "This notebook is an experiment to create an ANN model, especially **Feed-Forward Neural Network** for predicting the closing price of EURUSD based on daily closing price\n"
      ],
      "cell_type": "markdown"
    },
    {
      "source": [
        "#Necessary Imports\n",
        "import pandas as pd\n",
        "import numpy as np\n",
        "import yfinance as yf\n",
        "import os\n",
        "from datetime import date\n",
        "\n"
      ],
      "cell_type": "code",
      "metadata": {
        "tags": [],
        "scrolled": "auto",
        "id": "tvHUqYTy1iyV"
      },
      "outputs": [],
      "execution_count": 1
    },
    {
      "cell_type": "markdown",
      "source": [
        "Though I mentioned in my paper, I will use the date from https://forexsb.com/historical-forex-data. I feel using this data, will be a time comsuming  becaue eveytime, I need to donwnload it and clean for the model. And python script does not work to download. So, it is best to use **yfinance** package for the time series forex data for EUR-USD."
      ],
      "metadata": {
        "id": "O8iUiRj_6n8f"
      }
    },
    {
      "cell_type": "code",
      "source": [
        "#Download Dataset\n",
        "TICKER = \"EURUSD=X\"\n",
        "RANGE_FROM = \"2015-01-01\"\n",
        "RANGE_TO = date.today().isoformat() #Data will be download till current day.\n",
        "\n",
        "SAVE_DIRECTIRY = \"forex_data\"\n",
        "FILE_NAME = \"eurusd_daily.csv\"\n",
        "\n",
        "def download_data(ticker, start, end, savePath):\n",
        "  print(f\"Downloading Data for EUR-USD from {RANGE_FROM} to {RANGE_TO}\")\n",
        "  try:\n",
        "    data = yf.download(ticker, start= start, end=end, progress= True)\n",
        "\n",
        "    if data.empty:\n",
        "      print(f\"No data found for the {TICKER}\")\n",
        "    else:\n",
        "      print(\"Successfully downloaded\")\n",
        "      os.makedirs(os.path.dirname(savePath), exist_ok=True)\n",
        "      data.to_csv(savePath)\n",
        "      print(\"Date saved\")\n",
        "\n",
        "  except Exception as e:\n",
        "    print(f\"An unexpected error: {e}\")\n",
        "\n",
        "\n",
        "full_save_path = os.path.join(SAVE_DIRECTIRY, FILE_NAME)\n",
        "download_data(TICKER, RANGE_FROM, RANGE_TO, full_save_path)\n"
      ],
      "metadata": {
        "id": "oO9GVad46X2p",
        "outputId": "beb08f2a-a98f-47da-f2c9-40ee17e886c9",
        "colab": {
          "base_uri": "https://localhost:8080/"
        }
      },
      "execution_count": 2,
      "outputs": [
        {
          "output_type": "stream",
          "name": "stdout",
          "text": [
            "Downloading Data for EUR-USD from 2015-01-01 to 2025-07-13\n"
          ]
        },
        {
          "output_type": "stream",
          "name": "stderr",
          "text": [
            "/tmp/ipython-input-2-341652406.py:12: FutureWarning: YF.download() has changed argument auto_adjust default to True\n",
            "  data = yf.download(ticker, start= start, end=end, progress= True)\n",
            "[*********************100%***********************]  1 of 1 completed"
          ]
        },
        {
          "output_type": "stream",
          "name": "stdout",
          "text": [
            "Successfully downloaded\n",
            "Date saved\n"
          ]
        },
        {
          "output_type": "stream",
          "name": "stderr",
          "text": [
            "\n"
          ]
        }
      ]
    },
    {
      "cell_type": "code",
      "source": [
        "#load csv and view from directory\n",
        "if os.path.exists(full_save_path):\n",
        "  forex_df = pd.read_csv(full_save_path, skiprows=3, header=None)\n",
        "else:\n",
        "  print(\"File not found\")\n",
        "\n",
        "#Cleaning Dataset. Remove every other column except Date and Close\n",
        "forex_df.columns = ['Date', 'Close', 'High', 'Low', 'Open', 'Volume']\n",
        "forex_df.columns = forex_df.columns.str.replace(' ','')\n",
        "forex_df.drop(columns=['High', 'Low', 'Open', 'Volume'], inplace=True)\n",
        "\n",
        "\n",
        "print(forex_df.tail())"
      ],
      "metadata": {
        "id": "l1GSf-o0FRkE",
        "outputId": "621a0187-1e3e-4bbc-bf0b-0420d27bf430",
        "colab": {
          "base_uri": "https://localhost:8080/"
        }
      },
      "execution_count": 37,
      "outputs": [
        {
          "output_type": "stream",
          "name": "stdout",
          "text": [
            "            Date     Close\n",
            "2736  2025-07-07  1.178078\n",
            "2737  2025-07-08  1.173654\n",
            "2738  2025-07-09  1.172457\n",
            "2739  2025-07-10  1.173117\n",
            "2740  2025-07-11  1.170275\n"
          ]
        }
      ]
    },
    {
      "cell_type": "markdown",
      "source": [
        "Data Preparation for Feed-Forward neural Network"
      ],
      "metadata": {
        "id": "BfcsVrYhzRMZ"
      }
    },
    {
      "cell_type": "code",
      "source": [
        "from sklearn.preprocessing import MinMaxScaler\n",
        "closing_prices = forex_df['Close'].values.reshape(-1, 1)\n",
        "scaler = MinMaxScaler(feature_range=(0, 1))\n",
        "scaled_prices = scaler.fit_transform(closing_prices)"
      ],
      "metadata": {
        "id": "YjzVBFMCzgud"
      },
      "execution_count": 41,
      "outputs": []
    },
    {
      "cell_type": "code",
      "source": [
        "SEQUENCE_LENGTH = 30\n",
        "TRAIN_SPLIT = 0.7\n",
        "VALIDATION_SPLIT = 0.15\n",
        "TEST_SPLIT = 1 - TRAIN_SPLIT - VALIDATION_SPLIT\n",
        "\n",
        "X, y = [], []\n",
        "for i in range(len(scaled_prices) - SEQUENCE_LENGTH):\n",
        "  X.append(scaled_prices[i:i+SEQUENCE_LENGTH])\n",
        "  y.append(scaled_prices[i+SEQUENCE_LENGTH])\n",
        "\n",
        "X = np.array(X)\n",
        "y = np.array(y)\n",
        "\n",
        "print(f\"Created {len(X)} seq len {SEQUENCE_LENGTH}\")\n",
        "\n",
        "train_size = int(TRAIN_SPLIT * len(X))\n",
        "val_size = int(VALIDATION_SPLIT * len(X))\n",
        "test_size = len(X) - train_size - val_size\n",
        "\n",
        "X_train, y_train = X[:train_size], y[:train_size]\n",
        "X_val, y_val = X[train_size:train_size+val_size], y[train_size:train_size+val_size]\n",
        "X_test, y_test = X[-test_size:], y[-test_size:]\n",
        "\n",
        "print(f\"Train Size: {len(X_train)}\")\n",
        "print(f\"Validation Size: {len(X_val)}\")\n",
        "print(f\"Test Size: {len(X_test)}\")\n",
        "\n",
        "#Saving Datasets\n",
        "SAVE_SETS_DIR = \"prepared_sets\"\n",
        "os.makedirs(SAVE_SETS_DIR, exist_ok=True)\n",
        "np.save(os.path.join(SAVE_SETS_DIR, \"X_train.npy\"), X_train)\n",
        "np.save(os.path.join(SAVE_SETS_DIR, \"y_train.npy\"), y_train)\n",
        "np.save(os.path.join(SAVE_SETS_DIR, \"X_val.npy\"), X_val)\n",
        "np.save(os.path.join(SAVE_SETS_DIR, \"y_val.npy\"), y_val)\n",
        "np.save(os.path.join(SAVE_SETS_DIR, \"X_test.npy\"), X_test)\n",
        "np.save(os.path.join(SAVE_SETS_DIR, \"y_test.npy\"), y_test)\n"
      ],
      "metadata": {
        "id": "nDv3F4UB01KZ",
        "outputId": "20881ab7-13d3-4750-9a1c-f8803f31578c",
        "colab": {
          "base_uri": "https://localhost:8080/"
        }
      },
      "execution_count": 42,
      "outputs": [
        {
          "output_type": "stream",
          "name": "stdout",
          "text": [
            "Created 2711 seq len 30\n",
            "Train Size: 1897\n",
            "Validation Size: 406\n",
            "Test Size: 408\n"
          ]
        }
      ]
    },
    {
      "cell_type": "code",
      "source": [
        "from tensorflow.keras.models import Sequential\n",
        "from tensorflow.keras.layers import Dense, Input, Flatten\n",
        "\n",
        "#Creating Model\n",
        "EPOCHS = 50\n",
        "BATCH_SIZE = 32\n",
        "\n",
        "X_train = np.load(os.path.join(SAVE_SETS_DIR, \"X_train.npy\"))\n",
        "y_train = np.load(os.path.join(SAVE_SETS_DIR, \"y_train.npy\"))\n",
        "X_val = np.load(os.path.join(SAVE_SETS_DIR, \"X_val.npy\"))\n",
        "y_val = np.load(os.path.join(SAVE_SETS_DIR, \"y_val.npy\"))\n",
        "X_test = np.load(os.path.join(SAVE_SETS_DIR, \"X_test.npy\"))\n",
        "y_test = np.load(os.path.join(SAVE_SETS_DIR, \"y_test.npy\"))\n",
        "\n",
        "MODEL = Sequential(\n",
        "    [\n",
        "        Input(shape=(SEQUENCE_LENGTH, 1)),\n",
        "        Flatten(),  # Flatten the input to feed into Dense layers\n",
        "        Dense(64, activation='sigmoid'),\n",
        "        Dense(1, activation ='linear')\n",
        "    ]\n",
        ")\n",
        "\n",
        "MODEL.compile(optimizer='adam', loss='mse', metrics=['mae'])\n",
        "MODEL.summary()"
      ],
      "metadata": {
        "colab": {
          "base_uri": "https://localhost:8080/",
          "height": 238
        },
        "id": "mqhDDI-gZM1_",
        "outputId": "1e390d0d-0c2c-40e8-b67f-638494eb454a"
      },
      "execution_count": 46,
      "outputs": [
        {
          "output_type": "display_data",
          "data": {
            "text/plain": [
              "\u001b[1mModel: \"sequential_3\"\u001b[0m\n"
            ],
            "text/html": [
              "<pre style=\"white-space:pre;overflow-x:auto;line-height:normal;font-family:Menlo,'DejaVu Sans Mono',consolas,'Courier New',monospace\"><span style=\"font-weight: bold\">Model: \"sequential_3\"</span>\n",
              "</pre>\n"
            ]
          },
          "metadata": {}
        },
        {
          "output_type": "display_data",
          "data": {
            "text/plain": [
              "┏━━━━━━━━━━━━━━━━━━━━━━━━━━━━━━━━━┳━━━━━━━━━━━━━━━━━━━━━━━━┳━━━━━━━━━━━━━━━┓\n",
              "┃\u001b[1m \u001b[0m\u001b[1mLayer (type)                   \u001b[0m\u001b[1m \u001b[0m┃\u001b[1m \u001b[0m\u001b[1mOutput Shape          \u001b[0m\u001b[1m \u001b[0m┃\u001b[1m \u001b[0m\u001b[1m      Param #\u001b[0m\u001b[1m \u001b[0m┃\n",
              "┡━━━━━━━━━━━━━━━━━━━━━━━━━━━━━━━━━╇━━━━━━━━━━━━━━━━━━━━━━━━╇━━━━━━━━━━━━━━━┩\n",
              "│ flatten (\u001b[38;5;33mFlatten\u001b[0m)               │ (\u001b[38;5;45mNone\u001b[0m, \u001b[38;5;34m30\u001b[0m)             │             \u001b[38;5;34m0\u001b[0m │\n",
              "├─────────────────────────────────┼────────────────────────┼───────────────┤\n",
              "│ dense_6 (\u001b[38;5;33mDense\u001b[0m)                 │ (\u001b[38;5;45mNone\u001b[0m, \u001b[38;5;34m64\u001b[0m)             │         \u001b[38;5;34m1,984\u001b[0m │\n",
              "├─────────────────────────────────┼────────────────────────┼───────────────┤\n",
              "│ dense_7 (\u001b[38;5;33mDense\u001b[0m)                 │ (\u001b[38;5;45mNone\u001b[0m, \u001b[38;5;34m1\u001b[0m)              │            \u001b[38;5;34m65\u001b[0m │\n",
              "└─────────────────────────────────┴────────────────────────┴───────────────┘\n"
            ],
            "text/html": [
              "<pre style=\"white-space:pre;overflow-x:auto;line-height:normal;font-family:Menlo,'DejaVu Sans Mono',consolas,'Courier New',monospace\">┏━━━━━━━━━━━━━━━━━━━━━━━━━━━━━━━━━┳━━━━━━━━━━━━━━━━━━━━━━━━┳━━━━━━━━━━━━━━━┓\n",
              "┃<span style=\"font-weight: bold\"> Layer (type)                    </span>┃<span style=\"font-weight: bold\"> Output Shape           </span>┃<span style=\"font-weight: bold\">       Param # </span>┃\n",
              "┡━━━━━━━━━━━━━━━━━━━━━━━━━━━━━━━━━╇━━━━━━━━━━━━━━━━━━━━━━━━╇━━━━━━━━━━━━━━━┩\n",
              "│ flatten (<span style=\"color: #0087ff; text-decoration-color: #0087ff\">Flatten</span>)               │ (<span style=\"color: #00d7ff; text-decoration-color: #00d7ff\">None</span>, <span style=\"color: #00af00; text-decoration-color: #00af00\">30</span>)             │             <span style=\"color: #00af00; text-decoration-color: #00af00\">0</span> │\n",
              "├─────────────────────────────────┼────────────────────────┼───────────────┤\n",
              "│ dense_6 (<span style=\"color: #0087ff; text-decoration-color: #0087ff\">Dense</span>)                 │ (<span style=\"color: #00d7ff; text-decoration-color: #00d7ff\">None</span>, <span style=\"color: #00af00; text-decoration-color: #00af00\">64</span>)             │         <span style=\"color: #00af00; text-decoration-color: #00af00\">1,984</span> │\n",
              "├─────────────────────────────────┼────────────────────────┼───────────────┤\n",
              "│ dense_7 (<span style=\"color: #0087ff; text-decoration-color: #0087ff\">Dense</span>)                 │ (<span style=\"color: #00d7ff; text-decoration-color: #00d7ff\">None</span>, <span style=\"color: #00af00; text-decoration-color: #00af00\">1</span>)              │            <span style=\"color: #00af00; text-decoration-color: #00af00\">65</span> │\n",
              "└─────────────────────────────────┴────────────────────────┴───────────────┘\n",
              "</pre>\n"
            ]
          },
          "metadata": {}
        },
        {
          "output_type": "display_data",
          "data": {
            "text/plain": [
              "\u001b[1m Total params: \u001b[0m\u001b[38;5;34m2,049\u001b[0m (8.00 KB)\n"
            ],
            "text/html": [
              "<pre style=\"white-space:pre;overflow-x:auto;line-height:normal;font-family:Menlo,'DejaVu Sans Mono',consolas,'Courier New',monospace\"><span style=\"font-weight: bold\"> Total params: </span><span style=\"color: #00af00; text-decoration-color: #00af00\">2,049</span> (8.00 KB)\n",
              "</pre>\n"
            ]
          },
          "metadata": {}
        },
        {
          "output_type": "display_data",
          "data": {
            "text/plain": [
              "\u001b[1m Trainable params: \u001b[0m\u001b[38;5;34m2,049\u001b[0m (8.00 KB)\n"
            ],
            "text/html": [
              "<pre style=\"white-space:pre;overflow-x:auto;line-height:normal;font-family:Menlo,'DejaVu Sans Mono',consolas,'Courier New',monospace\"><span style=\"font-weight: bold\"> Trainable params: </span><span style=\"color: #00af00; text-decoration-color: #00af00\">2,049</span> (8.00 KB)\n",
              "</pre>\n"
            ]
          },
          "metadata": {}
        },
        {
          "output_type": "display_data",
          "data": {
            "text/plain": [
              "\u001b[1m Non-trainable params: \u001b[0m\u001b[38;5;34m0\u001b[0m (0.00 B)\n"
            ],
            "text/html": [
              "<pre style=\"white-space:pre;overflow-x:auto;line-height:normal;font-family:Menlo,'DejaVu Sans Mono',consolas,'Courier New',monospace\"><span style=\"font-weight: bold\"> Non-trainable params: </span><span style=\"color: #00af00; text-decoration-color: #00af00\">0</span> (0.00 B)\n",
              "</pre>\n"
            ]
          },
          "metadata": {}
        }
      ]
    },
    {
      "cell_type": "code",
      "source": [
        "history = MODEL.fit(X_train, y_train, epochs=EPOCHS, batch_size=BATCH_SIZE, validation_data=(X_val, y_val), verbose=1)\n",
        "predictions_scaled = MODEL.predict(X_test)\n",
        "scaler = MinMaxScaler(feature_range=(0, 1))\n",
        "# Re-fitting the scaler is important if the data changes, but here it's just for inverse transform\n",
        "# Make sure the scaler is fit on the same data used for scaling the original closing prices\n",
        "scaler.fit(closing_prices)\n",
        "predictions_actual = scaler.inverse_transform(predictions_scaled)\n",
        "y_test_actual = scaler.inverse_transform(y_test.reshape(-1, 1))"
      ],
      "metadata": {
        "colab": {
          "base_uri": "https://localhost:8080/"
        },
        "id": "XHopfvEwbDdA",
        "outputId": "854520b3-55b5-44b1-b0ab-edf0c0dd4ea4"
      },
      "execution_count": 47,
      "outputs": [
        {
          "output_type": "stream",
          "name": "stdout",
          "text": [
            "Epoch 1/50\n",
            "\u001b[1m60/60\u001b[0m \u001b[32m━━━━━━━━━━━━━━━━━━━━\u001b[0m\u001b[37m\u001b[0m \u001b[1m2s\u001b[0m 6ms/step - loss: 0.0136 - mae: 0.0908 - val_loss: 0.0045 - val_mae: 0.0555\n",
            "Epoch 2/50\n",
            "\u001b[1m60/60\u001b[0m \u001b[32m━━━━━━━━━━━━━━━━━━━━\u001b[0m\u001b[37m\u001b[0m \u001b[1m0s\u001b[0m 4ms/step - loss: 0.0038 - mae: 0.0470 - val_loss: 0.0036 - val_mae: 0.0478\n",
            "Epoch 3/50\n",
            "\u001b[1m60/60\u001b[0m \u001b[32m━━━━━━━━━━━━━━━━━━━━\u001b[0m\u001b[37m\u001b[0m \u001b[1m0s\u001b[0m 4ms/step - loss: 0.0027 - mae: 0.0396 - val_loss: 0.0026 - val_mae: 0.0405\n",
            "Epoch 4/50\n",
            "\u001b[1m60/60\u001b[0m \u001b[32m━━━━━━━━━━━━━━━━━━━━\u001b[0m\u001b[37m\u001b[0m \u001b[1m0s\u001b[0m 4ms/step - loss: 0.0020 - mae: 0.0345 - val_loss: 0.0021 - val_mae: 0.0362\n",
            "Epoch 5/50\n",
            "\u001b[1m60/60\u001b[0m \u001b[32m━━━━━━━━━━━━━━━━━━━━\u001b[0m\u001b[37m\u001b[0m \u001b[1m0s\u001b[0m 4ms/step - loss: 0.0017 - mae: 0.0317 - val_loss: 0.0017 - val_mae: 0.0328\n",
            "Epoch 6/50\n",
            "\u001b[1m60/60\u001b[0m \u001b[32m━━━━━━━━━━━━━━━━━━━━\u001b[0m\u001b[37m\u001b[0m \u001b[1m0s\u001b[0m 3ms/step - loss: 0.0015 - mae: 0.0291 - val_loss: 0.0017 - val_mae: 0.0323\n",
            "Epoch 7/50\n",
            "\u001b[1m60/60\u001b[0m \u001b[32m━━━━━━━━━━━━━━━━━━━━\u001b[0m\u001b[37m\u001b[0m \u001b[1m0s\u001b[0m 4ms/step - loss: 0.0014 - mae: 0.0289 - val_loss: 0.0015 - val_mae: 0.0300\n",
            "Epoch 8/50\n",
            "\u001b[1m60/60\u001b[0m \u001b[32m━━━━━━━━━━━━━━━━━━━━\u001b[0m\u001b[37m\u001b[0m \u001b[1m0s\u001b[0m 4ms/step - loss: 0.0014 - mae: 0.0284 - val_loss: 0.0013 - val_mae: 0.0282\n",
            "Epoch 9/50\n",
            "\u001b[1m60/60\u001b[0m \u001b[32m━━━━━━━━━━━━━━━━━━━━\u001b[0m\u001b[37m\u001b[0m \u001b[1m0s\u001b[0m 4ms/step - loss: 0.0011 - mae: 0.0256 - val_loss: 0.0014 - val_mae: 0.0292\n",
            "Epoch 10/50\n",
            "\u001b[1m60/60\u001b[0m \u001b[32m━━━━━━━━━━━━━━━━━━━━\u001b[0m\u001b[37m\u001b[0m \u001b[1m0s\u001b[0m 6ms/step - loss: 0.0013 - mae: 0.0272 - val_loss: 0.0011 - val_mae: 0.0262\n",
            "Epoch 11/50\n",
            "\u001b[1m60/60\u001b[0m \u001b[32m━━━━━━━━━━━━━━━━━━━━\u001b[0m\u001b[37m\u001b[0m \u001b[1m0s\u001b[0m 4ms/step - loss: 0.0011 - mae: 0.0253 - val_loss: 0.0012 - val_mae: 0.0266\n",
            "Epoch 12/50\n",
            "\u001b[1m60/60\u001b[0m \u001b[32m━━━━━━━━━━━━━━━━━━━━\u001b[0m\u001b[37m\u001b[0m \u001b[1m0s\u001b[0m 4ms/step - loss: 9.9057e-04 - mae: 0.0243 - val_loss: 0.0014 - val_mae: 0.0282\n",
            "Epoch 13/50\n",
            "\u001b[1m60/60\u001b[0m \u001b[32m━━━━━━━━━━━━━━━━━━━━\u001b[0m\u001b[37m\u001b[0m \u001b[1m0s\u001b[0m 3ms/step - loss: 0.0011 - mae: 0.0257 - val_loss: 0.0012 - val_mae: 0.0272\n",
            "Epoch 14/50\n",
            "\u001b[1m60/60\u001b[0m \u001b[32m━━━━━━━━━━━━━━━━━━━━\u001b[0m\u001b[37m\u001b[0m \u001b[1m0s\u001b[0m 4ms/step - loss: 0.0011 - mae: 0.0257 - val_loss: 0.0010 - val_mae: 0.0244\n",
            "Epoch 15/50\n",
            "\u001b[1m60/60\u001b[0m \u001b[32m━━━━━━━━━━━━━━━━━━━━\u001b[0m\u001b[37m\u001b[0m \u001b[1m0s\u001b[0m 4ms/step - loss: 9.1145e-04 - mae: 0.0228 - val_loss: 9.7839e-04 - val_mae: 0.0241\n",
            "Epoch 16/50\n",
            "\u001b[1m60/60\u001b[0m \u001b[32m━━━━━━━━━━━━━━━━━━━━\u001b[0m\u001b[37m\u001b[0m \u001b[1m0s\u001b[0m 4ms/step - loss: 8.0796e-04 - mae: 0.0216 - val_loss: 9.0792e-04 - val_mae: 0.0232\n",
            "Epoch 17/50\n",
            "\u001b[1m60/60\u001b[0m \u001b[32m━━━━━━━━━━━━━━━━━━━━\u001b[0m\u001b[37m\u001b[0m \u001b[1m0s\u001b[0m 4ms/step - loss: 8.1843e-04 - mae: 0.0216 - val_loss: 8.8889e-04 - val_mae: 0.0230\n",
            "Epoch 18/50\n",
            "\u001b[1m60/60\u001b[0m \u001b[32m━━━━━━━━━━━━━━━━━━━━\u001b[0m\u001b[37m\u001b[0m \u001b[1m0s\u001b[0m 5ms/step - loss: 9.2929e-04 - mae: 0.0237 - val_loss: 8.7108e-04 - val_mae: 0.0229\n",
            "Epoch 19/50\n",
            "\u001b[1m60/60\u001b[0m \u001b[32m━━━━━━━━━━━━━━━━━━━━\u001b[0m\u001b[37m\u001b[0m \u001b[1m0s\u001b[0m 4ms/step - loss: 7.9008e-04 - mae: 0.0216 - val_loss: 8.8180e-04 - val_mae: 0.0226\n",
            "Epoch 20/50\n",
            "\u001b[1m60/60\u001b[0m \u001b[32m━━━━━━━━━━━━━━━━━━━━\u001b[0m\u001b[37m\u001b[0m \u001b[1m0s\u001b[0m 4ms/step - loss: 7.6858e-04 - mae: 0.0212 - val_loss: 9.2939e-04 - val_mae: 0.0242\n",
            "Epoch 21/50\n",
            "\u001b[1m60/60\u001b[0m \u001b[32m━━━━━━━━━━━━━━━━━━━━\u001b[0m\u001b[37m\u001b[0m \u001b[1m0s\u001b[0m 4ms/step - loss: 7.2181e-04 - mae: 0.0209 - val_loss: 8.3544e-04 - val_mae: 0.0221\n",
            "Epoch 22/50\n",
            "\u001b[1m60/60\u001b[0m \u001b[32m━━━━━━━━━━━━━━━━━━━━\u001b[0m\u001b[37m\u001b[0m \u001b[1m0s\u001b[0m 5ms/step - loss: 7.3320e-04 - mae: 0.0205 - val_loss: 7.7379e-04 - val_mae: 0.0212\n",
            "Epoch 23/50\n",
            "\u001b[1m60/60\u001b[0m \u001b[32m━━━━━━━━━━━━━━━━━━━━\u001b[0m\u001b[37m\u001b[0m \u001b[1m1s\u001b[0m 4ms/step - loss: 7.0609e-04 - mae: 0.0199 - val_loss: 7.5106e-04 - val_mae: 0.0211\n",
            "Epoch 24/50\n",
            "\u001b[1m60/60\u001b[0m \u001b[32m━━━━━━━━━━━━━━━━━━━━\u001b[0m\u001b[37m\u001b[0m \u001b[1m0s\u001b[0m 4ms/step - loss: 7.9014e-04 - mae: 0.0214 - val_loss: 8.9626e-04 - val_mae: 0.0226\n",
            "Epoch 25/50\n",
            "\u001b[1m60/60\u001b[0m \u001b[32m━━━━━━━━━━━━━━━━━━━━\u001b[0m\u001b[37m\u001b[0m \u001b[1m0s\u001b[0m 4ms/step - loss: 7.1034e-04 - mae: 0.0203 - val_loss: 7.5471e-04 - val_mae: 0.0215\n",
            "Epoch 26/50\n",
            "\u001b[1m60/60\u001b[0m \u001b[32m━━━━━━━━━━━━━━━━━━━━\u001b[0m\u001b[37m\u001b[0m \u001b[1m0s\u001b[0m 4ms/step - loss: 6.5708e-04 - mae: 0.0200 - val_loss: 7.1512e-04 - val_mae: 0.0206\n",
            "Epoch 27/50\n",
            "\u001b[1m60/60\u001b[0m \u001b[32m━━━━━━━━━━━━━━━━━━━━\u001b[0m\u001b[37m\u001b[0m \u001b[1m0s\u001b[0m 4ms/step - loss: 6.8544e-04 - mae: 0.0200 - val_loss: 7.2514e-04 - val_mae: 0.0210\n",
            "Epoch 28/50\n",
            "\u001b[1m60/60\u001b[0m \u001b[32m━━━━━━━━━━━━━━━━━━━━\u001b[0m\u001b[37m\u001b[0m \u001b[1m0s\u001b[0m 6ms/step - loss: 6.5904e-04 - mae: 0.0196 - val_loss: 7.9846e-04 - val_mae: 0.0215\n",
            "Epoch 29/50\n",
            "\u001b[1m60/60\u001b[0m \u001b[32m━━━━━━━━━━━━━━━━━━━━\u001b[0m\u001b[37m\u001b[0m \u001b[1m0s\u001b[0m 4ms/step - loss: 7.2336e-04 - mae: 0.0208 - val_loss: 9.6338e-04 - val_mae: 0.0242\n",
            "Epoch 30/50\n",
            "\u001b[1m60/60\u001b[0m \u001b[32m━━━━━━━━━━━━━━━━━━━━\u001b[0m\u001b[37m\u001b[0m \u001b[1m0s\u001b[0m 3ms/step - loss: 8.6530e-04 - mae: 0.0233 - val_loss: 7.2558e-04 - val_mae: 0.0210\n",
            "Epoch 31/50\n",
            "\u001b[1m60/60\u001b[0m \u001b[32m━━━━━━━━━━━━━━━━━━━━\u001b[0m\u001b[37m\u001b[0m \u001b[1m0s\u001b[0m 7ms/step - loss: 6.9088e-04 - mae: 0.0203 - val_loss: 7.4238e-04 - val_mae: 0.0216\n",
            "Epoch 32/50\n",
            "\u001b[1m60/60\u001b[0m \u001b[32m━━━━━━━━━━━━━━━━━━━━\u001b[0m\u001b[37m\u001b[0m \u001b[1m0s\u001b[0m 5ms/step - loss: 6.1261e-04 - mae: 0.0189 - val_loss: 7.7555e-04 - val_mae: 0.0211\n",
            "Epoch 33/50\n",
            "\u001b[1m60/60\u001b[0m \u001b[32m━━━━━━━━━━━━━━━━━━━━\u001b[0m\u001b[37m\u001b[0m \u001b[1m1s\u001b[0m 6ms/step - loss: 5.9527e-04 - mae: 0.0187 - val_loss: 6.4677e-04 - val_mae: 0.0194\n",
            "Epoch 34/50\n",
            "\u001b[1m60/60\u001b[0m \u001b[32m━━━━━━━━━━━━━━━━━━━━\u001b[0m\u001b[37m\u001b[0m \u001b[1m1s\u001b[0m 7ms/step - loss: 7.2654e-04 - mae: 0.0208 - val_loss: 6.6293e-04 - val_mae: 0.0196\n",
            "Epoch 35/50\n",
            "\u001b[1m60/60\u001b[0m \u001b[32m━━━━━━━━━━━━━━━━━━━━\u001b[0m\u001b[37m\u001b[0m \u001b[1m0s\u001b[0m 3ms/step - loss: 5.9559e-04 - mae: 0.0189 - val_loss: 7.4837e-04 - val_mae: 0.0209\n",
            "Epoch 36/50\n",
            "\u001b[1m60/60\u001b[0m \u001b[32m━━━━━━━━━━━━━━━━━━━━\u001b[0m\u001b[37m\u001b[0m \u001b[1m0s\u001b[0m 4ms/step - loss: 7.9207e-04 - mae: 0.0221 - val_loss: 7.8979e-04 - val_mae: 0.0229\n",
            "Epoch 37/50\n",
            "\u001b[1m60/60\u001b[0m \u001b[32m━━━━━━━━━━━━━━━━━━━━\u001b[0m\u001b[37m\u001b[0m \u001b[1m0s\u001b[0m 4ms/step - loss: 7.5356e-04 - mae: 0.0216 - val_loss: 6.0324e-04 - val_mae: 0.0189\n",
            "Epoch 38/50\n",
            "\u001b[1m60/60\u001b[0m \u001b[32m━━━━━━━━━━━━━━━━━━━━\u001b[0m\u001b[37m\u001b[0m \u001b[1m0s\u001b[0m 4ms/step - loss: 5.5790e-04 - mae: 0.0178 - val_loss: 6.2361e-04 - val_mae: 0.0194\n",
            "Epoch 39/50\n",
            "\u001b[1m60/60\u001b[0m \u001b[32m━━━━━━━━━━━━━━━━━━━━\u001b[0m\u001b[37m\u001b[0m \u001b[1m0s\u001b[0m 3ms/step - loss: 5.8007e-04 - mae: 0.0181 - val_loss: 6.2350e-04 - val_mae: 0.0194\n",
            "Epoch 40/50\n",
            "\u001b[1m60/60\u001b[0m \u001b[32m━━━━━━━━━━━━━━━━━━━━\u001b[0m\u001b[37m\u001b[0m \u001b[1m0s\u001b[0m 4ms/step - loss: 6.7942e-04 - mae: 0.0200 - val_loss: 6.1712e-04 - val_mae: 0.0189\n",
            "Epoch 41/50\n",
            "\u001b[1m60/60\u001b[0m \u001b[32m━━━━━━━━━━━━━━━━━━━━\u001b[0m\u001b[37m\u001b[0m \u001b[1m0s\u001b[0m 3ms/step - loss: 5.6803e-04 - mae: 0.0178 - val_loss: 6.7378e-04 - val_mae: 0.0196\n",
            "Epoch 42/50\n",
            "\u001b[1m60/60\u001b[0m \u001b[32m━━━━━━━━━━━━━━━━━━━━\u001b[0m\u001b[37m\u001b[0m \u001b[1m0s\u001b[0m 3ms/step - loss: 6.0862e-04 - mae: 0.0186 - val_loss: 6.0975e-04 - val_mae: 0.0188\n",
            "Epoch 43/50\n",
            "\u001b[1m60/60\u001b[0m \u001b[32m━━━━━━━━━━━━━━━━━━━━\u001b[0m\u001b[37m\u001b[0m \u001b[1m0s\u001b[0m 4ms/step - loss: 5.7658e-04 - mae: 0.0183 - val_loss: 6.1149e-04 - val_mae: 0.0188\n",
            "Epoch 44/50\n",
            "\u001b[1m60/60\u001b[0m \u001b[32m━━━━━━━━━━━━━━━━━━━━\u001b[0m\u001b[37m\u001b[0m \u001b[1m0s\u001b[0m 3ms/step - loss: 5.9479e-04 - mae: 0.0181 - val_loss: 5.8588e-04 - val_mae: 0.0184\n",
            "Epoch 45/50\n",
            "\u001b[1m60/60\u001b[0m \u001b[32m━━━━━━━━━━━━━━━━━━━━\u001b[0m\u001b[37m\u001b[0m \u001b[1m0s\u001b[0m 4ms/step - loss: 6.9097e-04 - mae: 0.0201 - val_loss: 6.4224e-04 - val_mae: 0.0203\n",
            "Epoch 46/50\n",
            "\u001b[1m60/60\u001b[0m \u001b[32m━━━━━━━━━━━━━━━━━━━━\u001b[0m\u001b[37m\u001b[0m \u001b[1m0s\u001b[0m 4ms/step - loss: 6.5159e-04 - mae: 0.0197 - val_loss: 6.1257e-04 - val_mae: 0.0195\n",
            "Epoch 47/50\n",
            "\u001b[1m60/60\u001b[0m \u001b[32m━━━━━━━━━━━━━━━━━━━━\u001b[0m\u001b[37m\u001b[0m \u001b[1m0s\u001b[0m 4ms/step - loss: 5.3991e-04 - mae: 0.0174 - val_loss: 5.8219e-04 - val_mae: 0.0189\n",
            "Epoch 48/50\n",
            "\u001b[1m60/60\u001b[0m \u001b[32m━━━━━━━━━━━━━━━━━━━━\u001b[0m\u001b[37m\u001b[0m \u001b[1m0s\u001b[0m 4ms/step - loss: 5.3583e-04 - mae: 0.0173 - val_loss: 6.4911e-04 - val_mae: 0.0204\n",
            "Epoch 49/50\n",
            "\u001b[1m60/60\u001b[0m \u001b[32m━━━━━━━━━━━━━━━━━━━━\u001b[0m\u001b[37m\u001b[0m \u001b[1m0s\u001b[0m 4ms/step - loss: 6.1806e-04 - mae: 0.0192 - val_loss: 9.7255e-04 - val_mae: 0.0250\n",
            "Epoch 50/50\n",
            "\u001b[1m60/60\u001b[0m \u001b[32m━━━━━━━━━━━━━━━━━━━━\u001b[0m\u001b[37m\u001b[0m \u001b[1m0s\u001b[0m 8ms/step - loss: 7.5985e-04 - mae: 0.0219 - val_loss: 5.3971e-04 - val_mae: 0.0177\n",
            "\u001b[1m13/13\u001b[0m \u001b[32m━━━━━━━━━━━━━━━━━━━━\u001b[0m\u001b[37m\u001b[0m \u001b[1m0s\u001b[0m 5ms/step \n"
          ]
        }
      ]
    }
  ]
}