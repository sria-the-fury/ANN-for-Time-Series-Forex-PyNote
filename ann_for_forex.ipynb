{
  "metadata": {
    "kernelspec": {
      "name": "python3",
      "display_name": "Python 3"
    },
    "language_info": {
      "version": "3.x",
      "name": "python"
    },
    "colab": {
      "provenance": []
    }
  },
  "nbformat_minor": 0,
  "nbformat": 4,
  "cells": [
    {
      "metadata": {
        "scrolled": "auto",
        "collapsed": false,
        "tags": [],
        "id": "sVNimZPi1iyS"
      },
      "source": [
        "This notebook is an experiment to create an ANN model, especially **Feed-Forward Neural Network** for predicting the closing price of EURUSD based on daily closing price\n"
      ],
      "cell_type": "markdown"
    },
    {
      "source": [
        "#Necessary Imports\n",
        "import pandas as pd\n",
        "import numpy as np\n",
        "import yfinance as yf\n",
        "import os\n",
        "from datetime import date\n",
        "\n"
      ],
      "cell_type": "code",
      "metadata": {
        "tags": [],
        "scrolled": "auto",
        "id": "tvHUqYTy1iyV"
      },
      "outputs": [],
      "execution_count": 52
    },
    {
      "cell_type": "markdown",
      "source": [
        "Though I mentioned in my paper, I will use the date from https://forexsb.com/historical-forex-data. I feel using this data, will be a time comsuming  becaue eveytime, I need to donwnload it and clean for the model. And python script does not work to download. So, it is best to use **yfinance** package for the time series forex data for EUR-USD."
      ],
      "metadata": {
        "id": "O8iUiRj_6n8f"
      }
    },
    {
      "cell_type": "code",
      "source": [
        "#Download Dataset\n",
        "TICKER = \"EURUSD=X\"\n",
        "RANGE_FROM = \"2015-01-01\"\n",
        "RANGE_TO = date.today().isoformat() #Data will be download till current day.\n",
        "\n",
        "SAVE_DIRECTIRY = \"forex_data\"\n",
        "FILE_NAME = \"eurusd_daily.csv\"\n",
        "\n",
        "def download_data(ticker, start, end, savePath):\n",
        "  print(f\"Downloading Data for EUR-USD from {RANGE_FROM} to {RANGE_TO}\")\n",
        "  try:\n",
        "    data = yf.download(ticker, start= start, end=end, progress= True)\n",
        "\n",
        "    if data.empty:\n",
        "      print(f\"No data found for the {TICKER}\")\n",
        "    else:\n",
        "      print(\"Successfully downloaded\")\n",
        "      os.makedirs(os.path.dirname(savePath), exist_ok=True)\n",
        "      data.to_csv(savePath)\n",
        "      print(\"Date saved\")\n",
        "\n",
        "  except Exception as e:\n",
        "    print(f\"An unexpected error: {e}\")\n",
        "\n",
        "\n",
        "full_save_path = os.path.join(SAVE_DIRECTIRY, FILE_NAME)\n",
        "download_data(TICKER, RANGE_FROM, RANGE_TO, full_save_path)\n"
      ],
      "metadata": {
        "id": "oO9GVad46X2p",
        "outputId": "949cd6f5-733d-4e07-dcf6-ee87ce159e71",
        "colab": {
          "base_uri": "https://localhost:8080/"
        }
      },
      "execution_count": 82,
      "outputs": [
        {
          "output_type": "stream",
          "name": "stderr",
          "text": [
            "\r[*********************100%***********************]  1 of 1 completed"
          ]
        },
        {
          "output_type": "stream",
          "name": "stdout",
          "text": [
            "Downloading Data for EUR-USD from 2015-01-01 to 2025-07-13\n",
            "Successfully downloaded\n",
            "Date saved\n"
          ]
        },
        {
          "output_type": "stream",
          "name": "stderr",
          "text": [
            "\n"
          ]
        }
      ]
    },
    {
      "cell_type": "code",
      "source": [
        "#load csv and view from directory\n",
        "if os.path.exists(full_save_path):\n",
        "  forex_df = pd.read_csv(full_save_path, skiprows=3, header=None)\n",
        "else:\n",
        "  print(\"File not found\")\n",
        "\n",
        "#Cleaning Dataset. Remove every other column except Date and Close\n",
        "forex_df.columns = ['Date', 'Close', 'High', 'Low', 'Open', 'Volume']\n",
        "forex_df.columns = forex_df.columns.str.replace(' ','')\n",
        "forex_df.drop(columns=['High', 'Low', 'Open', 'Volume'], inplace=True)\n",
        "\n",
        "\n",
        "print(forex_df.tail())"
      ],
      "metadata": {
        "id": "l1GSf-o0FRkE",
        "outputId": "dd8742da-7062-4f71-c7e9-2879b361e259",
        "colab": {
          "base_uri": "https://localhost:8080/"
        }
      },
      "execution_count": 83,
      "outputs": [
        {
          "output_type": "stream",
          "name": "stdout",
          "text": [
            "            Date     Close\n",
            "2736  2025-07-07  1.178078\n",
            "2737  2025-07-08  1.173654\n",
            "2738  2025-07-09  1.172457\n",
            "2739  2025-07-10  1.173117\n",
            "2740  2025-07-11  1.170275\n"
          ]
        }
      ]
    },
    {
      "cell_type": "markdown",
      "source": [
        "Data Preparation for Feed-Forward neural Network"
      ],
      "metadata": {
        "id": "BfcsVrYhzRMZ"
      }
    },
    {
      "cell_type": "code",
      "source": [
        "from sklearn.preprocessing import MinMaxScaler\n",
        "import joblib\n",
        "closing_prices = forex_df['Close'].values.reshape(-1, 1)\n",
        "scaler = MinMaxScaler(feature_range=(0, 1))\n",
        "scaled_prices = scaler.fit_transform(closing_prices)\n",
        "os.makedirs(\"model_scaler\", exist_ok=True)\n",
        "joblib.dump(scaler, \"model_scaler/scaler.gz\")"
      ],
      "metadata": {
        "id": "YjzVBFMCzgud",
        "colab": {
          "base_uri": "https://localhost:8080/"
        },
        "outputId": "18577549-8254-4a7d-e060-5586f863811e"
      },
      "execution_count": 55,
      "outputs": [
        {
          "output_type": "execute_result",
          "data": {
            "text/plain": [
              "['model_scaler/scaler.gz']"
            ]
          },
          "metadata": {},
          "execution_count": 55
        }
      ]
    },
    {
      "cell_type": "code",
      "source": [
        "SEQUENCE_LENGTH = 30\n",
        "TRAIN_SPLIT = 0.7\n",
        "VALIDATION_SPLIT = 0.15\n",
        "TEST_SPLIT = 1 - TRAIN_SPLIT - VALIDATION_SPLIT\n",
        "\n",
        "X, y = [], []\n",
        "for i in range(len(scaled_prices) - SEQUENCE_LENGTH):\n",
        "  X.append(scaled_prices[i:i+SEQUENCE_LENGTH])\n",
        "  y.append(scaled_prices[i+SEQUENCE_LENGTH])\n",
        "\n",
        "X = np.array(X)\n",
        "y = np.array(y)\n",
        "\n",
        "print(f\"Created {len(X)} seq len {SEQUENCE_LENGTH}\")\n",
        "\n",
        "train_size = int(TRAIN_SPLIT * len(X))\n",
        "val_size = int(VALIDATION_SPLIT * len(X))\n",
        "test_size = len(X) - train_size - val_size\n",
        "\n",
        "X_train, y_train = X[:train_size], y[:train_size]\n",
        "X_val, y_val = X[train_size:train_size+val_size], y[train_size:train_size+val_size]\n",
        "X_test, y_test = X[-test_size:], y[-test_size:]\n",
        "\n",
        "print(f\"Train Size: {len(X_train)}\")\n",
        "print(f\"Validation Size: {len(X_val)}\")\n",
        "print(f\"Test Size: {len(X_test)}\")\n",
        "\n",
        "#Saving Datasets\n",
        "SAVE_SETS_DIR = \"prepared_sets\"\n",
        "os.makedirs(SAVE_SETS_DIR, exist_ok=True)\n",
        "np.save(os.path.join(SAVE_SETS_DIR, \"X_train.npy\"), X_train)\n",
        "np.save(os.path.join(SAVE_SETS_DIR, \"y_train.npy\"), y_train)\n",
        "np.save(os.path.join(SAVE_SETS_DIR, \"X_val.npy\"), X_val)\n",
        "np.save(os.path.join(SAVE_SETS_DIR, \"y_val.npy\"), y_val)\n",
        "np.save(os.path.join(SAVE_SETS_DIR, \"X_test.npy\"), X_test)\n",
        "np.save(os.path.join(SAVE_SETS_DIR, \"y_test.npy\"), y_test)\n"
      ],
      "metadata": {
        "id": "nDv3F4UB01KZ",
        "outputId": "1864eacb-f4d8-4c62-898c-02553c5e87bd",
        "colab": {
          "base_uri": "https://localhost:8080/"
        }
      },
      "execution_count": 56,
      "outputs": [
        {
          "output_type": "stream",
          "name": "stdout",
          "text": [
            "Created 2711 seq len 30\n",
            "Train Size: 1897\n",
            "Validation Size: 406\n",
            "Test Size: 408\n"
          ]
        }
      ]
    },
    {
      "cell_type": "code",
      "source": [
        "from tensorflow.keras.models import Sequential\n",
        "from tensorflow.keras.layers import Dense, Input, Flatten\n",
        "\n",
        "#Creating Model\n",
        "EPOCHS = 50\n",
        "BATCH_SIZE = 32\n",
        "\n",
        "X_train = np.load(os.path.join(SAVE_SETS_DIR, \"X_train.npy\"))\n",
        "y_train = np.load(os.path.join(SAVE_SETS_DIR, \"y_train.npy\"))\n",
        "X_val = np.load(os.path.join(SAVE_SETS_DIR, \"X_val.npy\"))\n",
        "y_val = np.load(os.path.join(SAVE_SETS_DIR, \"y_val.npy\"))\n",
        "X_test = np.load(os.path.join(SAVE_SETS_DIR, \"X_test.npy\"))\n",
        "y_test = np.load(os.path.join(SAVE_SETS_DIR, \"y_test.npy\"))\n",
        "\n",
        "MODEL = Sequential(\n",
        "    [\n",
        "        Input(shape=(SEQUENCE_LENGTH, 1)),\n",
        "        Flatten(),  # Flatten the input to feed into Dense layers\n",
        "        Dense(64, activation='sigmoid'),\n",
        "        Dense(1, activation ='linear')\n",
        "    ]\n",
        ")\n",
        "\n",
        "MODEL.compile(optimizer='adam', loss='mse', metrics=['mae'])\n",
        "MODEL.summary()"
      ],
      "metadata": {
        "colab": {
          "base_uri": "https://localhost:8080/",
          "height": 238
        },
        "id": "mqhDDI-gZM1_",
        "outputId": "101db96a-6e35-49e9-a73b-f13fd6b018ad"
      },
      "execution_count": 64,
      "outputs": [
        {
          "output_type": "display_data",
          "data": {
            "text/plain": [
              "\u001b[1mModel: \"sequential_5\"\u001b[0m\n"
            ],
            "text/html": [
              "<pre style=\"white-space:pre;overflow-x:auto;line-height:normal;font-family:Menlo,'DejaVu Sans Mono',consolas,'Courier New',monospace\"><span style=\"font-weight: bold\">Model: \"sequential_5\"</span>\n",
              "</pre>\n"
            ]
          },
          "metadata": {}
        },
        {
          "output_type": "display_data",
          "data": {
            "text/plain": [
              "┏━━━━━━━━━━━━━━━━━━━━━━━━━━━━━━━━━┳━━━━━━━━━━━━━━━━━━━━━━━━┳━━━━━━━━━━━━━━━┓\n",
              "┃\u001b[1m \u001b[0m\u001b[1mLayer (type)                   \u001b[0m\u001b[1m \u001b[0m┃\u001b[1m \u001b[0m\u001b[1mOutput Shape          \u001b[0m\u001b[1m \u001b[0m┃\u001b[1m \u001b[0m\u001b[1m      Param #\u001b[0m\u001b[1m \u001b[0m┃\n",
              "┡━━━━━━━━━━━━━━━━━━━━━━━━━━━━━━━━━╇━━━━━━━━━━━━━━━━━━━━━━━━╇━━━━━━━━━━━━━━━┩\n",
              "│ flatten_2 (\u001b[38;5;33mFlatten\u001b[0m)             │ (\u001b[38;5;45mNone\u001b[0m, \u001b[38;5;34m30\u001b[0m)             │             \u001b[38;5;34m0\u001b[0m │\n",
              "├─────────────────────────────────┼────────────────────────┼───────────────┤\n",
              "│ dense_10 (\u001b[38;5;33mDense\u001b[0m)                │ (\u001b[38;5;45mNone\u001b[0m, \u001b[38;5;34m64\u001b[0m)             │         \u001b[38;5;34m1,984\u001b[0m │\n",
              "├─────────────────────────────────┼────────────────────────┼───────────────┤\n",
              "│ dense_11 (\u001b[38;5;33mDense\u001b[0m)                │ (\u001b[38;5;45mNone\u001b[0m, \u001b[38;5;34m1\u001b[0m)              │            \u001b[38;5;34m65\u001b[0m │\n",
              "└─────────────────────────────────┴────────────────────────┴───────────────┘\n"
            ],
            "text/html": [
              "<pre style=\"white-space:pre;overflow-x:auto;line-height:normal;font-family:Menlo,'DejaVu Sans Mono',consolas,'Courier New',monospace\">┏━━━━━━━━━━━━━━━━━━━━━━━━━━━━━━━━━┳━━━━━━━━━━━━━━━━━━━━━━━━┳━━━━━━━━━━━━━━━┓\n",
              "┃<span style=\"font-weight: bold\"> Layer (type)                    </span>┃<span style=\"font-weight: bold\"> Output Shape           </span>┃<span style=\"font-weight: bold\">       Param # </span>┃\n",
              "┡━━━━━━━━━━━━━━━━━━━━━━━━━━━━━━━━━╇━━━━━━━━━━━━━━━━━━━━━━━━╇━━━━━━━━━━━━━━━┩\n",
              "│ flatten_2 (<span style=\"color: #0087ff; text-decoration-color: #0087ff\">Flatten</span>)             │ (<span style=\"color: #00d7ff; text-decoration-color: #00d7ff\">None</span>, <span style=\"color: #00af00; text-decoration-color: #00af00\">30</span>)             │             <span style=\"color: #00af00; text-decoration-color: #00af00\">0</span> │\n",
              "├─────────────────────────────────┼────────────────────────┼───────────────┤\n",
              "│ dense_10 (<span style=\"color: #0087ff; text-decoration-color: #0087ff\">Dense</span>)                │ (<span style=\"color: #00d7ff; text-decoration-color: #00d7ff\">None</span>, <span style=\"color: #00af00; text-decoration-color: #00af00\">64</span>)             │         <span style=\"color: #00af00; text-decoration-color: #00af00\">1,984</span> │\n",
              "├─────────────────────────────────┼────────────────────────┼───────────────┤\n",
              "│ dense_11 (<span style=\"color: #0087ff; text-decoration-color: #0087ff\">Dense</span>)                │ (<span style=\"color: #00d7ff; text-decoration-color: #00d7ff\">None</span>, <span style=\"color: #00af00; text-decoration-color: #00af00\">1</span>)              │            <span style=\"color: #00af00; text-decoration-color: #00af00\">65</span> │\n",
              "└─────────────────────────────────┴────────────────────────┴───────────────┘\n",
              "</pre>\n"
            ]
          },
          "metadata": {}
        },
        {
          "output_type": "display_data",
          "data": {
            "text/plain": [
              "\u001b[1m Total params: \u001b[0m\u001b[38;5;34m2,049\u001b[0m (8.00 KB)\n"
            ],
            "text/html": [
              "<pre style=\"white-space:pre;overflow-x:auto;line-height:normal;font-family:Menlo,'DejaVu Sans Mono',consolas,'Courier New',monospace\"><span style=\"font-weight: bold\"> Total params: </span><span style=\"color: #00af00; text-decoration-color: #00af00\">2,049</span> (8.00 KB)\n",
              "</pre>\n"
            ]
          },
          "metadata": {}
        },
        {
          "output_type": "display_data",
          "data": {
            "text/plain": [
              "\u001b[1m Trainable params: \u001b[0m\u001b[38;5;34m2,049\u001b[0m (8.00 KB)\n"
            ],
            "text/html": [
              "<pre style=\"white-space:pre;overflow-x:auto;line-height:normal;font-family:Menlo,'DejaVu Sans Mono',consolas,'Courier New',monospace\"><span style=\"font-weight: bold\"> Trainable params: </span><span style=\"color: #00af00; text-decoration-color: #00af00\">2,049</span> (8.00 KB)\n",
              "</pre>\n"
            ]
          },
          "metadata": {}
        },
        {
          "output_type": "display_data",
          "data": {
            "text/plain": [
              "\u001b[1m Non-trainable params: \u001b[0m\u001b[38;5;34m0\u001b[0m (0.00 B)\n"
            ],
            "text/html": [
              "<pre style=\"white-space:pre;overflow-x:auto;line-height:normal;font-family:Menlo,'DejaVu Sans Mono',consolas,'Courier New',monospace\"><span style=\"font-weight: bold\"> Non-trainable params: </span><span style=\"color: #00af00; text-decoration-color: #00af00\">0</span> (0.00 B)\n",
              "</pre>\n"
            ]
          },
          "metadata": {}
        }
      ]
    },
    {
      "cell_type": "code",
      "source": [
        "history = MODEL.fit(X_train, y_train, epochs=EPOCHS, batch_size=BATCH_SIZE, validation_data=(X_val, y_val), verbose=1)\n",
        "predictions_scaled = MODEL.predict(X_test)\n",
        "os.makedirs(\"model_scaler\", exist_ok=True)\n",
        "MODEL.save(\"model_scaler/forex_model.h5\")\n",
        "scaler = MinMaxScaler(feature_range=(0, 1))\n",
        "\n",
        "scaler.fit(closing_prices)\n",
        "predictions_actual = scaler.inverse_transform(predictions_scaled)\n",
        "y_test_actual = scaler.inverse_transform(y_test.reshape(-1, 1))"
      ],
      "metadata": {
        "colab": {
          "base_uri": "https://localhost:8080/"
        },
        "id": "XHopfvEwbDdA",
        "outputId": "aa93419e-d6e8-451b-b181-a292430ba90c"
      },
      "execution_count": 93,
      "outputs": [
        {
          "output_type": "stream",
          "name": "stdout",
          "text": [
            "Epoch 1/50\n",
            "\u001b[1m60/60\u001b[0m \u001b[32m━━━━━━━━━━━━━━━━━━━━\u001b[0m\u001b[37m\u001b[0m \u001b[1m2s\u001b[0m 7ms/step - loss: 0.0554 - mae: 0.1767 - val_loss: 0.0090 - val_mae: 0.0772\n",
            "Epoch 2/50\n",
            "\u001b[1m60/60\u001b[0m \u001b[32m━━━━━━━━━━━━━━━━━━━━\u001b[0m\u001b[37m\u001b[0m \u001b[1m0s\u001b[0m 4ms/step - loss: 0.0044 - mae: 0.0529 - val_loss: 0.0044 - val_mae: 0.0540\n",
            "Epoch 3/50\n",
            "\u001b[1m60/60\u001b[0m \u001b[32m━━━━━━━━━━━━━━━━━━━━\u001b[0m\u001b[37m\u001b[0m \u001b[1m0s\u001b[0m 5ms/step - loss: 0.0027 - mae: 0.0403 - val_loss: 0.0025 - val_mae: 0.0407\n",
            "Epoch 4/50\n",
            "\u001b[1m60/60\u001b[0m \u001b[32m━━━━━━━━━━━━━━━━━━━━\u001b[0m\u001b[37m\u001b[0m \u001b[1m1s\u001b[0m 5ms/step - loss: 0.0021 - mae: 0.0358 - val_loss: 0.0025 - val_mae: 0.0405\n",
            "Epoch 5/50\n",
            "\u001b[1m60/60\u001b[0m \u001b[32m━━━━━━━━━━━━━━━━━━━━\u001b[0m\u001b[37m\u001b[0m \u001b[1m0s\u001b[0m 6ms/step - loss: 0.0020 - mae: 0.0340 - val_loss: 0.0025 - val_mae: 0.0398\n",
            "Epoch 6/50\n",
            "\u001b[1m60/60\u001b[0m \u001b[32m━━━━━━━━━━━━━━━━━━━━\u001b[0m\u001b[37m\u001b[0m \u001b[1m1s\u001b[0m 7ms/step - loss: 0.0018 - mae: 0.0335 - val_loss: 0.0027 - val_mae: 0.0407\n",
            "Epoch 7/50\n",
            "\u001b[1m60/60\u001b[0m \u001b[32m━━━━━━━━━━━━━━━━━━━━\u001b[0m\u001b[37m\u001b[0m \u001b[1m1s\u001b[0m 7ms/step - loss: 0.0016 - mae: 0.0306 - val_loss: 0.0023 - val_mae: 0.0380\n",
            "Epoch 8/50\n",
            "\u001b[1m60/60\u001b[0m \u001b[32m━━━━━━━━━━━━━━━━━━━━\u001b[0m\u001b[37m\u001b[0m \u001b[1m1s\u001b[0m 7ms/step - loss: 0.0016 - mae: 0.0306 - val_loss: 0.0027 - val_mae: 0.0401\n",
            "Epoch 9/50\n",
            "\u001b[1m60/60\u001b[0m \u001b[32m━━━━━━━━━━━━━━━━━━━━\u001b[0m\u001b[37m\u001b[0m \u001b[1m0s\u001b[0m 5ms/step - loss: 0.0016 - mae: 0.0306 - val_loss: 0.0019 - val_mae: 0.0346\n",
            "Epoch 10/50\n",
            "\u001b[1m60/60\u001b[0m \u001b[32m━━━━━━━━━━━━━━━━━━━━\u001b[0m\u001b[37m\u001b[0m \u001b[1m1s\u001b[0m 4ms/step - loss: 0.0014 - mae: 0.0286 - val_loss: 0.0018 - val_mae: 0.0335\n",
            "Epoch 11/50\n",
            "\u001b[1m60/60\u001b[0m \u001b[32m━━━━━━━━━━━━━━━━━━━━\u001b[0m\u001b[37m\u001b[0m \u001b[1m0s\u001b[0m 3ms/step - loss: 0.0013 - mae: 0.0280 - val_loss: 0.0018 - val_mae: 0.0337\n",
            "Epoch 12/50\n",
            "\u001b[1m60/60\u001b[0m \u001b[32m━━━━━━━━━━━━━━━━━━━━\u001b[0m\u001b[37m\u001b[0m \u001b[1m0s\u001b[0m 5ms/step - loss: 0.0011 - mae: 0.0259 - val_loss: 0.0017 - val_mae: 0.0318\n",
            "Epoch 13/50\n",
            "\u001b[1m60/60\u001b[0m \u001b[32m━━━━━━━━━━━━━━━━━━━━\u001b[0m\u001b[37m\u001b[0m \u001b[1m0s\u001b[0m 4ms/step - loss: 0.0013 - mae: 0.0271 - val_loss: 0.0017 - val_mae: 0.0318\n",
            "Epoch 14/50\n",
            "\u001b[1m60/60\u001b[0m \u001b[32m━━━━━━━━━━━━━━━━━━━━\u001b[0m\u001b[37m\u001b[0m \u001b[1m0s\u001b[0m 4ms/step - loss: 0.0011 - mae: 0.0254 - val_loss: 0.0017 - val_mae: 0.0321\n",
            "Epoch 15/50\n",
            "\u001b[1m60/60\u001b[0m \u001b[32m━━━━━━━━━━━━━━━━━━━━\u001b[0m\u001b[37m\u001b[0m \u001b[1m0s\u001b[0m 4ms/step - loss: 0.0010 - mae: 0.0249 - val_loss: 0.0014 - val_mae: 0.0294\n",
            "Epoch 16/50\n",
            "\u001b[1m60/60\u001b[0m \u001b[32m━━━━━━━━━━━━━━━━━━━━\u001b[0m\u001b[37m\u001b[0m \u001b[1m0s\u001b[0m 5ms/step - loss: 0.0010 - mae: 0.0244 - val_loss: 0.0014 - val_mae: 0.0292\n",
            "Epoch 17/50\n",
            "\u001b[1m60/60\u001b[0m \u001b[32m━━━━━━━━━━━━━━━━━━━━\u001b[0m\u001b[37m\u001b[0m \u001b[1m1s\u001b[0m 4ms/step - loss: 0.0010 - mae: 0.0243 - val_loss: 0.0014 - val_mae: 0.0284\n",
            "Epoch 18/50\n",
            "\u001b[1m60/60\u001b[0m \u001b[32m━━━━━━━━━━━━━━━━━━━━\u001b[0m\u001b[37m\u001b[0m \u001b[1m0s\u001b[0m 4ms/step - loss: 9.9094e-04 - mae: 0.0240 - val_loss: 0.0013 - val_mae: 0.0277\n",
            "Epoch 19/50\n",
            "\u001b[1m60/60\u001b[0m \u001b[32m━━━━━━━━━━━━━━━━━━━━\u001b[0m\u001b[37m\u001b[0m \u001b[1m0s\u001b[0m 4ms/step - loss: 9.4850e-04 - mae: 0.0238 - val_loss: 0.0012 - val_mae: 0.0271\n",
            "Epoch 20/50\n",
            "\u001b[1m60/60\u001b[0m \u001b[32m━━━━━━━━━━━━━━━━━━━━\u001b[0m\u001b[37m\u001b[0m \u001b[1m0s\u001b[0m 4ms/step - loss: 0.0010 - mae: 0.0243 - val_loss: 0.0014 - val_mae: 0.0290\n",
            "Epoch 21/50\n",
            "\u001b[1m60/60\u001b[0m \u001b[32m━━━━━━━━━━━━━━━━━━━━\u001b[0m\u001b[37m\u001b[0m \u001b[1m0s\u001b[0m 4ms/step - loss: 8.7369e-04 - mae: 0.0223 - val_loss: 0.0011 - val_mae: 0.0259\n",
            "Epoch 22/50\n",
            "\u001b[1m60/60\u001b[0m \u001b[32m━━━━━━━━━━━━━━━━━━━━\u001b[0m\u001b[37m\u001b[0m \u001b[1m0s\u001b[0m 4ms/step - loss: 8.9488e-04 - mae: 0.0227 - val_loss: 0.0012 - val_mae: 0.0264\n",
            "Epoch 23/50\n",
            "\u001b[1m60/60\u001b[0m \u001b[32m━━━━━━━━━━━━━━━━━━━━\u001b[0m\u001b[37m\u001b[0m \u001b[1m0s\u001b[0m 4ms/step - loss: 8.5587e-04 - mae: 0.0224 - val_loss: 0.0011 - val_mae: 0.0254\n",
            "Epoch 24/50\n",
            "\u001b[1m60/60\u001b[0m \u001b[32m━━━━━━━━━━━━━━━━━━━━\u001b[0m\u001b[37m\u001b[0m \u001b[1m0s\u001b[0m 4ms/step - loss: 9.1763e-04 - mae: 0.0229 - val_loss: 0.0011 - val_mae: 0.0257\n",
            "Epoch 25/50\n",
            "\u001b[1m60/60\u001b[0m \u001b[32m━━━━━━━━━━━━━━━━━━━━\u001b[0m\u001b[37m\u001b[0m \u001b[1m0s\u001b[0m 5ms/step - loss: 8.5319e-04 - mae: 0.0223 - val_loss: 9.8556e-04 - val_mae: 0.0244\n",
            "Epoch 26/50\n",
            "\u001b[1m60/60\u001b[0m \u001b[32m━━━━━━━━━━━━━━━━━━━━\u001b[0m\u001b[37m\u001b[0m \u001b[1m0s\u001b[0m 4ms/step - loss: 8.4582e-04 - mae: 0.0221 - val_loss: 9.9896e-04 - val_mae: 0.0241\n",
            "Epoch 27/50\n",
            "\u001b[1m60/60\u001b[0m \u001b[32m━━━━━━━━━━━━━━━━━━━━\u001b[0m\u001b[37m\u001b[0m \u001b[1m0s\u001b[0m 3ms/step - loss: 8.6040e-04 - mae: 0.0225 - val_loss: 0.0011 - val_mae: 0.0248\n",
            "Epoch 28/50\n",
            "\u001b[1m60/60\u001b[0m \u001b[32m━━━━━━━━━━━━━━━━━━━━\u001b[0m\u001b[37m\u001b[0m \u001b[1m0s\u001b[0m 4ms/step - loss: 7.6296e-04 - mae: 0.0212 - val_loss: 9.4172e-04 - val_mae: 0.0242\n",
            "Epoch 29/50\n",
            "\u001b[1m60/60\u001b[0m \u001b[32m━━━━━━━━━━━━━━━━━━━━\u001b[0m\u001b[37m\u001b[0m \u001b[1m0s\u001b[0m 4ms/step - loss: 7.8444e-04 - mae: 0.0214 - val_loss: 0.0011 - val_mae: 0.0246\n",
            "Epoch 30/50\n",
            "\u001b[1m60/60\u001b[0m \u001b[32m━━━━━━━━━━━━━━━━━━━━\u001b[0m\u001b[37m\u001b[0m \u001b[1m0s\u001b[0m 3ms/step - loss: 7.0792e-04 - mae: 0.0203 - val_loss: 8.7556e-04 - val_mae: 0.0226\n",
            "Epoch 31/50\n",
            "\u001b[1m60/60\u001b[0m \u001b[32m━━━━━━━━━━━━━━━━━━━━\u001b[0m\u001b[37m\u001b[0m \u001b[1m0s\u001b[0m 4ms/step - loss: 6.7330e-04 - mae: 0.0198 - val_loss: 9.8863e-04 - val_mae: 0.0238\n",
            "Epoch 32/50\n",
            "\u001b[1m60/60\u001b[0m \u001b[32m━━━━━━━━━━━━━━━━━━━━\u001b[0m\u001b[37m\u001b[0m \u001b[1m0s\u001b[0m 4ms/step - loss: 8.4709e-04 - mae: 0.0226 - val_loss: 8.6793e-04 - val_mae: 0.0224\n",
            "Epoch 33/50\n",
            "\u001b[1m60/60\u001b[0m \u001b[32m━━━━━━━━━━━━━━━━━━━━\u001b[0m\u001b[37m\u001b[0m \u001b[1m0s\u001b[0m 4ms/step - loss: 6.8914e-04 - mae: 0.0202 - val_loss: 8.5938e-04 - val_mae: 0.0230\n",
            "Epoch 34/50\n",
            "\u001b[1m60/60\u001b[0m \u001b[32m━━━━━━━━━━━━━━━━━━━━\u001b[0m\u001b[37m\u001b[0m \u001b[1m0s\u001b[0m 5ms/step - loss: 7.1518e-04 - mae: 0.0202 - val_loss: 8.1569e-04 - val_mae: 0.0219\n",
            "Epoch 35/50\n",
            "\u001b[1m60/60\u001b[0m \u001b[32m━━━━━━━━━━━━━━━━━━━━\u001b[0m\u001b[37m\u001b[0m \u001b[1m0s\u001b[0m 5ms/step - loss: 7.5706e-04 - mae: 0.0206 - val_loss: 0.0011 - val_mae: 0.0247\n",
            "Epoch 36/50\n",
            "\u001b[1m60/60\u001b[0m \u001b[32m━━━━━━━━━━━━━━━━━━━━\u001b[0m\u001b[37m\u001b[0m \u001b[1m1s\u001b[0m 3ms/step - loss: 6.8750e-04 - mae: 0.0201 - val_loss: 8.8925e-04 - val_mae: 0.0225\n",
            "Epoch 37/50\n",
            "\u001b[1m60/60\u001b[0m \u001b[32m━━━━━━━━━━━━━━━━━━━━\u001b[0m\u001b[37m\u001b[0m \u001b[1m0s\u001b[0m 4ms/step - loss: 7.2410e-04 - mae: 0.0206 - val_loss: 7.8287e-04 - val_mae: 0.0220\n",
            "Epoch 38/50\n",
            "\u001b[1m60/60\u001b[0m \u001b[32m━━━━━━━━━━━━━━━━━━━━\u001b[0m\u001b[37m\u001b[0m \u001b[1m0s\u001b[0m 4ms/step - loss: 7.1152e-04 - mae: 0.0200 - val_loss: 8.1571e-04 - val_mae: 0.0216\n",
            "Epoch 39/50\n",
            "\u001b[1m60/60\u001b[0m \u001b[32m━━━━━━━━━━━━━━━━━━━━\u001b[0m\u001b[37m\u001b[0m \u001b[1m0s\u001b[0m 4ms/step - loss: 6.7338e-04 - mae: 0.0193 - val_loss: 7.8473e-04 - val_mae: 0.0218\n",
            "Epoch 40/50\n",
            "\u001b[1m60/60\u001b[0m \u001b[32m━━━━━━━━━━━━━━━━━━━━\u001b[0m\u001b[37m\u001b[0m \u001b[1m1s\u001b[0m 8ms/step - loss: 6.5060e-04 - mae: 0.0196 - val_loss: 7.8283e-04 - val_mae: 0.0220\n",
            "Epoch 41/50\n",
            "\u001b[1m60/60\u001b[0m \u001b[32m━━━━━━━━━━━━━━━━━━━━\u001b[0m\u001b[37m\u001b[0m \u001b[1m1s\u001b[0m 7ms/step - loss: 7.2001e-04 - mae: 0.0207 - val_loss: 7.9198e-04 - val_mae: 0.0213\n",
            "Epoch 42/50\n",
            "\u001b[1m60/60\u001b[0m \u001b[32m━━━━━━━━━━━━━━━━━━━━\u001b[0m\u001b[37m\u001b[0m \u001b[1m0s\u001b[0m 6ms/step - loss: 6.3438e-04 - mae: 0.0189 - val_loss: 7.1420e-04 - val_mae: 0.0209\n",
            "Epoch 43/50\n",
            "\u001b[1m60/60\u001b[0m \u001b[32m━━━━━━━━━━━━━━━━━━━━\u001b[0m\u001b[37m\u001b[0m \u001b[1m0s\u001b[0m 8ms/step - loss: 6.6942e-04 - mae: 0.0199 - val_loss: 7.4131e-04 - val_mae: 0.0211\n",
            "Epoch 44/50\n",
            "\u001b[1m60/60\u001b[0m \u001b[32m━━━━━━━━━━━━━━━━━━━━\u001b[0m\u001b[37m\u001b[0m \u001b[1m1s\u001b[0m 6ms/step - loss: 7.5205e-04 - mae: 0.0209 - val_loss: 0.0010 - val_mae: 0.0252\n",
            "Epoch 45/50\n",
            "\u001b[1m60/60\u001b[0m \u001b[32m━━━━━━━━━━━━━━━━━━━━\u001b[0m\u001b[37m\u001b[0m \u001b[1m0s\u001b[0m 4ms/step - loss: 7.5943e-04 - mae: 0.0212 - val_loss: 6.8575e-04 - val_mae: 0.0203\n",
            "Epoch 46/50\n",
            "\u001b[1m60/60\u001b[0m \u001b[32m━━━━━━━━━━━━━━━━━━━━\u001b[0m\u001b[37m\u001b[0m \u001b[1m0s\u001b[0m 4ms/step - loss: 6.0351e-04 - mae: 0.0190 - val_loss: 8.8517e-04 - val_mae: 0.0228\n",
            "Epoch 47/50\n",
            "\u001b[1m60/60\u001b[0m \u001b[32m━━━━━━━━━━━━━━━━━━━━\u001b[0m\u001b[37m\u001b[0m \u001b[1m0s\u001b[0m 4ms/step - loss: 7.1884e-04 - mae: 0.0202 - val_loss: 6.8490e-04 - val_mae: 0.0205\n",
            "Epoch 48/50\n",
            "\u001b[1m60/60\u001b[0m \u001b[32m━━━━━━━━━━━━━━━━━━━━\u001b[0m\u001b[37m\u001b[0m \u001b[1m0s\u001b[0m 4ms/step - loss: 5.7054e-04 - mae: 0.0183 - val_loss: 6.4965e-04 - val_mae: 0.0196\n",
            "Epoch 49/50\n",
            "\u001b[1m60/60\u001b[0m \u001b[32m━━━━━━━━━━━━━━━━━━━━\u001b[0m\u001b[37m\u001b[0m \u001b[1m0s\u001b[0m 4ms/step - loss: 7.2798e-04 - mae: 0.0207 - val_loss: 6.4758e-04 - val_mae: 0.0194\n",
            "Epoch 50/50\n",
            "\u001b[1m60/60\u001b[0m \u001b[32m━━━━━━━━━━━━━━━━━━━━\u001b[0m\u001b[37m\u001b[0m \u001b[1m0s\u001b[0m 4ms/step - loss: 7.0801e-04 - mae: 0.0204 - val_loss: 7.1449e-04 - val_mae: 0.0214\n",
            "\u001b[1m13/13\u001b[0m \u001b[32m━━━━━━━━━━━━━━━━━━━━\u001b[0m\u001b[37m\u001b[0m \u001b[1m0s\u001b[0m 5ms/step \n"
          ]
        },
        {
          "output_type": "stream",
          "name": "stderr",
          "text": [
            "WARNING:absl:You are saving your model as an HDF5 file via `model.save()` or `keras.saving.save_model(model)`. This file format is considered legacy. We recommend using instead the native Keras format, e.g. `model.save('my_model.keras')` or `keras.saving.save_model(model, 'my_model.keras')`. \n"
          ]
        }
      ]
    },
    {
      "cell_type": "code",
      "source": [
        "#calculating model performance\n",
        "from sklearn.metrics import mean_squared_error, mean_absolute_error\n",
        "mse = mean_squared_error(y_test_actual, predictions_actual)\n",
        "mae = mean_absolute_error(y_test_actual, predictions_actual)\n",
        "rmse = np.sqrt(mse)\n",
        "print(f\"Mean Squared Error: {mse:.4f}\")\n",
        "print(f\"Mean Absolute Error: {mae:.4f}\")\n",
        "print(f\"Root Mean Squared Error: {rmse:.4f}\")"
      ],
      "metadata": {
        "colab": {
          "base_uri": "https://localhost:8080/"
        },
        "id": "XbUhQqoZkyTl",
        "outputId": "041b0f7c-d9e3-4921-8cd5-0472bb35cbae"
      },
      "execution_count": 94,
      "outputs": [
        {
          "output_type": "stream",
          "name": "stdout",
          "text": [
            "Mean Squared Error: 0.0000\n",
            "Mean Absolute Error: 0.0052\n",
            "Root Mean Squared Error: 0.0067\n"
          ]
        }
      ]
    },
    {
      "cell_type": "code",
      "source": [
        "#Generating Plot\n",
        "os.makedirs(\"results\", exist_ok=True)\n",
        "import matplotlib.pyplot as plt\n",
        "plt.figure(figsize=(12, 6))\n",
        "plt.plot(y_test_actual, label='Actual Price', color='blue')\n",
        "plt.plot(predictions_actual, label='Predicted Price', color='red')\n",
        "plt.title('EUR/USD Price Prediction')\n",
        "plt.xlabel('Time')\n",
        "plt.ylabel('EUR/USD Price')\n",
        "plt.legend()\n",
        "plt.grid(True)\n",
        "plt.show()\n",
        "plt.savefig('results/prediction_plot.png')\n"
      ],
      "metadata": {
        "colab": {
          "base_uri": "https://localhost:8080/",
          "height": 529
        },
        "id": "DNlFYXESloCY",
        "outputId": "b2bc9d36-54fa-4f36-e510-6bb23abb33e7"
      },
      "execution_count": 95,
      "outputs": [
        {
          "output_type": "display_data",
          "data": {
            "text/plain": [
              "<Figure size 1200x600 with 1 Axes>"
            ],
            "image/png": "[encoded data removed]"
          },
          "metadata": {}
        },
        {
          "output_type": "display_data",
          "data": {
            "text/plain": [
              "<Figure size 640x480 with 0 Axes>"
            ]
          },
          "metadata": {}
        }
      ]
    },
    {
      "cell_type": "markdown",
      "source": [
        "Test for getting next days predicted price from the Model\n",
        "\n"
      ],
      "metadata": {
        "id": "txT_1FjkpXHH"
      }
    },
    {
      "cell_type": "code",
      "source": [
        "# import tensorflow.keras.models\n",
        "# from tensorflow.keras.metrics import MeanSquaredError\n",
        "# last_sequence_raw = forex_df['Close'].values[-SEQUENCE_LENGTH:]\n",
        "# last_sequence = last_sequence_raw.reshape(-1, 1)\n",
        "# last_sequence_scaled = scaler.transform(last_sequence)\n",
        "# input_data = last_sequence_scaled.reshape(1, SEQUENCE_LENGTH, 1)\n",
        "\n",
        "# model_loaded = tensorflow.keras.models.load_model(\"model_scaler/forex_model.h5\", custom_objects={'mse': MeanSquaredError()})\n",
        "# scaler = joblib.load(\"model_scaler/scaler.gz\")\n",
        "# predicted_price_scaled = model_loaded.predict(input_data)\n",
        "# predicted_price_actual = scaler.inverse_transform(predicted_price_scaled)\n",
        "# print(f\"Predicted Price for the next day: {predicted_price_actual[0][0]:.4f}\")\n"
      ],
      "metadata": {
        "id": "1Lda6RJlz5p0",
        "outputId": "0b790dae-2283-4931-a6c4-3fb264499127",
        "colab": {
          "base_uri": "https://localhost:8080/"
        }
      },
      "execution_count": 97,
      "outputs": [
        {
          "output_type": "stream",
          "name": "stderr",
          "text": [
            "WARNING:absl:Compiled the loaded model, but the compiled metrics have yet to be built. `model.compile_metrics` will be empty until you train or evaluate the model.\n"
          ]
        },
        {
          "output_type": "stream",
          "name": "stdout",
          "text": [
            "\u001b[1m1/1\u001b[0m \u001b[32m━━━━━━━━━━━━━━━━━━━━\u001b[0m\u001b[37m\u001b[0m \u001b[1m0s\u001b[0m 65ms/step\n",
            "Predicted Price for the next day: 1.1770\n"
          ]
        }
      ]
    }
  ]
}