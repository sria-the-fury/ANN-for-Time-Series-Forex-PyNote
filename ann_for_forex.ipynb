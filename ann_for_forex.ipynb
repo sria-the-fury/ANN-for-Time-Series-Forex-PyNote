{
  "metadata": {
    "kernelspec": {
      "name": "python3",
      "display_name": "Python 3"
    },
    "language_info": {
      "version": "3.x",
      "name": "python"
    },
    "colab": {
      "provenance": []
    }
  },
  "nbformat_minor": 0,
  "nbformat": 4,
  "cells": [
    {
      "metadata": {
        "scrolled": "auto",
        "collapsed": false,
        "tags": [],
        "id": "sVNimZPi1iyS"
      },
      "source": [
        "This notebook is an experiment to create an ANN model, especially **Feed-Forward Neural Network** for predicting the closing price of EURUSD based on daily closing price\n"
      ],
      "cell_type": "markdown"
    },
    {
      "source": [
        "#Necessary Imports\n",
        "import pandas as pd\n",
        "import numpy as np\n",
        "import yfinance as yf\n",
        "import os\n",
        "from datetime import date\n",
        "\n"
      ],
      "cell_type": "code",
      "metadata": {
        "tags": [],
        "scrolled": "auto",
        "id": "tvHUqYTy1iyV"
      },
      "outputs": [],
      "execution_count": 1
    },
    {
      "cell_type": "markdown",
      "source": [
        "Though I mentioned in my paper, I will use the date from https://forexsb.com/historical-forex-data. I feel using this data, will be a time comsuming  becaue eveytime, I need to donwnload it and clean for the model. And python script does not work to download. So, it is best to use **yfinance** package by yahoo finance for the time series forex data for EUR-USD. However, the forex market is closed on weekends, which means that no trading occurs from **Friday evening until Monday morning**. So, in the dataset, closing price of **Saturday and Sunday** are not included by the source provider."
      ],
      "metadata": {
        "id": "O8iUiRj_6n8f"
      }
    },
    {
      "cell_type": "code",
      "source": [
        "#Download Dataset\n",
        "TICKER = \"EURUSD=X\"\n",
        "RANGE_FROM = \"2015-01-01\"\n",
        "RANGE_TO = date.today().isoformat() #Data will be download till current day.\n",
        "\n",
        "SAVE_DIRECTIRY = \"forex_data\"\n",
        "FILE_NAME = \"eurusd_daily.csv\"\n",
        "\n",
        "def download_data(ticker, start, end, savePath):\n",
        "  print(f\"Downloading Data for EUR-USD from {RANGE_FROM} to {RANGE_TO}\")\n",
        "  try:\n",
        "    data = yf.download(ticker, start= start, end=end, progress= True)\n",
        "\n",
        "    if data.empty:\n",
        "      print(f\"No data found for the {TICKER}\")\n",
        "    else:\n",
        "      print(\"Successfully downloaded\")\n",
        "      os.makedirs(os.path.dirname(savePath), exist_ok=True)\n",
        "      data.to_csv(savePath)\n",
        "      print(\"Date saved\")\n",
        "\n",
        "  except Exception as e:\n",
        "    print(f\"An unexpected error: {e}\")\n",
        "\n",
        "\n",
        "full_save_path = os.path.join(SAVE_DIRECTIRY, FILE_NAME)\n",
        "download_data(TICKER, RANGE_FROM, RANGE_TO, full_save_path)\n"
      ],
      "metadata": {
        "id": "oO9GVad46X2p",
        "outputId": "c98a5ce6-fef7-4b09-d672-8a0e920f03ce",
        "colab": {
          "base_uri": "https://localhost:8080/"
        }
      },
      "execution_count": 2,
      "outputs": [
        {
          "output_type": "stream",
          "name": "stdout",
          "text": [
            "Downloading Data for EUR-USD from 2015-01-01 to 2025-07-15\n"
          ]
        },
        {
          "output_type": "stream",
          "name": "stderr",
          "text": [
            "/tmp/ipython-input-2-341652406.py:12: FutureWarning: YF.download() has changed argument auto_adjust default to True\n",
            "  data = yf.download(ticker, start= start, end=end, progress= True)\n",
            "[*********************100%***********************]  1 of 1 completed"
          ]
        },
        {
          "output_type": "stream",
          "name": "stdout",
          "text": [
            "Successfully downloaded\n",
            "Date saved\n"
          ]
        },
        {
          "output_type": "stream",
          "name": "stderr",
          "text": [
            "\n"
          ]
        }
      ]
    },
    {
      "cell_type": "code",
      "source": [
        "#load csv and view from directory\n",
        "if os.path.exists(full_save_path):\n",
        "  forex_df = pd.read_csv(full_save_path, skiprows=3, header=None)\n",
        "else:\n",
        "  print(\"File not found\")\n",
        "\n",
        "#Cleaning Dataset. Remove every other column except Date and Close\n",
        "forex_df.columns = ['Date', 'Close', 'High', 'Low', 'Open', 'Volume']\n",
        "forex_df.columns = forex_df.columns.str.replace(' ','')\n",
        "forex_df.drop(columns=['High', 'Low', 'Open', 'Volume'], inplace=True)\n",
        "\n",
        "\n",
        "print(forex_df.tail())"
      ],
      "metadata": {
        "id": "l1GSf-o0FRkE",
        "outputId": "de962875-aede-40d6-d368-16be40c7aaf8",
        "colab": {
          "base_uri": "https://localhost:8080/"
        }
      },
      "execution_count": 3,
      "outputs": [
        {
          "output_type": "stream",
          "name": "stdout",
          "text": [
            "            Date     Close\n",
            "2737  2025-07-08  1.173654\n",
            "2738  2025-07-09  1.172457\n",
            "2739  2025-07-10  1.173117\n",
            "2740  2025-07-11  1.170275\n",
            "2741  2025-07-14  1.168211\n"
          ]
        }
      ]
    },
    {
      "cell_type": "markdown",
      "source": [
        "Data Preparation for Feed-Forward neural Network"
      ],
      "metadata": {
        "id": "BfcsVrYhzRMZ"
      }
    },
    {
      "cell_type": "code",
      "source": [
        "from sklearn.preprocessing import MinMaxScaler\n",
        "import joblib\n",
        "closing_prices = forex_df['Close'].values.reshape(-1, 1)\n",
        "scaler = MinMaxScaler(feature_range=(0, 1))\n",
        "scaled_prices = scaler.fit_transform(closing_prices)\n",
        "os.makedirs(\"model_scaler\", exist_ok=True)\n",
        "joblib.dump(scaler, \"model_scaler/scaler.gz\")"
      ],
      "metadata": {
        "id": "YjzVBFMCzgud",
        "colab": {
          "base_uri": "https://localhost:8080/"
        },
        "outputId": "4788059c-b1b9-47bb-def9-a02778e1b0f6"
      },
      "execution_count": 4,
      "outputs": [
        {
          "output_type": "execute_result",
          "data": {
            "text/plain": [
              "['model_scaler/scaler.gz']"
            ]
          },
          "metadata": {},
          "execution_count": 4
        }
      ]
    },
    {
      "cell_type": "code",
      "source": [
        "SEQUENCE_LENGTH = 30\n",
        "TRAIN_SPLIT = 0.7\n",
        "VALIDATION_SPLIT = 0.15\n",
        "TEST_SPLIT = 1 - TRAIN_SPLIT - VALIDATION_SPLIT\n",
        "\n",
        "X, y = [], []\n",
        "for i in range(len(scaled_prices) - SEQUENCE_LENGTH):\n",
        "  X.append(scaled_prices[i:i+SEQUENCE_LENGTH])\n",
        "  y.append(scaled_prices[i+SEQUENCE_LENGTH])\n",
        "\n",
        "X = np.array(X)\n",
        "y = np.array(y)\n",
        "\n",
        "print(f\"Created {len(X)} seq len {SEQUENCE_LENGTH}\")\n",
        "\n",
        "train_size = int(TRAIN_SPLIT * len(X))\n",
        "val_size = int(VALIDATION_SPLIT * len(X))\n",
        "test_size = len(X) - train_size - val_size\n",
        "\n",
        "X_train, y_train = X[:train_size], y[:train_size]\n",
        "X_val, y_val = X[train_size:train_size+val_size], y[train_size:train_size+val_size]\n",
        "X_test, y_test = X[-test_size:], y[-test_size:]\n",
        "\n",
        "print(f\"Train Size: {len(X_train)}\")\n",
        "print(f\"Validation Size: {len(X_val)}\")\n",
        "print(f\"Test Size: {len(X_test)}\")\n",
        "\n",
        "#Saving Datasets\n",
        "SAVE_SETS_DIR = \"prepared_sets\"\n",
        "os.makedirs(SAVE_SETS_DIR, exist_ok=True)\n",
        "np.save(os.path.join(SAVE_SETS_DIR, \"X_train.npy\"), X_train)\n",
        "np.save(os.path.join(SAVE_SETS_DIR, \"y_train.npy\"), y_train)\n",
        "np.save(os.path.join(SAVE_SETS_DIR, \"X_val.npy\"), X_val)\n",
        "np.save(os.path.join(SAVE_SETS_DIR, \"y_val.npy\"), y_val)\n",
        "np.save(os.path.join(SAVE_SETS_DIR, \"X_test.npy\"), X_test)\n",
        "np.save(os.path.join(SAVE_SETS_DIR, \"y_test.npy\"), y_test)\n"
      ],
      "metadata": {
        "id": "nDv3F4UB01KZ",
        "outputId": "a9ccf947-e031-47fe-8de1-2ba0c0247b8f",
        "colab": {
          "base_uri": "https://localhost:8080/"
        }
      },
      "execution_count": 5,
      "outputs": [
        {
          "output_type": "stream",
          "name": "stdout",
          "text": [
            "Created 2712 seq len 30\n",
            "Train Size: 1898\n",
            "Validation Size: 406\n",
            "Test Size: 408\n"
          ]
        }
      ]
    },
    {
      "cell_type": "code",
      "source": [
        "from tensorflow.keras.models import Sequential\n",
        "from tensorflow.keras.layers import Dense, Input, Flatten\n",
        "\n",
        "#Creating Model\n",
        "EPOCHS = 50\n",
        "BATCH_SIZE = 32\n",
        "\n",
        "X_train = np.load(os.path.join(SAVE_SETS_DIR, \"X_train.npy\"))\n",
        "y_train = np.load(os.path.join(SAVE_SETS_DIR, \"y_train.npy\"))\n",
        "X_val = np.load(os.path.join(SAVE_SETS_DIR, \"X_val.npy\"))\n",
        "y_val = np.load(os.path.join(SAVE_SETS_DIR, \"y_val.npy\"))\n",
        "X_test = np.load(os.path.join(SAVE_SETS_DIR, \"X_test.npy\"))\n",
        "y_test = np.load(os.path.join(SAVE_SETS_DIR, \"y_test.npy\"))\n",
        "\n",
        "MODEL = Sequential(\n",
        "    [\n",
        "        Input(shape=(SEQUENCE_LENGTH, 1)),\n",
        "        Flatten(),  # Flatten the input to feed into Dense layers\n",
        "        Dense(64, activation='sigmoid'),\n",
        "        Dense(1, activation ='linear')\n",
        "    ]\n",
        ")\n",
        "\n",
        "MODEL.compile(optimizer='adam', loss='mse', metrics=['mae'])\n",
        "MODEL.summary()"
      ],
      "metadata": {
        "colab": {
          "base_uri": "https://localhost:8080/",
          "height": 225
        },
        "id": "mqhDDI-gZM1_",
        "outputId": "a0c2ada3-eef6-4d13-9791-84ec11b81ed7"
      },
      "execution_count": 6,
      "outputs": [
        {
          "output_type": "display_data",
          "data": {
            "text/plain": [
              "\u001b[1mModel: \"sequential\"\u001b[0m\n"
            ],
            "text/html": [
              "<pre style=\"white-space:pre;overflow-x:auto;line-height:normal;font-family:Menlo,'DejaVu Sans Mono',consolas,'Courier New',monospace\"><span style=\"font-weight: bold\">Model: \"sequential\"</span>\n",
              "</pre>\n"
            ]
          },
          "metadata": {}
        },
        {
          "output_type": "display_data",
          "data": {
            "text/plain": [
              "┏━━━━━━━━━━━━━━━━━━━━━━━━━━━━━━━━━┳━━━━━━━━━━━━━━━━━━━━━━━━┳━━━━━━━━━━━━━━━┓\n",
              "┃\u001b[1m \u001b[0m\u001b[1mLayer (type)                   \u001b[0m\u001b[1m \u001b[0m┃\u001b[1m \u001b[0m\u001b[1mOutput Shape          \u001b[0m\u001b[1m \u001b[0m┃\u001b[1m \u001b[0m\u001b[1m      Param #\u001b[0m\u001b[1m \u001b[0m┃\n",
              "┡━━━━━━━━━━━━━━━━━━━━━━━━━━━━━━━━━╇━━━━━━━━━━━━━━━━━━━━━━━━╇━━━━━━━━━━━━━━━┩\n",
              "│ flatten (\u001b[38;5;33mFlatten\u001b[0m)               │ (\u001b[38;5;45mNone\u001b[0m, \u001b[38;5;34m30\u001b[0m)             │             \u001b[38;5;34m0\u001b[0m │\n",
              "├─────────────────────────────────┼────────────────────────┼───────────────┤\n",
              "│ dense (\u001b[38;5;33mDense\u001b[0m)                   │ (\u001b[38;5;45mNone\u001b[0m, \u001b[38;5;34m64\u001b[0m)             │         \u001b[38;5;34m1,984\u001b[0m │\n",
              "├─────────────────────────────────┼────────────────────────┼───────────────┤\n",
              "│ dense_1 (\u001b[38;5;33mDense\u001b[0m)                 │ (\u001b[38;5;45mNone\u001b[0m, \u001b[38;5;34m1\u001b[0m)              │            \u001b[38;5;34m65\u001b[0m │\n",
              "└─────────────────────────────────┴────────────────────────┴───────────────┘\n"
            ],
            "text/html": [
              "<pre style=\"white-space:pre;overflow-x:auto;line-height:normal;font-family:Menlo,'DejaVu Sans Mono',consolas,'Courier New',monospace\">┏━━━━━━━━━━━━━━━━━━━━━━━━━━━━━━━━━┳━━━━━━━━━━━━━━━━━━━━━━━━┳━━━━━━━━━━━━━━━┓\n",
              "┃<span style=\"font-weight: bold\"> Layer (type)                    </span>┃<span style=\"font-weight: bold\"> Output Shape           </span>┃<span style=\"font-weight: bold\">       Param # </span>┃\n",
              "┡━━━━━━━━━━━━━━━━━━━━━━━━━━━━━━━━━╇━━━━━━━━━━━━━━━━━━━━━━━━╇━━━━━━━━━━━━━━━┩\n",
              "│ flatten (<span style=\"color: #0087ff; text-decoration-color: #0087ff\">Flatten</span>)               │ (<span style=\"color: #00d7ff; text-decoration-color: #00d7ff\">None</span>, <span style=\"color: #00af00; text-decoration-color: #00af00\">30</span>)             │             <span style=\"color: #00af00; text-decoration-color: #00af00\">0</span> │\n",
              "├─────────────────────────────────┼────────────────────────┼───────────────┤\n",
              "│ dense (<span style=\"color: #0087ff; text-decoration-color: #0087ff\">Dense</span>)                   │ (<span style=\"color: #00d7ff; text-decoration-color: #00d7ff\">None</span>, <span style=\"color: #00af00; text-decoration-color: #00af00\">64</span>)             │         <span style=\"color: #00af00; text-decoration-color: #00af00\">1,984</span> │\n",
              "├─────────────────────────────────┼────────────────────────┼───────────────┤\n",
              "│ dense_1 (<span style=\"color: #0087ff; text-decoration-color: #0087ff\">Dense</span>)                 │ (<span style=\"color: #00d7ff; text-decoration-color: #00d7ff\">None</span>, <span style=\"color: #00af00; text-decoration-color: #00af00\">1</span>)              │            <span style=\"color: #00af00; text-decoration-color: #00af00\">65</span> │\n",
              "└─────────────────────────────────┴────────────────────────┴───────────────┘\n",
              "</pre>\n"
            ]
          },
          "metadata": {}
        },
        {
          "output_type": "display_data",
          "data": {
            "text/plain": [
              "\u001b[1m Total params: \u001b[0m\u001b[38;5;34m2,049\u001b[0m (8.00 KB)\n"
            ],
            "text/html": [
              "<pre style=\"white-space:pre;overflow-x:auto;line-height:normal;font-family:Menlo,'DejaVu Sans Mono',consolas,'Courier New',monospace\"><span style=\"font-weight: bold\"> Total params: </span><span style=\"color: #00af00; text-decoration-color: #00af00\">2,049</span> (8.00 KB)\n",
              "</pre>\n"
            ]
          },
          "metadata": {}
        },
        {
          "output_type": "display_data",
          "data": {
            "text/plain": [
              "\u001b[1m Trainable params: \u001b[0m\u001b[38;5;34m2,049\u001b[0m (8.00 KB)\n"
            ],
            "text/html": [
              "<pre style=\"white-space:pre;overflow-x:auto;line-height:normal;font-family:Menlo,'DejaVu Sans Mono',consolas,'Courier New',monospace\"><span style=\"font-weight: bold\"> Trainable params: </span><span style=\"color: #00af00; text-decoration-color: #00af00\">2,049</span> (8.00 KB)\n",
              "</pre>\n"
            ]
          },
          "metadata": {}
        },
        {
          "output_type": "display_data",
          "data": {
            "text/plain": [
              "\u001b[1m Non-trainable params: \u001b[0m\u001b[38;5;34m0\u001b[0m (0.00 B)\n"
            ],
            "text/html": [
              "<pre style=\"white-space:pre;overflow-x:auto;line-height:normal;font-family:Menlo,'DejaVu Sans Mono',consolas,'Courier New',monospace\"><span style=\"font-weight: bold\"> Non-trainable params: </span><span style=\"color: #00af00; text-decoration-color: #00af00\">0</span> (0.00 B)\n",
              "</pre>\n"
            ]
          },
          "metadata": {}
        }
      ]
    },
    {
      "cell_type": "code",
      "source": [
        "history = MODEL.fit(X_train, y_train, epochs=EPOCHS, batch_size=BATCH_SIZE, validation_data=(X_val, y_val), verbose=1)\n",
        "predictions_scaled = MODEL.predict(X_test)\n",
        "os.makedirs(\"model_scaler\", exist_ok=True)\n",
        "MODEL.save(\"model_scaler/forex_model.h5\")\n",
        "scaler = MinMaxScaler(feature_range=(0, 1))\n",
        "\n",
        "scaler.fit(closing_prices)\n",
        "predictions_actual = scaler.inverse_transform(predictions_scaled)\n",
        "y_test_actual = scaler.inverse_transform(y_test.reshape(-1, 1))"
      ],
      "metadata": {
        "colab": {
          "base_uri": "https://localhost:8080/"
        },
        "id": "XHopfvEwbDdA",
        "outputId": "1637e345-b981-4b54-fc5f-d23a13e9d7d2"
      },
      "execution_count": 10,
      "outputs": [
        {
          "output_type": "stream",
          "name": "stdout",
          "text": [
            "Epoch 1/50\n",
            "\u001b[1m60/60\u001b[0m \u001b[32m━━━━━━━━━━━━━━━━━━━━\u001b[0m\u001b[37m\u001b[0m \u001b[1m1s\u001b[0m 5ms/step - loss: 0.0105 - mae: 0.0814 - val_loss: 0.0033 - val_mae: 0.0465\n",
            "Epoch 2/50\n",
            "\u001b[1m60/60\u001b[0m \u001b[32m━━━━━━━━━━━━━━━━━━━━\u001b[0m\u001b[37m\u001b[0m \u001b[1m0s\u001b[0m 3ms/step - loss: 0.0024 - mae: 0.0373 - val_loss: 0.0028 - val_mae: 0.0420\n",
            "Epoch 3/50\n",
            "\u001b[1m60/60\u001b[0m \u001b[32m━━━━━━━━━━━━━━━━━━━━\u001b[0m\u001b[37m\u001b[0m \u001b[1m0s\u001b[0m 2ms/step - loss: 0.0019 - mae: 0.0333 - val_loss: 0.0019 - val_mae: 0.0351\n",
            "Epoch 4/50\n",
            "\u001b[1m60/60\u001b[0m \u001b[32m━━━━━━━━━━━━━━━━━━━━\u001b[0m\u001b[37m\u001b[0m \u001b[1m0s\u001b[0m 2ms/step - loss: 0.0015 - mae: 0.0301 - val_loss: 0.0015 - val_mae: 0.0314\n",
            "Epoch 5/50\n",
            "\u001b[1m60/60\u001b[0m \u001b[32m━━━━━━━━━━━━━━━━━━━━\u001b[0m\u001b[37m\u001b[0m \u001b[1m0s\u001b[0m 3ms/step - loss: 0.0014 - mae: 0.0287 - val_loss: 0.0015 - val_mae: 0.0310\n",
            "Epoch 6/50\n",
            "\u001b[1m60/60\u001b[0m \u001b[32m━━━━━━━━━━━━━━━━━━━━\u001b[0m\u001b[37m\u001b[0m \u001b[1m0s\u001b[0m 3ms/step - loss: 0.0012 - mae: 0.0268 - val_loss: 0.0013 - val_mae: 0.0281\n",
            "Epoch 7/50\n",
            "\u001b[1m60/60\u001b[0m \u001b[32m━━━━━━━━━━━━━━━━━━━━\u001b[0m\u001b[37m\u001b[0m \u001b[1m0s\u001b[0m 3ms/step - loss: 9.5075e-04 - mae: 0.0237 - val_loss: 0.0012 - val_mae: 0.0271\n",
            "Epoch 8/50\n",
            "\u001b[1m60/60\u001b[0m \u001b[32m━━━━━━━━━━━━━━━━━━━━\u001b[0m\u001b[37m\u001b[0m \u001b[1m0s\u001b[0m 2ms/step - loss: 0.0010 - mae: 0.0247 - val_loss: 0.0012 - val_mae: 0.0266\n",
            "Epoch 9/50\n",
            "\u001b[1m60/60\u001b[0m \u001b[32m━━━━━━━━━━━━━━━━━━━━\u001b[0m\u001b[37m\u001b[0m \u001b[1m0s\u001b[0m 2ms/step - loss: 9.0682e-04 - mae: 0.0229 - val_loss: 0.0011 - val_mae: 0.0252\n",
            "Epoch 10/50\n",
            "\u001b[1m60/60\u001b[0m \u001b[32m━━━━━━━━━━━━━━━━━━━━\u001b[0m\u001b[37m\u001b[0m \u001b[1m0s\u001b[0m 2ms/step - loss: 8.6122e-04 - mae: 0.0226 - val_loss: 9.8033e-04 - val_mae: 0.0252\n",
            "Epoch 11/50\n",
            "\u001b[1m60/60\u001b[0m \u001b[32m━━━━━━━━━━━━━━━━━━━━\u001b[0m\u001b[37m\u001b[0m \u001b[1m0s\u001b[0m 2ms/step - loss: 8.5598e-04 - mae: 0.0222 - val_loss: 9.5767e-04 - val_mae: 0.0243\n",
            "Epoch 12/50\n",
            "\u001b[1m60/60\u001b[0m \u001b[32m━━━━━━━━━━━━━━━━━━━━\u001b[0m\u001b[37m\u001b[0m \u001b[1m0s\u001b[0m 2ms/step - loss: 8.5612e-04 - mae: 0.0221 - val_loss: 8.7278e-04 - val_mae: 0.0231\n",
            "Epoch 13/50\n",
            "\u001b[1m60/60\u001b[0m \u001b[32m━━━━━━━━━━━━━━━━━━━━\u001b[0m\u001b[37m\u001b[0m \u001b[1m0s\u001b[0m 2ms/step - loss: 7.9645e-04 - mae: 0.0212 - val_loss: 8.4780e-04 - val_mae: 0.0225\n",
            "Epoch 14/50\n",
            "\u001b[1m60/60\u001b[0m \u001b[32m━━━━━━━━━━━━━━━━━━━━\u001b[0m\u001b[37m\u001b[0m \u001b[1m0s\u001b[0m 2ms/step - loss: 6.4796e-04 - mae: 0.0195 - val_loss: 9.3724e-04 - val_mae: 0.0233\n",
            "Epoch 15/50\n",
            "\u001b[1m60/60\u001b[0m \u001b[32m━━━━━━━━━━━━━━━━━━━━\u001b[0m\u001b[37m\u001b[0m \u001b[1m0s\u001b[0m 2ms/step - loss: 8.1239e-04 - mae: 0.0218 - val_loss: 7.9883e-04 - val_mae: 0.0219\n",
            "Epoch 16/50\n",
            "\u001b[1m60/60\u001b[0m \u001b[32m━━━━━━━━━━━━━━━━━━━━\u001b[0m\u001b[37m\u001b[0m \u001b[1m0s\u001b[0m 2ms/step - loss: 7.4640e-04 - mae: 0.0210 - val_loss: 8.7838e-04 - val_mae: 0.0241\n",
            "Epoch 17/50\n",
            "\u001b[1m60/60\u001b[0m \u001b[32m━━━━━━━━━━━━━━━━━━━━\u001b[0m\u001b[37m\u001b[0m \u001b[1m0s\u001b[0m 2ms/step - loss: 8.0533e-04 - mae: 0.0219 - val_loss: 0.0010 - val_mae: 0.0250\n",
            "Epoch 18/50\n",
            "\u001b[1m60/60\u001b[0m \u001b[32m━━━━━━━━━━━━━━━━━━━━\u001b[0m\u001b[37m\u001b[0m \u001b[1m0s\u001b[0m 2ms/step - loss: 8.1341e-04 - mae: 0.0219 - val_loss: 7.3796e-04 - val_mae: 0.0209\n",
            "Epoch 19/50\n",
            "\u001b[1m60/60\u001b[0m \u001b[32m━━━━━━━━━━━━━━━━━━━━\u001b[0m\u001b[37m\u001b[0m \u001b[1m0s\u001b[0m 2ms/step - loss: 7.6067e-04 - mae: 0.0208 - val_loss: 6.9811e-04 - val_mae: 0.0206\n",
            "Epoch 20/50\n",
            "\u001b[1m60/60\u001b[0m \u001b[32m━━━━━━━━━━━━━━━━━━━━\u001b[0m\u001b[37m\u001b[0m \u001b[1m0s\u001b[0m 3ms/step - loss: 6.4205e-04 - mae: 0.0193 - val_loss: 7.4524e-04 - val_mae: 0.0208\n",
            "Epoch 21/50\n",
            "\u001b[1m60/60\u001b[0m \u001b[32m━━━━━━━━━━━━━━━━━━━━\u001b[0m\u001b[37m\u001b[0m \u001b[1m0s\u001b[0m 3ms/step - loss: 6.5872e-04 - mae: 0.0196 - val_loss: 6.7509e-04 - val_mae: 0.0201\n",
            "Epoch 22/50\n",
            "\u001b[1m60/60\u001b[0m \u001b[32m━━━━━━━━━━━━━━━━━━━━\u001b[0m\u001b[37m\u001b[0m \u001b[1m0s\u001b[0m 3ms/step - loss: 6.5150e-04 - mae: 0.0195 - val_loss: 7.1436e-04 - val_mae: 0.0213\n",
            "Epoch 23/50\n",
            "\u001b[1m60/60\u001b[0m \u001b[32m━━━━━━━━━━━━━━━━━━━━\u001b[0m\u001b[37m\u001b[0m \u001b[1m0s\u001b[0m 3ms/step - loss: 6.1089e-04 - mae: 0.0187 - val_loss: 8.7214e-04 - val_mae: 0.0244\n",
            "Epoch 24/50\n",
            "\u001b[1m60/60\u001b[0m \u001b[32m━━━━━━━━━━━━━━━━━━━━\u001b[0m\u001b[37m\u001b[0m \u001b[1m0s\u001b[0m 4ms/step - loss: 6.8278e-04 - mae: 0.0199 - val_loss: 7.0002e-04 - val_mae: 0.0202\n",
            "Epoch 25/50\n",
            "\u001b[1m60/60\u001b[0m \u001b[32m━━━━━━━━━━━━━━━━━━━━\u001b[0m\u001b[37m\u001b[0m \u001b[1m0s\u001b[0m 3ms/step - loss: 6.3632e-04 - mae: 0.0191 - val_loss: 6.8459e-04 - val_mae: 0.0210\n",
            "Epoch 26/50\n",
            "\u001b[1m60/60\u001b[0m \u001b[32m━━━━━━━━━━━━━━━━━━━━\u001b[0m\u001b[37m\u001b[0m \u001b[1m0s\u001b[0m 3ms/step - loss: 6.3373e-04 - mae: 0.0192 - val_loss: 8.5322e-04 - val_mae: 0.0226\n",
            "Epoch 27/50\n",
            "\u001b[1m60/60\u001b[0m \u001b[32m━━━━━━━━━━━━━━━━━━━━\u001b[0m\u001b[37m\u001b[0m \u001b[1m0s\u001b[0m 2ms/step - loss: 5.9017e-04 - mae: 0.0185 - val_loss: 7.3954e-04 - val_mae: 0.0222\n",
            "Epoch 28/50\n",
            "\u001b[1m60/60\u001b[0m \u001b[32m━━━━━━━━━━━━━━━━━━━━\u001b[0m\u001b[37m\u001b[0m \u001b[1m0s\u001b[0m 2ms/step - loss: 7.3166e-04 - mae: 0.0212 - val_loss: 6.2554e-04 - val_mae: 0.0197\n",
            "Epoch 29/50\n",
            "\u001b[1m60/60\u001b[0m \u001b[32m━━━━━━━━━━━━━━━━━━━━\u001b[0m\u001b[37m\u001b[0m \u001b[1m0s\u001b[0m 2ms/step - loss: 6.3368e-04 - mae: 0.0191 - val_loss: 6.1993e-04 - val_mae: 0.0195\n",
            "Epoch 30/50\n",
            "\u001b[1m60/60\u001b[0m \u001b[32m━━━━━━━━━━━━━━━━━━━━\u001b[0m\u001b[37m\u001b[0m \u001b[1m0s\u001b[0m 2ms/step - loss: 6.3906e-04 - mae: 0.0190 - val_loss: 6.8372e-04 - val_mae: 0.0202\n",
            "Epoch 31/50\n",
            "\u001b[1m60/60\u001b[0m \u001b[32m━━━━━━━━━━━━━━━━━━━━\u001b[0m\u001b[37m\u001b[0m \u001b[1m0s\u001b[0m 2ms/step - loss: 6.8094e-04 - mae: 0.0206 - val_loss: 6.3833e-04 - val_mae: 0.0203\n",
            "Epoch 32/50\n",
            "\u001b[1m60/60\u001b[0m \u001b[32m━━━━━━━━━━━━━━━━━━━━\u001b[0m\u001b[37m\u001b[0m \u001b[1m0s\u001b[0m 2ms/step - loss: 5.9189e-04 - mae: 0.0187 - val_loss: 7.0828e-04 - val_mae: 0.0204\n",
            "Epoch 33/50\n",
            "\u001b[1m60/60\u001b[0m \u001b[32m━━━━━━━━━━━━━━━━━━━━\u001b[0m\u001b[37m\u001b[0m \u001b[1m0s\u001b[0m 3ms/step - loss: 5.7115e-04 - mae: 0.0183 - val_loss: 6.2182e-04 - val_mae: 0.0200\n",
            "Epoch 34/50\n",
            "\u001b[1m60/60\u001b[0m \u001b[32m━━━━━━━━━━━━━━━━━━━━\u001b[0m\u001b[37m\u001b[0m \u001b[1m0s\u001b[0m 2ms/step - loss: 5.2924e-04 - mae: 0.0176 - val_loss: 5.8113e-04 - val_mae: 0.0186\n",
            "Epoch 35/50\n",
            "\u001b[1m60/60\u001b[0m \u001b[32m━━━━━━━━━━━━━━━━━━━━\u001b[0m\u001b[37m\u001b[0m \u001b[1m0s\u001b[0m 2ms/step - loss: 5.1494e-04 - mae: 0.0170 - val_loss: 5.7011e-04 - val_mae: 0.0186\n",
            "Epoch 36/50\n",
            "\u001b[1m60/60\u001b[0m \u001b[32m━━━━━━━━━━━━━━━━━━━━\u001b[0m\u001b[37m\u001b[0m \u001b[1m0s\u001b[0m 2ms/step - loss: 5.1913e-04 - mae: 0.0177 - val_loss: 6.1841e-04 - val_mae: 0.0200\n",
            "Epoch 37/50\n",
            "\u001b[1m60/60\u001b[0m \u001b[32m━━━━━━━━━━━━━━━━━━━━\u001b[0m\u001b[37m\u001b[0m \u001b[1m0s\u001b[0m 2ms/step - loss: 5.2990e-04 - mae: 0.0176 - val_loss: 7.0604e-04 - val_mae: 0.0218\n",
            "Epoch 38/50\n",
            "\u001b[1m60/60\u001b[0m \u001b[32m━━━━━━━━━━━━━━━━━━━━\u001b[0m\u001b[37m\u001b[0m \u001b[1m0s\u001b[0m 2ms/step - loss: 5.7244e-04 - mae: 0.0183 - val_loss: 5.6544e-04 - val_mae: 0.0186\n",
            "Epoch 39/50\n",
            "\u001b[1m60/60\u001b[0m \u001b[32m━━━━━━━━━━━━━━━━━━━━\u001b[0m\u001b[37m\u001b[0m \u001b[1m0s\u001b[0m 2ms/step - loss: 6.6190e-04 - mae: 0.0199 - val_loss: 5.7602e-04 - val_mae: 0.0184\n",
            "Epoch 40/50\n",
            "\u001b[1m60/60\u001b[0m \u001b[32m━━━━━━━━━━━━━━━━━━━━\u001b[0m\u001b[37m\u001b[0m \u001b[1m0s\u001b[0m 2ms/step - loss: 4.9762e-04 - mae: 0.0171 - val_loss: 6.0249e-04 - val_mae: 0.0197\n",
            "Epoch 41/50\n",
            "\u001b[1m60/60\u001b[0m \u001b[32m━━━━━━━━━━━━━━━━━━━━\u001b[0m\u001b[37m\u001b[0m \u001b[1m0s\u001b[0m 2ms/step - loss: 5.3609e-04 - mae: 0.0179 - val_loss: 5.5312e-04 - val_mae: 0.0185\n",
            "Epoch 42/50\n",
            "\u001b[1m60/60\u001b[0m \u001b[32m━━━━━━━━━━━━━━━━━━━━\u001b[0m\u001b[37m\u001b[0m \u001b[1m0s\u001b[0m 2ms/step - loss: 5.5083e-04 - mae: 0.0183 - val_loss: 6.9042e-04 - val_mae: 0.0205\n",
            "Epoch 43/50\n",
            "\u001b[1m60/60\u001b[0m \u001b[32m━━━━━━━━━━━━━━━━━━━━\u001b[0m\u001b[37m\u001b[0m \u001b[1m0s\u001b[0m 2ms/step - loss: 6.2540e-04 - mae: 0.0193 - val_loss: 5.9131e-04 - val_mae: 0.0195\n",
            "Epoch 44/50\n",
            "\u001b[1m60/60\u001b[0m \u001b[32m━━━━━━━━━━━━━━━━━━━━\u001b[0m\u001b[37m\u001b[0m \u001b[1m0s\u001b[0m 2ms/step - loss: 5.5448e-04 - mae: 0.0179 - val_loss: 5.5942e-04 - val_mae: 0.0188\n",
            "Epoch 45/50\n",
            "\u001b[1m60/60\u001b[0m \u001b[32m━━━━━━━━━━━━━━━━━━━━\u001b[0m\u001b[37m\u001b[0m \u001b[1m0s\u001b[0m 2ms/step - loss: 5.4843e-04 - mae: 0.0177 - val_loss: 6.7529e-04 - val_mae: 0.0212\n",
            "Epoch 46/50\n",
            "\u001b[1m60/60\u001b[0m \u001b[32m━━━━━━━━━━━━━━━━━━━━\u001b[0m\u001b[37m\u001b[0m \u001b[1m0s\u001b[0m 3ms/step - loss: 5.7416e-04 - mae: 0.0186 - val_loss: 5.2750e-04 - val_mae: 0.0178\n",
            "Epoch 47/50\n",
            "\u001b[1m60/60\u001b[0m \u001b[32m━━━━━━━━━━━━━━━━━━━━\u001b[0m\u001b[37m\u001b[0m \u001b[1m0s\u001b[0m 3ms/step - loss: 5.4218e-04 - mae: 0.0180 - val_loss: 6.8185e-04 - val_mae: 0.0203\n",
            "Epoch 48/50\n",
            "\u001b[1m60/60\u001b[0m \u001b[32m━━━━━━━━━━━━━━━━━━━━\u001b[0m\u001b[37m\u001b[0m \u001b[1m0s\u001b[0m 2ms/step - loss: 4.8142e-04 - mae: 0.0167 - val_loss: 5.2230e-04 - val_mae: 0.0178\n",
            "Epoch 49/50\n",
            "\u001b[1m60/60\u001b[0m \u001b[32m━━━━━━━━━━━━━━━━━━━━\u001b[0m\u001b[37m\u001b[0m \u001b[1m0s\u001b[0m 2ms/step - loss: 4.4562e-04 - mae: 0.0159 - val_loss: 6.0141e-04 - val_mae: 0.0197\n",
            "Epoch 50/50\n",
            "\u001b[1m60/60\u001b[0m \u001b[32m━━━━━━━━━━━━━━━━━━━━\u001b[0m\u001b[37m\u001b[0m \u001b[1m0s\u001b[0m 2ms/step - loss: 5.9146e-04 - mae: 0.0188 - val_loss: 6.6103e-04 - val_mae: 0.0209\n",
            "\u001b[1m13/13\u001b[0m \u001b[32m━━━━━━━━━━━━━━━━━━━━\u001b[0m\u001b[37m\u001b[0m \u001b[1m0s\u001b[0m 3ms/step \n"
          ]
        },
        {
          "output_type": "stream",
          "name": "stderr",
          "text": [
            "WARNING:absl:You are saving your model as an HDF5 file via `model.save()` or `keras.saving.save_model(model)`. This file format is considered legacy. We recommend using instead the native Keras format, e.g. `model.save('my_model.keras')` or `keras.saving.save_model(model, 'my_model.keras')`. \n"
          ]
        }
      ]
    },
    {
      "cell_type": "code",
      "source": [
        "#calculating model performance\n",
        "from sklearn.metrics import mean_squared_error, mean_absolute_error\n",
        "mse = mean_squared_error(y_test_actual, predictions_actual)\n",
        "mae = mean_absolute_error(y_test_actual, predictions_actual)\n",
        "rmse = np.sqrt(mse)\n",
        "print(f\"Mean Squared Error: {mse:.4f}\")\n",
        "print(f\"Mean Absolute Error: {mae:.4f}\")\n",
        "print(f\"Root Mean Squared Error: {rmse:.4f}\")"
      ],
      "metadata": {
        "colab": {
          "base_uri": "https://localhost:8080/"
        },
        "id": "XbUhQqoZkyTl",
        "outputId": "a530f861-be3a-493d-d000-fe5519936fd6"
      },
      "execution_count": 11,
      "outputs": [
        {
          "output_type": "stream",
          "name": "stdout",
          "text": [
            "Mean Squared Error: 0.0000\n",
            "Mean Absolute Error: 0.0050\n",
            "Root Mean Squared Error: 0.0064\n"
          ]
        }
      ]
    },
    {
      "cell_type": "code",
      "source": [
        "#Generating Plot\n",
        "os.makedirs(\"results\", exist_ok=True)\n",
        "import matplotlib.pyplot as plt\n",
        "plt.figure(figsize=(12, 6))\n",
        "plt.plot(y_test_actual, label='Actual Price', color='blue')\n",
        "plt.plot(predictions_actual, label='Predicted Price', color='red')\n",
        "plt.title('EUR/USD Price Prediction')\n",
        "plt.xlabel('Time')\n",
        "plt.ylabel('EUR/USD Price')\n",
        "plt.legend()\n",
        "plt.grid(True)\n",
        "plt.show()\n",
        "plt.savefig('results/prediction_plot.png')\n"
      ],
      "metadata": {
        "colab": {
          "base_uri": "https://localhost:8080/",
          "height": 581
        },
        "id": "DNlFYXESloCY",
        "outputId": "356702f2-e6df-4483-82dc-f68fec6fc484"
      },
      "execution_count": 12,
      "outputs": [
        {
          "output_type": "display_data",
          "data": {
            "text/plain": [
              "<Figure size 1200x600 with 1 Axes>"
            ],
            "image/png": "[encoded data removed]"
          },
          "metadata": {}
        },
        {
          "output_type": "display_data",
          "data": {
            "text/plain": [
              "<Figure size 640x480 with 0 Axes>"
            ]
          },
          "metadata": {}
        }
      ]
    },
    {
      "cell_type": "markdown",
      "source": [
        "Test for getting next days predicted price from the Model\n",
        "\n"
      ],
      "metadata": {
        "id": "txT_1FjkpXHH"
      }
    },
    {
      "cell_type": "code",
      "source": [
        "# import tensorflow.keras.models\n",
        "# from tensorflow.keras.metrics import MeanSquaredError\n",
        "# last_sequence_raw = forex_df['Close'].values[-SEQUENCE_LENGTH:]\n",
        "# last_sequence = last_sequence_raw.reshape(-1, 1)\n",
        "# last_sequence_scaled = scaler.transform(last_sequence)\n",
        "# input_data = last_sequence_scaled.reshape(1, SEQUENCE_LENGTH, 1)\n",
        "\n",
        "# model_loaded = tensorflow.keras.models.load_model(\"model_scaler/forex_model.h5\", custom_objects={'mse': MeanSquaredError()})\n",
        "# scaler = joblib.load(\"model_scaler/scaler.gz\")\n",
        "# predicted_price_scaled = model_loaded.predict(input_data)\n",
        "# predicted_price_actual = scaler.inverse_transform(predicted_price_scaled)\n",
        "# print(f\"Predicted Price for the next day: {predicted_price_actual[0][0]:.4f}\")\n"
      ],
      "metadata": {
        "id": "1Lda6RJlz5p0",
        "outputId": "87bef631-7160-4d8a-e1a3-8c7ec49553ba",
        "colab": {
          "base_uri": "https://localhost:8080/"
        }
      },
      "execution_count": 13,
      "outputs": [
        {
          "output_type": "stream",
          "name": "stderr",
          "text": [
            "WARNING:absl:Compiled the loaded model, but the compiled metrics have yet to be built. `model.compile_metrics` will be empty until you train or evaluate the model.\n"
          ]
        },
        {
          "output_type": "stream",
          "name": "stdout",
          "text": [
            "\u001b[1m1/1\u001b[0m \u001b[32m━━━━━━━━━━━━━━━━━━━━\u001b[0m\u001b[37m\u001b[0m \u001b[1m0s\u001b[0m 47ms/step\n",
            "Predicted Price for the next day: 1.1724\n"
          ]
        }
      ]
    }
  ]
}