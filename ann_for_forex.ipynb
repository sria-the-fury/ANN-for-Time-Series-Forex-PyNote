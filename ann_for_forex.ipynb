{
  "metadata" : {
    "kernelspec" : {
      "name" : "python3",
      "display_name" : "Python 3"
    },
    "language_info" : {
      "version" : "3.x",
      "name" : "python"
    }
  },
  "nbformat_minor" : 2,
  "nbformat" : 4,
  "cells" : [
    {
      "metadata" : {
        "scrolled" : "auto",
        "collapsed" : false,
        "tags" : [

        ]
      },
      "source" : [
        "This notebook is a experiment of creating model, especially Feed-Forward Neural Network for predicting the closing price of EURUSD based on daily closing price\n"
      ],
      "cell_type" : "markdown"
    },
    {
      "source" : [
        "#Necessary Imports\n",
        "import pandas as pd\n",
        "import numpy as np\n",
        "\n",
        "printa\n",
        "\n"
      ],
      "cell_type" : "code",
      "metadata" : {
        "tags" : [

        ],
        "collapsed" : false,
        "scrolled" : "auto"
      },
      "outputs" : [

      ],
      "execution_count" : 0
    }
  ]
}