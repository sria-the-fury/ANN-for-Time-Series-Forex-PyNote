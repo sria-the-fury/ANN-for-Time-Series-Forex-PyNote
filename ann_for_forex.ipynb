{
  "metadata": {
    "kernelspec": {
      "name": "python3",
      "display_name": "Python 3"
    },
    "language_info": {
      "version": "3.x",
      "name": "python"
    },
    "colab": {
      "provenance": []
    }
  },
  "nbformat_minor": 0,
  "nbformat": 4,
  "cells": [
    {
      "metadata": {
        "scrolled": "auto",
        "collapsed": false,
        "tags": [],
        "id": "sVNimZPi1iyS"
      },
      "source": [
        "This notebook is an experiment to create an ANN model, especially **Feed-Forward Neural Network** for predicting the closing price of EURUSD based on daily closing price\n"
      ],
      "cell_type": "markdown"
    },
    {
      "source": [
        "#Necessary Imports\n",
        "import pandas as pd\n",
        "import numpy as np\n",
        "import yfinance as yf\n",
        "import os\n",
        "from datetime import date\n",
        "\n"
      ],
      "cell_type": "code",
      "metadata": {
        "tags": [],
        "scrolled": "auto",
        "id": "tvHUqYTy1iyV"
      },
      "outputs": [],
      "execution_count": 12
    },
    {
      "cell_type": "markdown",
      "source": [
        "Though I mentioned in my paper, I will use the date from https://forexsb.com/historical-forex-data. I feel using this data, will be a time comsuming  becaue eveytime, I need to donwnload it and clean for the model. And python script does not work to download. So, it is best to use **yfinance** package for the time series forex data for EUR-USD."
      ],
      "metadata": {
        "id": "O8iUiRj_6n8f"
      }
    },
    {
      "cell_type": "code",
      "source": [
        "#Download Dataset\n",
        "TICKER = \"EURUSD=X\"\n",
        "RANGE_FROM = \"2015-01-01\"\n",
        "RANGE_TO = date.today().isoformat() #Data will be download till current day.\n",
        "\n",
        "SAVE_DIRECTIRY = \"forex_data\"\n",
        "FILE_NAME = \"eurusd_daily.csv\"\n",
        "\n",
        "def download_data(ticker, start, end, savePath):\n",
        "  print(f\"Downloading Data for EUR-USD from {RANGE_FROM} to {RANGE_TO}\")\n",
        "  try:\n",
        "    data = yf.download(ticker, start= start, end=end, progress= True)\n",
        "\n",
        "    if data.empty:\n",
        "      print(f\"No data found for the {TICKER}\")\n",
        "    else:\n",
        "      print(\"Successfully downloaded\")\n",
        "      os.makedirs(os.path.dirname(savePath), exist_ok=True)\n",
        "      data.to_csv(savePath)\n",
        "      print(\"Date saved\")\n",
        "\n",
        "  except Exception as e:\n",
        "    print(f\"An unexpected error: {e}\")\n",
        "\n",
        "\n",
        "full_save_path = os.path.join(SAVE_DIRECTIRY, FILE_NAME)\n",
        "download_data(TICKER, RANGE_FROM, RANGE_TO, full_save_path)\n"
      ],
      "metadata": {
        "id": "oO9GVad46X2p",
        "outputId": "e1eef5a3-803a-4b00-c3c0-ecfea50becbb",
        "colab": {
          "base_uri": "https://localhost:8080/"
        }
      },
      "execution_count": 13,
      "outputs": [
        {
          "output_type": "stream",
          "name": "stderr",
          "text": [
            "/tmp/ipython-input-13-341652406.py:12: FutureWarning: YF.download() has changed argument auto_adjust default to True\n",
            "  data = yf.download(ticker, start= start, end=end, progress= True)\n",
            "\r[*********************100%***********************]  1 of 1 completed"
          ]
        },
        {
          "output_type": "stream",
          "name": "stdout",
          "text": [
            "Downloading Data for EUR-USD from 2015-01-01 to 2025-07-13\n",
            "Successfully downloaded\n",
            "Date saved\n"
          ]
        },
        {
          "output_type": "stream",
          "name": "stderr",
          "text": [
            "\n"
          ]
        }
      ]
    },
    {
      "cell_type": "code",
      "source": [
        "#load csv and view from directory\n",
        "if os.path.exists(full_save_path):\n",
        "  forex_df = pd.read_csv(full_save_path, skiprows=3, header=None)\n",
        "else:\n",
        "  print(\"File not found\")"
      ],
      "metadata": {
        "id": "Q9s9FWEfDFcf"
      },
      "execution_count": 14,
      "outputs": []
    },
    {
      "cell_type": "code",
      "source": [
        "#Cleaning Dataset. Remove every other column except Date and Close\n",
        "forex_df.columns = ['Date', 'Close', 'High', 'Low', 'Open', 'Volume']\n",
        "forex_df.set_index('Date', inplace=True)\n",
        "forex_df.drop(columns=['High', 'Low', 'Open', 'Volume'], inplace=True)\n",
        "\n",
        "print(forex_df.head())"
      ],
      "metadata": {
        "id": "l1GSf-o0FRkE",
        "outputId": "adcda796-aea8-4b44-fb1c-9a8868f13c37",
        "colab": {
          "base_uri": "https://localhost:8080/"
        }
      },
      "execution_count": 15,
      "outputs": [
        {
          "output_type": "stream",
          "name": "stdout",
          "text": [
            "               Close\n",
            "Date                \n",
            "2015-01-01  1.209863\n",
            "2015-01-02  1.208941\n",
            "2015-01-05  1.194643\n",
            "2015-01-06  1.193902\n",
            "2015-01-07  1.187536\n"
          ]
        }
      ]
    },
    {
      "cell_type": "markdown",
      "source": [
        "Data Preparation for Feed-Forward neural Network"
      ],
      "metadata": {
        "id": "BfcsVrYhzRMZ"
      }
    },
    {
      "cell_type": "code",
      "source": [
        "from sklearn.preprocessing import MinMaxScaler\n",
        "closing_prices = forex_df['Close'].values.reshape(-1, 1)\n",
        "scaler = MinMaxScaler(feature_range=(0, 1))\n",
        "scaled_prices = scaler.fit_transform(closing_prices)"
      ],
      "metadata": {
        "id": "YjzVBFMCzgud"
      },
      "execution_count": 18,
      "outputs": []
    },
    {
      "cell_type": "code",
      "source": [
        "SEQUENCE_LENGTH = 30\n",
        "TRAIN_SPLIT = 0.7\n",
        "VALIDATION_SPLIT = 0.15\n",
        "TEST_SPLIT = 1 - TRAIN_SPLIT - VALIDATION_SPLIT\n",
        "\n",
        "X, y = [], []\n",
        "for i in range(len(scaled_prices) - SEQUENCE_LENGTH):\n",
        "  X.append(scaled_prices[i:i+SEQUENCE_LENGTH])\n",
        "  y.append(scaled_prices[i+SEQUENCE_LENGTH])\n",
        "\n",
        "X = np.array(X)\n",
        "y = np.array(y)\n",
        "\n",
        "print(f\"Created {len(X)} seq len {SEQUENCE_LENGTH}\")\n",
        "\n",
        "train_size = int(TRAIN_SPLIT * len(X))\n",
        "val_size = int(VALIDATION_SPLIT * len(X))\n",
        "test_size = len(X) - train_size - val_size\n",
        "\n",
        "X_train, y_train = X[:train_size], y[:train_size]\n",
        "X_val, y_val = X[train_size:train_size+val_size], y[train_size:train_size+val_size]\n",
        "X_test, y_test = X[-test_size:], y[-test_size:]\n",
        "\n",
        "print(f\"Train Size: {len(X_train)}\")\n",
        "print(f\"Validation Size: {len(X_val)}\")\n",
        "print(f\"Test Size: {len(X_test)}\")\n",
        "\n",
        "#Saving Datasets\n",
        "SAVE_SETS_DIR = \"prepared_sets\"\n",
        "os.makedirs(SAVE_SETS_DIR, exist_ok=True)\n",
        "np.save(os.path.join(SAVE_SETS_DIR, \"X_train.npy\"), X_train)\n",
        "np.save(os.path.join(SAVE_SETS_DIR, \"y_train.npy\"), y_train)\n",
        "np.save(os.path.join(SAVE_SETS_DIR, \"X_val.npy\"), X_val)\n",
        "np.save(os.path.join(SAVE_SETS_DIR, \"y_val.npy\"), y_val)\n",
        "np.save(os.path.join(SAVE_SETS_DIR, \"X_test.npy\"), X_test)\n",
        "np.save(os.path.join(SAVE_SETS_DIR, \"y_test.npy\"), y_test)\n"
      ],
      "metadata": {
        "id": "nDv3F4UB01KZ",
        "outputId": "724a5411-c7f4-4b24-e7c0-3fd56025998b",
        "colab": {
          "base_uri": "https://localhost:8080/"
        }
      },
      "execution_count": 25,
      "outputs": [
        {
          "output_type": "stream",
          "name": "stdout",
          "text": [
            "Created 2711 seq len 30\n",
            "Train Size: 1897\n",
            "Validation Size: 406\n",
            "Test Size: 408\n"
          ]
        }
      ]
    }
  ]
}