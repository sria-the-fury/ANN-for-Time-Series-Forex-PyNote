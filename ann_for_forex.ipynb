{
  "metadata": {
    "kernelspec": {
      "name": "python3",
      "display_name": "Python 3"
    },
    "language_info": {
      "version": "3.x",
      "name": "python"
    },
    "colab": {
      "provenance": []
    }
  },
  "nbformat_minor": 0,
  "nbformat": 4,
  "cells": [
    {
      "metadata": {
        "scrolled": "auto",
        "collapsed": false,
        "tags": [],
        "id": "sVNimZPi1iyS"
      },
      "source": [
        "This notebook is an experiment to create an ANN model, especially **Feed-Forward Neural Network** for predicting the closing price of EURUSD based on daily closing price\n"
      ],
      "cell_type": "markdown"
    },
    {
      "source": [
        "#Necessary Imports\n",
        "import pandas as pd\n",
        "import numpy as np\n",
        "import yfinance as yf\n",
        "import os\n",
        "from datetime import date\n",
        "\n"
      ],
      "cell_type": "code",
      "metadata": {
        "tags": [],
        "scrolled": "auto",
        "id": "tvHUqYTy1iyV"
      },
      "outputs": [],
      "execution_count": 1
    },
    {
      "cell_type": "markdown",
      "source": [
        "Though I mentioned in my paper, I will use the date from https://forexsb.com/historical-forex-data. I feel using this data, will be a time comsuming  becaue eveytime, I need to donwnload it and clean for the model. And python script does not work to download. So, it is best to use **yfinance** package for the time series forex data for EUR-USD."
      ],
      "metadata": {
        "id": "O8iUiRj_6n8f"
      }
    },
    {
      "cell_type": "code",
      "source": [
        "#Download Dataset\n",
        "TICKER = \"EURUSD=X\"\n",
        "RANGE_FROM = \"2015-01-01\"\n",
        "RANGE_TO = date.today().isoformat() #Data will be download till current day.\n",
        "\n",
        "SAVE_DIRECTIRY = \"forex_data\"\n",
        "FILE_NAME = \"eurusd_daily.csv\"\n",
        "\n",
        "def download_data(ticker, start, end, savePath):\n",
        "  print(f\"Downloading Data for EUR-USD from {RANGE_FROM} to {RANGE_TO}\")\n",
        "  try:\n",
        "    data = yf.download(ticker, start= start, end=end, progress= True)\n",
        "\n",
        "    if data.empty:\n",
        "      print(f\"No data found for the {TICKER}\")\n",
        "    else:\n",
        "      print(\"Successfully downloaded\")\n",
        "      os.makedirs(os.path.dirname(savePath), exist_ok=True)\n",
        "      data.to_csv(savePath)\n",
        "      print(\"Date saved\")\n",
        "\n",
        "  except Exception as e:\n",
        "    print(f\"An unexpected error: {e}\")\n",
        "\n",
        "\n",
        "full_save_path = os.path.join(SAVE_DIRECTIRY, FILE_NAME)\n",
        "download_data(TICKER, RANGE_FROM, RANGE_TO, full_save_path)\n"
      ],
      "metadata": {
        "id": "oO9GVad46X2p",
        "outputId": "beb08f2a-a98f-47da-f2c9-40ee17e886c9",
        "colab": {
          "base_uri": "https://localhost:8080/"
        }
      },
      "execution_count": 2,
      "outputs": [
        {
          "output_type": "stream",
          "name": "stdout",
          "text": [
            "Downloading Data for EUR-USD from 2015-01-01 to 2025-07-13\n"
          ]
        },
        {
          "output_type": "stream",
          "name": "stderr",
          "text": [
            "/tmp/ipython-input-2-341652406.py:12: FutureWarning: YF.download() has changed argument auto_adjust default to True\n",
            "  data = yf.download(ticker, start= start, end=end, progress= True)\n",
            "[*********************100%***********************]  1 of 1 completed"
          ]
        },
        {
          "output_type": "stream",
          "name": "stdout",
          "text": [
            "Successfully downloaded\n",
            "Date saved\n"
          ]
        },
        {
          "output_type": "stream",
          "name": "stderr",
          "text": [
            "\n"
          ]
        }
      ]
    },
    {
      "cell_type": "code",
      "source": [
        "#load csv and view from directory\n",
        "if os.path.exists(full_save_path):\n",
        "  forex_df = pd.read_csv(full_save_path, skiprows=3, header=None)\n",
        "else:\n",
        "  print(\"File not found\")\n",
        "\n",
        "#Cleaning Dataset. Remove every other column except Date and Close\n",
        "forex_df.columns = ['Date', 'Close', 'High', 'Low', 'Open', 'Volume']\n",
        "forex_df.columns = forex_df.columns.str.replace(' ','')\n",
        "forex_df.drop(columns=['High', 'Low', 'Open', 'Volume'], inplace=True)\n",
        "\n",
        "\n",
        "print(forex_df.tail())"
      ],
      "metadata": {
        "id": "l1GSf-o0FRkE",
        "outputId": "621a0187-1e3e-4bbc-bf0b-0420d27bf430",
        "colab": {
          "base_uri": "https://localhost:8080/"
        }
      },
      "execution_count": 37,
      "outputs": [
        {
          "output_type": "stream",
          "name": "stdout",
          "text": [
            "            Date     Close\n",
            "2736  2025-07-07  1.178078\n",
            "2737  2025-07-08  1.173654\n",
            "2738  2025-07-09  1.172457\n",
            "2739  2025-07-10  1.173117\n",
            "2740  2025-07-11  1.170275\n"
          ]
        }
      ]
    },
    {
      "cell_type": "markdown",
      "source": [
        "Data Preparation for Feed-Forward neural Network"
      ],
      "metadata": {
        "id": "BfcsVrYhzRMZ"
      }
    },
    {
      "cell_type": "code",
      "source": [
        "from sklearn.preprocessing import MinMaxScaler\n",
        "closing_prices = forex_df['Close'].values.reshape(-1, 1)\n",
        "scaler = MinMaxScaler(feature_range=(0, 1))\n",
        "scaled_prices = scaler.fit_transform(closing_prices)"
      ],
      "metadata": {
        "id": "YjzVBFMCzgud"
      },
      "execution_count": 36,
      "outputs": []
    },
    {
      "cell_type": "code",
      "source": [
        "SEQUENCE_LENGTH = 30\n",
        "TRAIN_SPLIT = 0.7\n",
        "VALIDATION_SPLIT = 0.15\n",
        "TEST_SPLIT = 1 - TRAIN_SPLIT - VALIDATION_SPLIT\n",
        "\n",
        "X, y = [], []\n",
        "for i in range(len(scaled_prices) - SEQUENCE_LENGTH):\n",
        "  X.append(scaled_prices[i:i+SEQUENCE_LENGTH])\n",
        "  y.append(scaled_prices[i+SEQUENCE_LENGTH])\n",
        "\n",
        "X = np.array(X)\n",
        "y = np.array(y)\n",
        "\n",
        "print(f\"Created {len(X)} seq len {SEQUENCE_LENGTH}\")\n",
        "\n",
        "train_size = int(TRAIN_SPLIT * len(X))\n",
        "val_size = int(VALIDATION_SPLIT * len(X))\n",
        "test_size = len(X) - train_size - val_size\n",
        "\n",
        "X_train, y_train = X[:train_size], y[:train_size]\n",
        "X_val, y_val = X[train_size:train_size+val_size], y[train_size:train_size+val_size]\n",
        "X_test, y_test = X[-test_size:], y[-test_size:]\n",
        "\n",
        "print(f\"Train Size: {len(X_train)}\")\n",
        "print(f\"Validation Size: {len(X_val)}\")\n",
        "print(f\"Test Size: {len(X_test)}\")\n",
        "\n",
        "#Saving Datasets\n",
        "SAVE_SETS_DIR = \"prepared_sets\"\n",
        "os.makedirs(SAVE_SETS_DIR, exist_ok=True)\n",
        "np.save(os.path.join(SAVE_SETS_DIR, \"X_train.npy\"), X_train)\n",
        "np.save(os.path.join(SAVE_SETS_DIR, \"y_train.npy\"), y_train)\n",
        "np.save(os.path.join(SAVE_SETS_DIR, \"X_val.npy\"), X_val)\n",
        "np.save(os.path.join(SAVE_SETS_DIR, \"y_val.npy\"), y_val)\n",
        "np.save(os.path.join(SAVE_SETS_DIR, \"X_test.npy\"), X_test)\n",
        "np.save(os.path.join(SAVE_SETS_DIR, \"y_test.npy\"), y_test)\n"
      ],
      "metadata": {
        "id": "nDv3F4UB01KZ",
        "outputId": "ce51a17a-4777-44b9-b10b-58a7b9f3be92",
        "colab": {
          "base_uri": "https://localhost:8080/"
        }
      },
      "execution_count": 7,
      "outputs": [
        {
          "output_type": "stream",
          "name": "stdout",
          "text": [
            "Created 2711 seq len 30\n",
            "Train Size: 1897\n",
            "Validation Size: 406\n",
            "Test Size: 408\n"
          ]
        }
      ]
    },
    {
      "cell_type": "code",
      "source": [
        "from tensorflow.keras.models import Sequential\n",
        "from tensorflow.keras.layers import Dense, Input\n",
        "\n",
        "#Creating Model\n",
        "EPOCHS = 50\n",
        "BATCH_SIZE = 32\n",
        "\n",
        "X_train = np.load(os.path.join(SAVE_SETS_DIR, \"X_train.npy\"))\n",
        "y_train = np.load(os.path.join(SAVE_SETS_DIR, \"y_train.npy\"))\n",
        "X_val = np.load(os.path.join(SAVE_SETS_DIR, \"X_val.npy\"))\n",
        "y_val = np.load(os.path.join(SAVE_SETS_DIR, \"y_val.npy\"))\n",
        "X_test = np.load(os.path.join(SAVE_SETS_DIR, \"X_test.npy\"))\n",
        "y_test = np.load(os.path.join(SAVE_SETS_DIR, \"y_test.npy\"))\n",
        "\n",
        "MODEL = Sequential(\n",
        "    [\n",
        "        Input(shape=(SEQUENCE_LENGTH, 1)),\n",
        "        Dense(64, activation='sigmoid'),\n",
        "        Dense(1, activation ='linear')\n",
        "    ]\n",
        ")\n",
        "\n",
        "MODEL.compile(optimizer='adam', loss='mse', metrics=['mae'])\n",
        "MODEL.summary()"
      ],
      "metadata": {
        "id": "mqhDDI-gZM1_",
        "outputId": "4d411479-2620-43f3-9558-b9c1a889a142",
        "colab": {
          "base_uri": "https://localhost:8080/",
          "height": 204
        }
      },
      "execution_count": 39,
      "outputs": [
        {
          "output_type": "display_data",
          "data": {
            "text/plain": [
              "\u001b[1mModel: \"sequential_1\"\u001b[0m\n"
            ],
            "text/html": [
              "<pre style=\"white-space:pre;overflow-x:auto;line-height:normal;font-family:Menlo,'DejaVu Sans Mono',consolas,'Courier New',monospace\"><span style=\"font-weight: bold\">Model: \"sequential_1\"</span>\n",
              "</pre>\n"
            ]
          },
          "metadata": {}
        },
        {
          "output_type": "display_data",
          "data": {
            "text/plain": [
              "┏━━━━━━━━━━━━━━━━━━━━━━━━━━━━━━━━━┳━━━━━━━━━━━━━━━━━━━━━━━━┳━━━━━━━━━━━━━━━┓\n",
              "┃\u001b[1m \u001b[0m\u001b[1mLayer (type)                   \u001b[0m\u001b[1m \u001b[0m┃\u001b[1m \u001b[0m\u001b[1mOutput Shape          \u001b[0m\u001b[1m \u001b[0m┃\u001b[1m \u001b[0m\u001b[1m      Param #\u001b[0m\u001b[1m \u001b[0m┃\n",
              "┡━━━━━━━━━━━━━━━━━━━━━━━━━━━━━━━━━╇━━━━━━━━━━━━━━━━━━━━━━━━╇━━━━━━━━━━━━━━━┩\n",
              "│ dense_2 (\u001b[38;5;33mDense\u001b[0m)                 │ (\u001b[38;5;45mNone\u001b[0m, \u001b[38;5;34m30\u001b[0m, \u001b[38;5;34m64\u001b[0m)         │           \u001b[38;5;34m128\u001b[0m │\n",
              "├─────────────────────────────────┼────────────────────────┼───────────────┤\n",
              "│ dense_3 (\u001b[38;5;33mDense\u001b[0m)                 │ (\u001b[38;5;45mNone\u001b[0m, \u001b[38;5;34m30\u001b[0m, \u001b[38;5;34m1\u001b[0m)          │            \u001b[38;5;34m65\u001b[0m │\n",
              "└─────────────────────────────────┴────────────────────────┴───────────────┘\n"
            ],
            "text/html": [
              "<pre style=\"white-space:pre;overflow-x:auto;line-height:normal;font-family:Menlo,'DejaVu Sans Mono',consolas,'Courier New',monospace\">┏━━━━━━━━━━━━━━━━━━━━━━━━━━━━━━━━━┳━━━━━━━━━━━━━━━━━━━━━━━━┳━━━━━━━━━━━━━━━┓\n",
              "┃<span style=\"font-weight: bold\"> Layer (type)                    </span>┃<span style=\"font-weight: bold\"> Output Shape           </span>┃<span style=\"font-weight: bold\">       Param # </span>┃\n",
              "┡━━━━━━━━━━━━━━━━━━━━━━━━━━━━━━━━━╇━━━━━━━━━━━━━━━━━━━━━━━━╇━━━━━━━━━━━━━━━┩\n",
              "│ dense_2 (<span style=\"color: #0087ff; text-decoration-color: #0087ff\">Dense</span>)                 │ (<span style=\"color: #00d7ff; text-decoration-color: #00d7ff\">None</span>, <span style=\"color: #00af00; text-decoration-color: #00af00\">30</span>, <span style=\"color: #00af00; text-decoration-color: #00af00\">64</span>)         │           <span style=\"color: #00af00; text-decoration-color: #00af00\">128</span> │\n",
              "├─────────────────────────────────┼────────────────────────┼───────────────┤\n",
              "│ dense_3 (<span style=\"color: #0087ff; text-decoration-color: #0087ff\">Dense</span>)                 │ (<span style=\"color: #00d7ff; text-decoration-color: #00d7ff\">None</span>, <span style=\"color: #00af00; text-decoration-color: #00af00\">30</span>, <span style=\"color: #00af00; text-decoration-color: #00af00\">1</span>)          │            <span style=\"color: #00af00; text-decoration-color: #00af00\">65</span> │\n",
              "└─────────────────────────────────┴────────────────────────┴───────────────┘\n",
              "</pre>\n"
            ]
          },
          "metadata": {}
        },
        {
          "output_type": "display_data",
          "data": {
            "text/plain": [
              "\u001b[1m Total params: \u001b[0m\u001b[38;5;34m193\u001b[0m (772.00 B)\n"
            ],
            "text/html": [
              "<pre style=\"white-space:pre;overflow-x:auto;line-height:normal;font-family:Menlo,'DejaVu Sans Mono',consolas,'Courier New',monospace\"><span style=\"font-weight: bold\"> Total params: </span><span style=\"color: #00af00; text-decoration-color: #00af00\">193</span> (772.00 B)\n",
              "</pre>\n"
            ]
          },
          "metadata": {}
        },
        {
          "output_type": "display_data",
          "data": {
            "text/plain": [
              "\u001b[1m Trainable params: \u001b[0m\u001b[38;5;34m193\u001b[0m (772.00 B)\n"
            ],
            "text/html": [
              "<pre style=\"white-space:pre;overflow-x:auto;line-height:normal;font-family:Menlo,'DejaVu Sans Mono',consolas,'Courier New',monospace\"><span style=\"font-weight: bold\"> Trainable params: </span><span style=\"color: #00af00; text-decoration-color: #00af00\">193</span> (772.00 B)\n",
              "</pre>\n"
            ]
          },
          "metadata": {}
        },
        {
          "output_type": "display_data",
          "data": {
            "text/plain": [
              "\u001b[1m Non-trainable params: \u001b[0m\u001b[38;5;34m0\u001b[0m (0.00 B)\n"
            ],
            "text/html": [
              "<pre style=\"white-space:pre;overflow-x:auto;line-height:normal;font-family:Menlo,'DejaVu Sans Mono',consolas,'Courier New',monospace\"><span style=\"font-weight: bold\"> Non-trainable params: </span><span style=\"color: #00af00; text-decoration-color: #00af00\">0</span> (0.00 B)\n",
              "</pre>\n"
            ]
          },
          "metadata": {}
        }
      ]
    }
  ]
}