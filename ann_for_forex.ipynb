{
  "metadata": {
    "kernelspec": {
      "name": "python3",
      "display_name": "Python 3"
    },
    "language_info": {
      "version": "3.x",
      "name": "python"
    },
    "colab": {
      "provenance": []
    }
  },
  "nbformat_minor": 0,
  "nbformat": 4,
  "cells": [
    {
      "metadata": {
        "scrolled": "auto",
        "collapsed": false,
        "tags": [],
        "id": "sVNimZPi1iyS"
      },
      "source": [
        "This notebook is an experiment to create an ANN model, especially **Feed-Forward Neural Network** for predicting the closing price of EURUSD based on daily closing price\n"
      ],
      "cell_type": "markdown"
    },
    {
      "source": [
        "#Necessary Imports\n",
        "import pandas as pd\n",
        "import numpy as np\n",
        "import yfinance as yf\n",
        "import os\n",
        "from datetime import date\n",
        "\n"
      ],
      "cell_type": "code",
      "metadata": {
        "tags": [],
        "scrolled": "auto",
        "id": "tvHUqYTy1iyV"
      },
      "outputs": [],
      "execution_count": 26
    },
    {
      "cell_type": "markdown",
      "source": [
        "Though I mentioned in my paper, I will use the date from https://forexsb.com/historical-forex-data. I feel using this data, will be a time comsuming  becaue eveytime, I need to donwnload it and clean for the model. And python script does not work to download. So, it is best to use **yfinance** package for the time series forex data for EURO-USD."
      ],
      "metadata": {
        "id": "O8iUiRj_6n8f"
      }
    },
    {
      "cell_type": "code",
      "source": [
        "#Download Dataset\n",
        "TICKER = \"EURUSD=X\"\n",
        "RANGE_FROM = \"2015-01-01\"\n",
        "RANGE_TO = date.today().isoformat() #Data will be download till current day.\n",
        "\n",
        "SAVE_DIRECTIRY = \"forex_data\"\n",
        "FILE_NAME = \"eurusd_daily.csv\"\n",
        "\n",
        "def download_data(ticker, start, end, savePath):\n",
        "  print(f\"Downloading Data for EUR-USD from {RANGE_FROM} to {RANGE_TO}\")\n",
        "  try:\n",
        "    data = yf.download(ticker, start= start, end=end, progress= True)\n",
        "\n",
        "    if data.empty:\n",
        "      print(f\"No data found for the {TICKER}\")\n",
        "    else:\n",
        "      print(\"Successfully downloaded\")\n",
        "      os.makedirs(os.path.dirname(savePath), exist_ok=True)\n",
        "      data.to_csv(savePath)\n",
        "      print(\"Date saved\")\n",
        "\n",
        "  except Exception as e:\n",
        "    print(f\"An unexpected error: {e}\")\n",
        "\n",
        "\n",
        "full_save_path = os.path.join(SAVE_DIRECTIRY, FILE_NAME)\n",
        "download_data(TICKER, RANGE_FROM, RANGE_TO, full_save_path)\n"
      ],
      "metadata": {
        "id": "oO9GVad46X2p",
        "outputId": "65a83c0d-58a5-484e-e574-aaadfad712b9",
        "colab": {
          "base_uri": "https://localhost:8080/"
        }
      },
      "execution_count": 27,
      "outputs": [
        {
          "output_type": "stream",
          "name": "stderr",
          "text": [
            "/tmp/ipython-input-27-4173580060.py:12: FutureWarning: YF.download() has changed argument auto_adjust default to True\n",
            "  data = yf.download(ticker, start= start, end=end, progress= True)\n",
            "\r[*********************100%***********************]  1 of 1 completed"
          ]
        },
        {
          "output_type": "stream",
          "name": "stdout",
          "text": [
            "Downloading Data for EUR-USD from 2015-01-01 to 2025-07-09\n",
            "Successfully downloaded\n",
            "Date saved\n"
          ]
        },
        {
          "output_type": "stream",
          "name": "stderr",
          "text": [
            "\n"
          ]
        }
      ]
    },
    {
      "cell_type": "code",
      "source": [
        "#load csv and view from directory\n",
        "if os.path.exists(full_save_path):\n",
        "  forex_df = pd.read_csv(full_save_path, skiprows=3, header=None)\n",
        "else:\n",
        "  print(\"File not found\")"
      ],
      "metadata": {
        "id": "Q9s9FWEfDFcf"
      },
      "execution_count": 37,
      "outputs": []
    },
    {
      "cell_type": "code",
      "source": [
        "#Cleaning Dataset. Remove every other column except Date and Close\n",
        "forex_df.columns = ['Date', 'Close', 'High', 'Low', 'Open', 'Volume']\n",
        "forex_df.set_index('Date', inplace=True)\n",
        "forex_df.drop(columns=['High', 'Low', 'Open', 'Volume'], inplace=True)\n",
        "\n",
        "print(forex_df.head())"
      ],
      "metadata": {
        "id": "l1GSf-o0FRkE",
        "outputId": "1c34e005-08ed-4dd9-a60c-42046bdfc189",
        "colab": {
          "base_uri": "https://localhost:8080/"
        }
      },
      "execution_count": 38,
      "outputs": [
        {
          "output_type": "stream",
          "name": "stdout",
          "text": [
            "               Close\n",
            "Date                \n",
            "2015-01-01  1.209863\n",
            "2015-01-02  1.208941\n",
            "2015-01-05  1.194643\n",
            "2015-01-06  1.193902\n",
            "2015-01-07  1.187536\n"
          ]
        }
      ]
    }
  ]
}